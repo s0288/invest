{
 "cells": [
  {
   "cell_type": "code",
   "execution_count": 1,
   "metadata": {
    "collapsed": true,
    "hide_input": true,
    "papermill": {
     "duration": 0.017788,
     "end_time": "2020-03-16T12:50:39.823975",
     "exception": false,
     "start_time": "2020-03-16T12:50:39.806187",
     "status": "completed"
    },
    "tags": [
     "parameters"
    ]
   },
   "outputs": [],
   "source": [
    "ticker = \"KORI.PA\""
   ]
  },
  {
   "cell_type": "code",
   "execution_count": 2,
   "metadata": {
    "papermill": {
     "duration": 0.015796,
     "end_time": "2020-03-16T12:50:39.847125",
     "exception": false,
     "start_time": "2020-03-16T12:50:39.831329",
     "status": "completed"
    },
    "tags": [
     "injected-parameters"
    ]
   },
   "outputs": [],
   "source": [
    "# Parameters\n",
    "ticker = \"GEN\"\n"
   ]
  },
  {
   "cell_type": "code",
   "execution_count": 3,
   "metadata": {
    "collapsed": false,
    "papermill": {
     "duration": 6.469454,
     "end_time": "2020-03-16T12:50:46.324046",
     "exception": false,
     "start_time": "2020-03-16T12:50:39.854592",
     "status": "completed"
    },
    "tags": []
   },
   "outputs": [],
   "source": [
    "import yfinance as yf\n",
    "import pandas as pd\n",
    "import matplotlib.pyplot as plt\n",
    "import matplotlib.gridspec as gridspec\n",
    "from pandas.plotting import register_matplotlib_converters\n",
    "register_matplotlib_converters()\n",
    "import os\n",
    "\n",
    "from newsapi import NewsApiClient\n",
    "import config\n",
    "import datetime\n",
    "\n",
    "stock = yf.Ticker(ticker)\n",
    "dax = yf.Ticker(\"^GDAXI\")\n",
    "sp = yf.Ticker(\"^GSPC\")\n",
    "\n",
    "#### stock history values\n",
    "history_5y = stock.history(period='5y')['Close']\n",
    "history_1y = stock.history(period='1y')['Close']\n",
    "history_since_corona = history_1y[history_1y.index >= '2020-02-20']\n",
    "\n",
    "dax_5y = dax.history(period='5y')['Close']\n",
    "dax_1y = dax.history(period='1y')['Close']\n",
    "sp_5y = sp.history(period='5y')['Close']\n",
    "sp_1y = sp.history(period='1y')['Close']\n",
    "\n",
    "\n",
    "def get_stock_info(label):\n",
    "    try:\n",
    "        value = stock.info[label]\n",
    "    except:\n",
    "        value = None\n",
    "    return value\n",
    "\n",
    "#### df values: \"name\", \"symbol\", \"sector\", \"industry\", \"country\", \"business_summary\", \"ret_since_corona\", \"ret_1y\", \"ret_5y\", \"ret_1y_wo_corona\", \"ret_5y_wo_corona\", \"perc_diff_dax_1y_wo_corona\", \"perc_diff_dax_5y_wo_corona\", \"perc_diff_sp_1y_wo_corona\", \"perc_diff_sp_5y_wo_corona\"\n",
    "name = get_stock_info(\"longName\")\n",
    "symbol = get_stock_info(\"symbol\")\n",
    "sector = get_stock_info(\"sector\")\n",
    "industry = get_stock_info(\"industry\")\n",
    "country = get_stock_info(\"country\")\n",
    "business_summary = get_stock_info(\"longBusinessSummary\")\n",
    "\n",
    "ret_since_corona = history_since_corona.pct_change().sum()\n",
    "ret_1y = history_1y.pct_change().sum()\n",
    "ret_5y = history_5y.pct_change().sum()\n",
    "ret_1y_wo_corona = history_1y[history_1y.index <= '2020-02-21'].pct_change().sum()\n",
    "ret_5y_wo_corona = history_5y[history_5y.index <= '2020-02-21'].pct_change().sum()\n",
    "\n",
    "dax_1y_wo_corona = dax_1y[dax_1y.index <= '2020-02-21'].pct_change().sum()\n",
    "dax_5y_wo_corona = dax_5y[dax_5y.index <= '2020-02-21'].pct_change().sum()\n",
    "sp_1y_wo_corona = sp_1y[sp_1y.index <= '2020-02-21'].pct_change().sum()\n",
    "sp_5y_wo_corona = sp_5y[sp_5y.index <= '2020-02-21'].pct_change().sum()\n",
    "\n",
    "perc_diff_dax_1y_wo_corona = ret_1y_wo_corona - dax_1y_wo_corona\n",
    "perc_diff_dax_5y_wo_corona = ret_5y_wo_corona - dax_5y_wo_corona\n",
    "perc_diff_sp_1y_wo_corona = ret_1y_wo_corona - sp_1y_wo_corona\n",
    "perc_diff_sp_5y_wo_corona = ret_5y_wo_corona - sp_5y_wo_corona\n",
    "\n",
    "\n",
    "if os.path.isfile('stock_returns.pkl'):\n",
    "    # load existing pickle\n",
    "    df = pd.read_pickle(\"stock_returns.pkl\")\n",
    "    # check if stock in pickle already, if not, add stock\n",
    "else:\n",
    "    # create new dataframe (only do once)\n",
    "    df = pd.DataFrame(columns=[\"name\", \"symbol\", \"sector\", \"industry\", \"country\", \"business_summary\", \"ret_since_corona\", \"ret_1y\", \"ret_5y\", \"ret_1y_wo_corona\", \"ret_5y_wo_corona\", \"perc_diff_dax_1y_wo_corona\", \"perc_diff_dax_5y_wo_corona\", \"perc_diff_sp_1y_wo_corona\", \"perc_diff_sp_5y_wo_corona\"])\n",
    "\n",
    "if sum(symbol == df.symbol) == 0:\n",
    "    df.loc[len(df)] = [name, symbol, sector, industry, country, business_summary, ret_since_corona, ret_1y, ret_5y, ret_1y_wo_corona, ret_5y_wo_corona, perc_diff_dax_1y_wo_corona, perc_diff_dax_5y_wo_corona, perc_diff_sp_1y_wo_corona, perc_diff_sp_5y_wo_corona]\n",
    "    df.to_pickle(\"stock_returns.pkl\")"
   ]
  },
  {
   "cell_type": "markdown",
   "metadata": {
    "papermill": {
     "duration": 0.011579,
     "end_time": "2020-03-16T12:50:46.343234",
     "exception": false,
     "start_time": "2020-03-16T12:50:46.331655",
     "status": "completed"
    },
    "tags": []
   },
   "source": [
    "# Company info "
   ]
  },
  {
   "cell_type": "code",
   "execution_count": 4,
   "metadata": {
    "collapsed": false,
    "papermill": {
     "duration": 0.014289,
     "end_time": "2020-03-16T12:50:46.367467",
     "exception": false,
     "start_time": "2020-03-16T12:50:46.353178",
     "status": "completed"
    },
    "tags": []
   },
   "outputs": [
    {
     "name": "stdout",
     "output_type": "stream",
     "text": [
      "\n",
      "Company name: Genesis Healthcare, Inc.\n",
      "Symbol: GEN\n",
      "Sector: Healthcare\n",
      "Industry: Medical Care Facilities\n",
      "Country: United States\n",
      "\n",
      "Business summary: Genesis Healthcare, Inc., together with its subsidiaries, owns and operates skilled nursing facilities and assisted/senior living facilities in the United States. The company operates through three segments: Inpatient Services, Rehabilitation Therapy Services, and All Other Services. It also provides a range of rehabilitation therapy services, including speech-language pathology, physical therapy, occupational therapy, and respiratory therapy. In addition, the company offers other specialty medical services, such as physician, staffing, and other healthcare related services. As of December 31, 2018, it provided inpatient services through a network of 425 skilled nursing and assisted/senior living facilities, including 399 skilled nursing facilities and 26 stand-alone assisted/senior living facilities across 29 states. Genesis HealthCare, Inc. also supplies rehabilitation and respiratory therapy to approximately 1,400 healthcare locations in 46 states and the District of Columbia. The company was formerly known as FC-GEN Operations Investment, LLC and changed its name to Genesis HealthCare, Inc. in February 2015. Genesis HealthCare, Inc. was founded in 2003 and is headquartered in Kennett Square, Pennsylvania.\n",
      "\n"
     ]
    }
   ],
   "source": [
    "print(f\"\"\"\n",
    "Company name: {name}\n",
    "Symbol: {symbol}\n",
    "Sector: {sector}\n",
    "Industry: {industry}\n",
    "Country: {country}\\n\n",
    "Business summary: {business_summary}\n",
    "\"\"\")"
   ]
  },
  {
   "cell_type": "markdown",
   "metadata": {
    "papermill": {
     "duration": 0.007709,
     "end_time": "2020-03-16T12:50:46.382403",
     "exception": false,
     "start_time": "2020-03-16T12:50:46.374694",
     "status": "completed"
    },
    "tags": []
   },
   "source": [
    "# Performance"
   ]
  },
  {
   "cell_type": "code",
   "execution_count": 5,
   "metadata": {
    "collapsed": false,
    "papermill": {
     "duration": 0.806157,
     "end_time": "2020-03-16T12:50:47.195500",
     "exception": false,
     "start_time": "2020-03-16T12:50:46.389343",
     "status": "completed"
    },
    "tags": []
   },
   "outputs": [
    {
     "data": {
      "image/png": "[encoded data removed]",
      "text/plain": [
       "<matplotlib.figure.Figure at 0x1146c7438>"
      ]
     },
     "metadata": {},
     "output_type": "display_data"
    },
    {
     "name": "stdout",
     "output_type": "stream",
     "text": [
      "1y:              percent return: 8.19%\n",
      "Since Corona:    percent return: -30.36%\n",
      "\n",
      "5y percent return before 21.02.20: -25.21%. Diff to dax: -43.69%\n",
      "1y percent return before 21.02.20: 39.73%. Diff to dax: 23.55%\n"
     ]
    }
   ],
   "source": [
    "# Create 2x2 sub plots\n",
    "gs = gridspec.GridSpec(4, 1)\n",
    "\n",
    "plt.figure(figsize = (10,10))\n",
    "\n",
    "plt.subplot(gs[0, 0])\n",
    "plt.plot(history_5y)\n",
    "plt.title(f\"5y: trading history {stock.info['symbol']}\")\n",
    "plt.text(history_5y.index[0], history_5y[0]+10, f\"starting_value: {history_5y[0]}\")\n",
    "plt.text(history_5y.index[0], history_5y[0]+5, f\"closing_value: {history_5y[-1]}\")\n",
    "plt.ylim(min(history_5y)-5, max(history_5y)+15)\n",
    "\n",
    "plt.subplot(gs[1, 0])\n",
    "plt.plot(history_1y)\n",
    "plt.title(f\"1y: trading history {stock.info['symbol']}\")\n",
    "plt.text(history_1y.index[0], history_1y[0]+10, f\"starting_value: {history_1y[0]}\")\n",
    "plt.text(history_1y.index[0], history_1y[0]+5, f\"closing_value: {history_1y[-1]}\")\n",
    "plt.ylim(min(history_1y)-5, max(history_1y)+15)\n",
    "\n",
    "plt.subplot(gs[2, 0])\n",
    "plt.plot(history_since_corona)\n",
    "plt.title(f\"Since Corona: trading history {stock.info['symbol']}\")\n",
    "plt.text(history_since_corona.index[0], history_since_corona[0]+10, f\"starting_value: {history_since_corona[0]}\")\n",
    "plt.text(history_since_corona.index[0], history_since_corona[0]+5, f\"closing_value: {history_since_corona[-1]}\")\n",
    "plt.ylim(min(history_since_corona)-5, max(history_since_corona)+15)\n",
    "plt.xticks(rotation=45)\n",
    "\n",
    "\n",
    "plt.tight_layout()\n",
    "plt.show()\n",
    "\n",
    "## calc returns\n",
    "print(f\"1y:              percent return: {ret_1y:.2%}\")\n",
    "print(f\"Since Corona:    percent return: {ret_since_corona:.2%}\\n\")\n",
    "\n",
    "## calc returns w/o Corona & compare with DAX\n",
    "print(f\"5y percent return before 21.02.20: {ret_5y_wo_corona:.2%}. Diff to dax: {perc_diff_dax_5y_wo_corona:.2%}\")\n",
    "print(f\"1y percent return before 21.02.20: {ret_1y_wo_corona:.2%}. Diff to dax: {perc_diff_dax_1y_wo_corona:.2%}\")"
   ]
  },
  {
   "cell_type": "markdown",
   "metadata": {
    "collapsed": true,
    "papermill": {
     "duration": 0.014764,
     "end_time": "2020-03-16T12:50:47.219741",
     "exception": false,
     "start_time": "2020-03-16T12:50:47.204977",
     "status": "completed"
    },
    "tags": []
   },
   "source": [
    "# News cycle"
   ]
  },
  {
   "cell_type": "code",
   "execution_count": 6,
   "metadata": {
    "collapsed": false,
    "papermill": {
     "duration": 1.431105,
     "end_time": "2020-03-16T12:50:48.662476",
     "exception": false,
     "start_time": "2020-03-16T12:50:47.231371",
     "status": "completed"
    },
    "tags": []
   },
   "outputs": [
    {
     "name": "stdout",
     "output_type": "stream",
     "text": [
      "total results: 30\n",
      "\n",
      "\n",
      "2020-03-15T17:17:56Z\n",
      "  Le «destructeur de civilisation» Genesis P-Orridge s'efface pour de bon\n",
      "  Libération\n",
      "  https://next.liberation.fr/musique/2020/03/15/le-destructeur-de-civilisation-genesis-p-orridge-s-efface-pour-de-bon_1781753?xtor=rss-450\n",
      "\n",
      "2020-03-13T16:56:03Z\n",
      "  100 % pur prog\n",
      "  Libération\n",
      "  https://next.liberation.fr/musique/2020/03/13/100-pur-prog_1781606?xtor=rss-450\n",
      "\n",
      "2020-03-07T06:34:34Z\n",
      "  Tiger Still Not Ready, Will Miss The Players Championship\n",
      "  Bloomberg\n",
      "  https://www.bloomberg.com/news/articles/2020-03-06/tiger-still-not-ready-will-miss-the-players-championship\n",
      "\n",
      "2020-03-06T22:08:32Z\n",
      "  Woods to skip Players Championship with back issue: report\n",
      "  Reuters\n",
      "  https://www.reuters.com/article/us-golf-players-idUSKBN20T2XW\n",
      "\n",
      "2020-03-06T20:58:14Z\n",
      "  Woods to skip Players Championship with back issue-report\n",
      "  Reuters\n",
      "  https://in.reuters.com/article/uk-golf-players-idINKBN20T2TP\n",
      "\n",
      "2020-03-06T20:58:14Z\n",
      "  Woods to skip Players Championship with back issue-report\n",
      "  Reuters\n",
      "  https://uk.reuters.com/article/uk-golf-players-idUKKBN20T2TP\n",
      "\n",
      "2020-03-05T16:26:00Z\n",
      "  Golf - Le golf, nouveau sport cool ?\n",
      "  L'equipe\n",
      "  https://www.lequipe.fr/Sport-et-style/Mode/Actualites/Le-golf-nouveau-sport-cool/1116663\n",
      "\n",
      "2020-03-03T07:21:13Z\n",
      "  Is it a currency? A commodity? Bitcoin has an identity crisis\n",
      "  Reuters\n",
      "  https://in.reuters.com/article/crypto-currencies-idINKBN20Q0ML\n",
      "\n",
      "2020-03-03T07:07:19Z\n",
      "  Is it a currency? A commodity? Bitcoin has an identity crisis\n",
      "  Reuters\n",
      "  https://ca.reuters.com/article/technologyNews/idCAKBN20Q0LK-OCATC\n",
      "\n",
      "2020-03-03T07:07:19Z\n",
      "  Is it a currency? A commodity? Bitcoin has an identity crisis\n",
      "  Reuters\n",
      "  https://www.reuters.com/article/us-crypto-currencies-idUSKBN20Q0LK\n",
      "\n",
      "2020-03-02T16:57:10Z\n",
      "  Tiger falls out of top 10 in World Golf Rankings\n",
      "  Reuters\n",
      "  https://www.reuters.com/article/us-golf-pga-tiger-rankings-idUSKBN20P2JE\n",
      "\n",
      "2020-03-02T16:57:10Z\n",
      "  Tiger falls out of top 10 in World Golf Rankings\n",
      "  Reuters\n",
      "  https://ca.reuters.com/article/sportsNews/idCAKBN20P2JE-OCASP\n",
      "\n",
      "2020-02-28T23:26:00Z\n",
      "  Golf - PGA Tour - Tiger Woods, gêné au dos, fera l'impasse sur l'Arnold Palmer Invitational\n",
      "  L'equipe\n",
      "  https://www.lequipe.fr/Golf/Actualites/Tiger-woods-gene-au-dos-fera-l-impasse-sur-l-arnold-palmer-invitational/1114677#xtor=RSS-1\n",
      "\n",
      "2020-02-28T20:40:51Z\n",
      "  Woods' back still stiff, will skip Palmer Invitational: agent\n",
      "  Reuters\n",
      "  https://www.reuters.com/article/us-golf-palmer-woods-idUSKCN20M33U\n",
      "\n",
      "2020-02-28T07:07:20Z\n",
      "  Hyundai Motor halts work at factory after worker tests positive for coronavirus\n",
      "  Reuters\n",
      "  https://ca.reuters.com/article/businessNews/idCAKCN20M08I\n",
      "\n",
      "2020-02-28T03:57:45Z\n",
      "  Hyundai shuts down factory after worker tests positive for coronavirus\n",
      "  Reuters\n",
      "  https://uk.reuters.com/article/us-china-health-southkorea-hyundai-motor-idUKKCN20M08I\n",
      "\n",
      "2020-02-28T03:04:14Z\n",
      "  Hyundai suspends output at one factory after worker tests positive for coronavirus - source\n",
      "  Reuters\n",
      "  https://in.reuters.com/article/china-health-southkorea-hyundai-motor-idINKCN20M0AA\n",
      "\n",
      "2020-02-28T02:58:06Z\n",
      "  UPDATE 1-Hyundai suspends output at one factory after worker tests positive for coronavirus -source\n",
      "  Reuters\n",
      "  https://uk.reuters.com/article/uk-china-health-southkorea-hyundai-motor-idUKKCN20M08Z\n",
      "\n",
      "2020-02-22T00:57:00Z\n",
      "  Reports: Woods skipping Honda Classic for second straight year\n",
      "  Reuters\n",
      "  https://www.reuters.com/article/us-golf-pga-woods-skipping-idUSKBN20G01K\n",
      "\n",
      "2020-02-21T16:21:07Z\n",
      "  Hipgnosis, platines inoxydables\n",
      "  Libération\n",
      "  https://next.liberation.fr/images/2020/02/21/art-hipgnosis-platines-inoxydables_1779193?xtor=rss-450\n",
      "\n"
     ]
    }
   ],
   "source": [
    "# init api\n",
    "api = config.API_NEWS\n",
    "newsapi = NewsApiClient(api_key=api)\n",
    "\n",
    "# name already set above\n",
    "name = name\n",
    "# define date range - as start date take minus 28 days to always stay within api limit (apparently 1 month)\n",
    "current_date = datetime.datetime.now().date()\n",
    "date_28_days_ago = current_date - datetime.timedelta(days=28)\n",
    "\n",
    "\n",
    "# split name into word elements and loop through name until first hit\n",
    "name_split = name.split(' ')\n",
    "counter = 0\n",
    "for i in name_split:\n",
    "    # join words to current state of loop (e.g. ['Capital', 'Senior', 'Living'] to 'Capital Senior Living')\n",
    "    query_word = ' '.join(name_split[0 : len(name_split) - counter])\n",
    "    \n",
    "    # get articles, first 20 (page 1) and sorted by publication date\n",
    "    headlines = newsapi.get_everything(q=query_word\n",
    "                                           , sources='reuters, google-news, bloomberg, financial-post, handelsblatt, google-news-fr, le-monde, lequipe, les-echos, liberation'\n",
    "                                           , from_param=date_28_days_ago\n",
    "                                           , to=current_date\n",
    "                                          # , language='en'\n",
    "                                           , sort_by='publishedAt'\n",
    "                                           , page=1\n",
    "                                             )\n",
    "\n",
    "    # if any results, print and break loop\n",
    "    total_results = headlines['totalResults']\n",
    "    if total_results > 0:\n",
    "        print(f\"total results: {total_results}\\n\\n\")\n",
    "        for i in range(len(headlines['articles'])):\n",
    "            print(f\"{headlines['articles'][i]['publishedAt']}\")\n",
    "            print(f\"  {headlines['articles'][i]['title']}\")\n",
    "            print(f\"  {headlines['articles'][i]['source']['name']}\")\n",
    "            print(f\"  {headlines['articles'][i]['url']}\\n\")\n",
    "        break\n",
    "    counter += 1\n",
    "    if counter == len(name_split) and total_results == 0:\n",
    "        print(f\"no news since {date_28_days_ago}\")\n"
   ]
  },
  {
   "cell_type": "code",
   "execution_count": null,
   "metadata": {
    "collapsed": true,
    "papermill": {
     "duration": 0.014326,
     "end_time": "2020-03-16T12:50:48.688289",
     "exception": false,
     "start_time": "2020-03-16T12:50:48.673963",
     "status": "completed"
    },
    "tags": []
   },
   "outputs": [],
   "source": []
  }
 ],
 "metadata": {
  "celltoolbar": "Edit Metadata",
  "kernelspec": {
   "display_name": "notadiet Py3.6",
   "language": "python",
   "name": "notadiet"
  },
  "language_info": {
   "codemirror_mode": {
    "name": "ipython",
    "version": 3
   },
   "file_extension": ".py",
   "mimetype": "text/x-python",
   "name": "python",
   "nbconvert_exporter": "python",
   "pygments_lexer": "ipython3",
   "version": "3.6.2"
  },
  "papermill": {
   "duration": 10.453773,
   "end_time": "2020-03-16T12:50:49.295685",
   "environment_variables": {},
   "exception": null,
   "input_path": "corona_invest.ipynb",
   "output_path": "./stocks/gen.ipynb",
   "parameters": {
    "ticker": "GEN"
   },
   "start_time": "2020-03-16T12:50:38.841912",
   "version": "0.16.2"
  }
 },
 "nbformat": 4,
 "nbformat_minor": 1
}