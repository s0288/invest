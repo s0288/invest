{
 "cells": [
  {
   "cell_type": "code",
   "execution_count": 1,
   "metadata": {
    "collapsed": true,
    "hide_input": true,
    "papermill": {
     "duration": 0.018149,
     "end_time": "2020-03-16T12:54:11.623948",
     "exception": false,
     "start_time": "2020-03-16T12:54:11.605799",
     "status": "completed"
    },
    "tags": [
     "parameters"
    ]
   },
   "outputs": [],
   "source": [
    "ticker = \"KORI.PA\""
   ]
  },
  {
   "cell_type": "code",
   "execution_count": 2,
   "metadata": {
    "papermill": {
     "duration": 0.016298,
     "end_time": "2020-03-16T12:54:11.647428",
     "exception": false,
     "start_time": "2020-03-16T12:54:11.631130",
     "status": "completed"
    },
    "tags": [
     "injected-parameters"
    ]
   },
   "outputs": [],
   "source": [
    "# Parameters\n",
    "ticker = \"GOOG\"\n"
   ]
  },
  {
   "cell_type": "code",
   "execution_count": 3,
   "metadata": {
    "collapsed": false,
    "papermill": {
     "duration": 23.626387,
     "end_time": "2020-03-16T12:54:35.284284",
     "exception": false,
     "start_time": "2020-03-16T12:54:11.657897",
     "status": "completed"
    },
    "tags": []
   },
   "outputs": [],
   "source": [
    "import yfinance as yf\n",
    "import pandas as pd\n",
    "import matplotlib.pyplot as plt\n",
    "import matplotlib.gridspec as gridspec\n",
    "from pandas.plotting import register_matplotlib_converters\n",
    "register_matplotlib_converters()\n",
    "import os\n",
    "\n",
    "from newsapi import NewsApiClient\n",
    "import config\n",
    "import datetime\n",
    "\n",
    "stock = yf.Ticker(ticker)\n",
    "dax = yf.Ticker(\"^GDAXI\")\n",
    "sp = yf.Ticker(\"^GSPC\")\n",
    "\n",
    "#### stock history values\n",
    "history_5y = stock.history(period='5y')['Close']\n",
    "history_1y = stock.history(period='1y')['Close']\n",
    "history_since_corona = history_1y[history_1y.index >= '2020-02-20']\n",
    "\n",
    "dax_5y = dax.history(period='5y')['Close']\n",
    "dax_1y = dax.history(period='1y')['Close']\n",
    "sp_5y = sp.history(period='5y')['Close']\n",
    "sp_1y = sp.history(period='1y')['Close']\n",
    "\n",
    "\n",
    "def get_stock_info(label):\n",
    "    try:\n",
    "        value = stock.info[label]\n",
    "    except:\n",
    "        value = None\n",
    "    return value\n",
    "\n",
    "#### df values: \"name\", \"symbol\", \"sector\", \"industry\", \"country\", \"business_summary\", \"ret_since_corona\", \"ret_1y\", \"ret_5y\", \"ret_1y_wo_corona\", \"ret_5y_wo_corona\", \"perc_diff_dax_1y_wo_corona\", \"perc_diff_dax_5y_wo_corona\", \"perc_diff_sp_1y_wo_corona\", \"perc_diff_sp_5y_wo_corona\"\n",
    "name = get_stock_info(\"longName\")\n",
    "symbol = get_stock_info(\"symbol\")\n",
    "sector = get_stock_info(\"sector\")\n",
    "industry = get_stock_info(\"industry\")\n",
    "country = get_stock_info(\"country\")\n",
    "business_summary = get_stock_info(\"longBusinessSummary\")\n",
    "\n",
    "ret_since_corona = history_since_corona.pct_change().sum()\n",
    "ret_1y = history_1y.pct_change().sum()\n",
    "ret_5y = history_5y.pct_change().sum()\n",
    "ret_1y_wo_corona = history_1y[history_1y.index <= '2020-02-21'].pct_change().sum()\n",
    "ret_5y_wo_corona = history_5y[history_5y.index <= '2020-02-21'].pct_change().sum()\n",
    "\n",
    "dax_1y_wo_corona = dax_1y[dax_1y.index <= '2020-02-21'].pct_change().sum()\n",
    "dax_5y_wo_corona = dax_5y[dax_5y.index <= '2020-02-21'].pct_change().sum()\n",
    "sp_1y_wo_corona = sp_1y[sp_1y.index <= '2020-02-21'].pct_change().sum()\n",
    "sp_5y_wo_corona = sp_5y[sp_5y.index <= '2020-02-21'].pct_change().sum()\n",
    "\n",
    "perc_diff_dax_1y_wo_corona = ret_1y_wo_corona - dax_1y_wo_corona\n",
    "perc_diff_dax_5y_wo_corona = ret_5y_wo_corona - dax_5y_wo_corona\n",
    "perc_diff_sp_1y_wo_corona = ret_1y_wo_corona - sp_1y_wo_corona\n",
    "perc_diff_sp_5y_wo_corona = ret_5y_wo_corona - sp_5y_wo_corona\n",
    "\n",
    "\n",
    "if os.path.isfile('stock_returns.pkl'):\n",
    "    # load existing pickle\n",
    "    df = pd.read_pickle(\"stock_returns.pkl\")\n",
    "    # check if stock in pickle already, if not, add stock\n",
    "else:\n",
    "    # create new dataframe (only do once)\n",
    "    df = pd.DataFrame(columns=[\"name\", \"symbol\", \"sector\", \"industry\", \"country\", \"business_summary\", \"ret_since_corona\", \"ret_1y\", \"ret_5y\", \"ret_1y_wo_corona\", \"ret_5y_wo_corona\", \"perc_diff_dax_1y_wo_corona\", \"perc_diff_dax_5y_wo_corona\", \"perc_diff_sp_1y_wo_corona\", \"perc_diff_sp_5y_wo_corona\"])\n",
    "\n",
    "if sum(symbol == df.symbol) == 0:\n",
    "    df.loc[len(df)] = [name, symbol, sector, industry, country, business_summary, ret_since_corona, ret_1y, ret_5y, ret_1y_wo_corona, ret_5y_wo_corona, perc_diff_dax_1y_wo_corona, perc_diff_dax_5y_wo_corona, perc_diff_sp_1y_wo_corona, perc_diff_sp_5y_wo_corona]\n",
    "    df.to_pickle(\"stock_returns.pkl\")"
   ]
  },
  {
   "cell_type": "markdown",
   "metadata": {
    "papermill": {
     "duration": 0.012308,
     "end_time": "2020-03-16T12:54:35.305527",
     "exception": false,
     "start_time": "2020-03-16T12:54:35.293219",
     "status": "completed"
    },
    "tags": []
   },
   "source": [
    "# Company info "
   ]
  },
  {
   "cell_type": "code",
   "execution_count": 4,
   "metadata": {
    "collapsed": false,
    "papermill": {
     "duration": 0.029433,
     "end_time": "2020-03-16T12:54:35.344552",
     "exception": false,
     "start_time": "2020-03-16T12:54:35.315119",
     "status": "completed"
    },
    "tags": []
   },
   "outputs": [
    {
     "name": "stdout",
     "output_type": "stream",
     "text": [
      "\n",
      "Company name: Alphabet Inc.\n",
      "Symbol: GOOG\n",
      "Sector: Communication Services\n",
      "Industry: Internet Content & Information\n",
      "Country: United States\n",
      "\n",
      "Business summary: Alphabet Inc. provides online advertising services in the United States, Europe, the Middle East, Africa, the Asia-Pacific, Canada, and Latin America. It offers performance and brand advertising services. The company operates through Google and Other Bets segments. The Google segment offers products, such as Ads, Android, Chrome, Google Cloud, Google Maps, Google Play, Hardware, Search, and YouTube, as well as technical infrastructure. It also offers digital content, cloud services, hardware devices, and other miscellaneous products and services. The Other Bets segment includes businesses, including Access, Calico, CapitalG, GV, Verily, Waymo, and X, as well as Internet and television services. Alphabet Inc. was founded in 1998 and is headquartered in Mountain View, California.\n",
      "\n"
     ]
    }
   ],
   "source": [
    "print(f\"\"\"\n",
    "Company name: {name}\n",
    "Symbol: {symbol}\n",
    "Sector: {sector}\n",
    "Industry: {industry}\n",
    "Country: {country}\\n\n",
    "Business summary: {business_summary}\n",
    "\"\"\")"
   ]
  },
  {
   "cell_type": "markdown",
   "metadata": {
    "papermill": {
     "duration": 0.006661,
     "end_time": "2020-03-16T12:54:35.358404",
     "exception": false,
     "start_time": "2020-03-16T12:54:35.351743",
     "status": "completed"
    },
    "tags": []
   },
   "source": [
    "# Performance"
   ]
  },
  {
   "cell_type": "code",
   "execution_count": 5,
   "metadata": {
    "collapsed": false,
    "papermill": {
     "duration": 0.747479,
     "end_time": "2020-03-16T12:54:36.113207",
     "exception": false,
     "start_time": "2020-03-16T12:54:35.365728",
     "status": "completed"
    },
    "tags": []
   },
   "outputs": [
    {
     "data": {
      "image/png": "[encoded data removed]",
      "text/plain": [
       "<matplotlib.figure.Figure at 0x116fb64a8>"
      ]
     },
     "metadata": {},
     "output_type": "display_data"
    },
    {
     "name": "stdout",
     "output_type": "stream",
     "text": [
      "1y:              percent return: 7.42%\n",
      "Since Corona:    percent return: -20.00%\n",
      "\n",
      "5y percent return before 21.02.20: 113.50%. Diff to dax: 95.02%\n",
      "1y percent return before 21.02.20: 25.24%. Diff to dax: 9.07%\n"
     ]
    }
   ],
   "source": [
    "# Create 2x2 sub plots\n",
    "gs = gridspec.GridSpec(4, 1)\n",
    "\n",
    "plt.figure(figsize = (10,10))\n",
    "\n",
    "plt.subplot(gs[0, 0])\n",
    "plt.plot(history_5y)\n",
    "plt.title(f\"5y: trading history {stock.info['symbol']}\")\n",
    "plt.text(history_5y.index[0], history_5y[0]+10, f\"starting_value: {history_5y[0]}\")\n",
    "plt.text(history_5y.index[0], history_5y[0]+5, f\"closing_value: {history_5y[-1]}\")\n",
    "plt.ylim(min(history_5y)-5, max(history_5y)+15)\n",
    "\n",
    "plt.subplot(gs[1, 0])\n",
    "plt.plot(history_1y)\n",
    "plt.title(f\"1y: trading history {stock.info['symbol']}\")\n",
    "plt.text(history_1y.index[0], history_1y[0]+10, f\"starting_value: {history_1y[0]}\")\n",
    "plt.text(history_1y.index[0], history_1y[0]+5, f\"closing_value: {history_1y[-1]}\")\n",
    "plt.ylim(min(history_1y)-5, max(history_1y)+15)\n",
    "\n",
    "plt.subplot(gs[2, 0])\n",
    "plt.plot(history_since_corona)\n",
    "plt.title(f\"Since Corona: trading history {stock.info['symbol']}\")\n",
    "plt.text(history_since_corona.index[0], history_since_corona[0]+10, f\"starting_value: {history_since_corona[0]}\")\n",
    "plt.text(history_since_corona.index[0], history_since_corona[0]+5, f\"closing_value: {history_since_corona[-1]}\")\n",
    "plt.ylim(min(history_since_corona)-5, max(history_since_corona)+15)\n",
    "plt.xticks(rotation=45)\n",
    "\n",
    "\n",
    "plt.tight_layout()\n",
    "plt.show()\n",
    "\n",
    "## calc returns\n",
    "print(f\"1y:              percent return: {ret_1y:.2%}\")\n",
    "print(f\"Since Corona:    percent return: {ret_since_corona:.2%}\\n\")\n",
    "\n",
    "## calc returns w/o Corona & compare with DAX\n",
    "print(f\"5y percent return before 21.02.20: {ret_5y_wo_corona:.2%}. Diff to dax: {perc_diff_dax_5y_wo_corona:.2%}\")\n",
    "print(f\"1y percent return before 21.02.20: {ret_1y_wo_corona:.2%}. Diff to dax: {perc_diff_dax_1y_wo_corona:.2%}\")"
   ]
  },
  {
   "cell_type": "markdown",
   "metadata": {
    "collapsed": true,
    "papermill": {
     "duration": 0.014726,
     "end_time": "2020-03-16T12:54:36.139933",
     "exception": false,
     "start_time": "2020-03-16T12:54:36.125207",
     "status": "completed"
    },
    "tags": []
   },
   "source": [
    "# News cycle"
   ]
  },
  {
   "cell_type": "code",
   "execution_count": 6,
   "metadata": {
    "collapsed": false,
    "papermill": {
     "duration": 0.573092,
     "end_time": "2020-03-16T12:54:36.724494",
     "exception": false,
     "start_time": "2020-03-16T12:54:36.151402",
     "status": "completed"
    },
    "tags": []
   },
   "outputs": [
    {
     "name": "stdout",
     "output_type": "stream",
     "text": [
      "total results: 115\n",
      "\n",
      "\n",
      "2020-03-16T07:19:41Z\n",
      "  Google coronavirus website touted by Trump opens for two California counties\n",
      "  Reuters\n",
      "  https://ca.reuters.com/article/technologyNews/idCAKBN2130SG-OCATC\n",
      "\n",
      "2020-03-16T07:19:41Z\n",
      "  Google coronavirus website touted by Trump opens for two California counties\n",
      "  Reuters\n",
      "  https://www.reuters.com/article/us-health-coronavirus-google-usa-idUSKBN2130SG\n",
      "\n",
      "2020-03-15T23:00:00Z\n",
      "  RPT-NEWSMAKER-Zhang Yiming, founder of TikTok owner ByteDance, gears up for the global stage\n",
      "  Reuters\n",
      "  https://uk.reuters.com/article/china-bytedance-ceo-idUKL4N2B63BW\n",
      "\n",
      "2020-03-15T23:00:00Z\n",
      "  RPT-NEWSMAKER-Zhang Yiming, founder of TikTok owner ByteDance, gears up for the global stage\n",
      "  Reuters\n",
      "  https://www.reuters.com/article/china-bytedance-ceo-idUSL4N2B63BW\n",
      "\n",
      "2020-03-14T05:54:51Z\n",
      "  Google, Walmart join U.S. effort to speed up coronavirus testing\n",
      "  Reuters\n",
      "  https://uk.reuters.com/article/uk-health-coronavirus-google-idUKKBN21036T\n",
      "\n",
      "2020-03-14T02:55:37Z\n",
      "  Major U.S. internet firms agree not to cancel service over next 60 days\n",
      "  Reuters\n",
      "  https://uk.reuters.com/article/us-health-coronavirus-internet-fcc-idUKKBN2102MH\n",
      "\n",
      "2020-03-14T02:55:18Z\n",
      "  Google, Walmart join U.S. effort to speed up coronavirus testing\n",
      "  Reuters\n",
      "  https://in.reuters.com/article/health-coronavirus-google-idINKBN21104Z\n",
      "\n",
      "2020-03-14T02:20:29Z\n",
      "  Major U.S. internet firms agree not to cancel service over next 60 days\n",
      "  Reuters\n",
      "  https://in.reuters.com/article/us-health-coronavirus-internet-fcc-idINKBN2102MH\n",
      "\n",
      "2020-03-13T21:57:05Z\n",
      "  Google's Verily in early stages of developing a coronavirus tool\n",
      "  Reuters\n",
      "  https://ca.reuters.com/article/technologyNews/idCAKBN2103DA-OCATC\n",
      "\n",
      "2020-03-13T21:57:05Z\n",
      "  Google's Verily in early stages of developing a coronavirus tool\n",
      "  Reuters\n",
      "  https://www.reuters.com/article/us-health-coronavirus-google-verily-idUSKBN2103DA\n",
      "\n",
      "2020-03-13T21:56:37Z\n",
      "  Some short-seller bets looked surprising in coronavirus crash\n",
      "  Reuters\n",
      "  https://www.reuters.com/article/us-health-coronavirus-investors-shorts-idUSKBN2103DQ\n",
      "\n",
      "2020-03-13T20:40:31Z\n",
      "  Alphabet shares surge 9% after Trump praises Google for coronavirus website\n",
      "  Reuters\n",
      "  https://www.reuters.com/article/us-health-coronavirus-google-idUSKBN21036R\n",
      "\n",
      "2020-03-13T20:09:11Z\n",
      "  Google to develop website to help with coronavirus test: Trump\n",
      "  Reuters\n",
      "  https://ca.reuters.com/article/technologyNews/idCAKBN21036R-OCATC\n",
      "\n",
      "2020-03-13T20:07:41Z\n",
      "  Google to develop website to help with coronavirus test - Trump\n",
      "  Reuters\n",
      "  https://www.reuters.com/article/health-coronavirus-google-idUSL4N2B654T\n",
      "\n",
      "2020-03-13T17:40:59Z\n",
      "  AT&T asks employees to work from home amid virus fears\n",
      "  Reuters\n",
      "  https://www.reuters.com/article/us-health-coronavirus-at-t-idUSKBN2102VA\n",
      "\n",
      "2020-03-13T17:40:59Z\n",
      "  AT&T asks employees to work from home amid virus fears\n",
      "  Reuters\n",
      "  https://ca.reuters.com/article/businessNews/idCAKBN2102VA\n",
      "\n",
      "2020-03-13T16:57:42Z\n",
      "  UPDATE 1-Apple shifts annual developers conference to online-only format\n",
      "  Reuters\n",
      "  https://uk.reuters.com/article/uk-health-coronavirus-apple-idUKKBN2102LF\n",
      "\n",
      "2020-03-13T09:39:35Z\n",
      "  Zhang Yiming, founder of TikTok owner ByteDance, gears up for the global stage\n",
      "  Reuters\n",
      "  https://in.reuters.com/article/us-china-bytedance-ceo-idINKBN21014Y\n",
      "\n",
      "2020-03-13T09:28:19Z\n",
      "  NEWSMAKER-Zhang Yiming, founder of TikTok owner ByteDance, gears up for the global stage\n",
      "  Reuters\n",
      "  https://www.reuters.com/article/us-china-bytedance-ceo-idUSKBN21014Y\n",
      "\n",
      "2020-03-12T17:22:00Z\n",
      "  Coronavirus could cost U.S. advertising industry billions\n",
      "  Reuters\n",
      "  https://in.reuters.com/article/health-coronavirus-advertising-idINKBN20Z30G\n",
      "\n"
     ]
    }
   ],
   "source": [
    "# init api\n",
    "api = config.API_NEWS\n",
    "newsapi = NewsApiClient(api_key=api)\n",
    "\n",
    "# name already set above\n",
    "name = name\n",
    "# define date range - as start date take minus 28 days to always stay within api limit (apparently 1 month)\n",
    "current_date = datetime.datetime.now().date()\n",
    "date_28_days_ago = current_date - datetime.timedelta(days=28)\n",
    "\n",
    "\n",
    "# split name into word elements and loop through name until first hit\n",
    "name_split = name.split(' ')\n",
    "counter = 0\n",
    "for i in name_split:\n",
    "    # join words to current state of loop (e.g. ['Capital', 'Senior', 'Living'] to 'Capital Senior Living')\n",
    "    query_word = ' '.join(name_split[0 : len(name_split) - counter])\n",
    "    \n",
    "    # get articles, first 20 (page 1) and sorted by publication date\n",
    "    headlines = newsapi.get_everything(q=query_word\n",
    "                                           , sources='reuters, google-news, bloomberg, financial-post, handelsblatt, google-news-fr, le-monde, lequipe, les-echos, liberation'\n",
    "                                           , from_param=date_28_days_ago\n",
    "                                           , to=current_date\n",
    "                                          # , language='en'\n",
    "                                           , sort_by='publishedAt'\n",
    "                                           , page=1\n",
    "                                             )\n",
    "\n",
    "    # if any results, print and break loop\n",
    "    total_results = headlines['totalResults']\n",
    "    if total_results > 0:\n",
    "        print(f\"total results: {total_results}\\n\\n\")\n",
    "        for i in range(len(headlines['articles'])):\n",
    "            print(f\"{headlines['articles'][i]['publishedAt']}\")\n",
    "            print(f\"  {headlines['articles'][i]['title']}\")\n",
    "            print(f\"  {headlines['articles'][i]['source']['name']}\")\n",
    "            print(f\"  {headlines['articles'][i]['url']}\\n\")\n",
    "        break\n",
    "    counter += 1\n",
    "    if counter == len(name_split) and total_results == 0:\n",
    "        print(f\"no news since {date_28_days_ago}\")\n"
   ]
  },
  {
   "cell_type": "code",
   "execution_count": null,
   "metadata": {
    "collapsed": true,
    "papermill": {
     "duration": 0.013355,
     "end_time": "2020-03-16T12:54:36.748667",
     "exception": false,
     "start_time": "2020-03-16T12:54:36.735312",
     "status": "completed"
    },
    "tags": []
   },
   "outputs": [],
   "source": []
  }
 ],
 "metadata": {
  "celltoolbar": "Edit Metadata",
  "kernelspec": {
   "display_name": "notadiet Py3.6",
   "language": "python",
   "name": "notadiet"
  },
  "language_info": {
   "codemirror_mode": {
    "name": "ipython",
    "version": 3
   },
   "file_extension": ".py",
   "mimetype": "text/x-python",
   "name": "python",
   "nbconvert_exporter": "python",
   "pygments_lexer": "ipython3",
   "version": "3.6.2"
  },
  "papermill": {
   "duration": 26.544727,
   "end_time": "2020-03-16T12:54:37.287327",
   "environment_variables": {},
   "exception": null,
   "input_path": "corona_invest.ipynb",
   "output_path": "./stocks/goog.ipynb",
   "parameters": {
    "ticker": "GOOG"
   },
   "start_time": "2020-03-16T12:54:10.742600",
   "version": "0.16.2"
  }
 },
 "nbformat": 4,
 "nbformat_minor": 1
}