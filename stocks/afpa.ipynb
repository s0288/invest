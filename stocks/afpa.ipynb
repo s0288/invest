{
 "cells": [
  {
   "cell_type": "code",
   "execution_count": 1,
   "metadata": {
    "collapsed": true,
    "hide_input": true,
    "papermill": {
     "duration": 0.015293,
     "end_time": "2020-03-16T12:51:45.464803",
     "exception": false,
     "start_time": "2020-03-16T12:51:45.449510",
     "status": "completed"
    },
    "tags": [
     "parameters"
    ]
   },
   "outputs": [],
   "source": [
    "ticker = \"KORI.PA\""
   ]
  },
  {
   "cell_type": "code",
   "execution_count": 2,
   "metadata": {
    "papermill": {
     "duration": 0.029836,
     "end_time": "2020-03-16T12:51:45.501732",
     "exception": false,
     "start_time": "2020-03-16T12:51:45.471896",
     "status": "completed"
    },
    "tags": [
     "injected-parameters"
    ]
   },
   "outputs": [],
   "source": [
    "# Parameters\n",
    "ticker = \"AF.PA\"\n"
   ]
  },
  {
   "cell_type": "code",
   "execution_count": 3,
   "metadata": {
    "collapsed": false,
    "papermill": {
     "duration": 5.328138,
     "end_time": "2020-03-16T12:51:50.836987",
     "exception": false,
     "start_time": "2020-03-16T12:51:45.508849",
     "status": "completed"
    },
    "tags": []
   },
   "outputs": [],
   "source": [
    "import yfinance as yf\n",
    "import pandas as pd\n",
    "import matplotlib.pyplot as plt\n",
    "import matplotlib.gridspec as gridspec\n",
    "from pandas.plotting import register_matplotlib_converters\n",
    "register_matplotlib_converters()\n",
    "import os\n",
    "\n",
    "from newsapi import NewsApiClient\n",
    "import config\n",
    "import datetime\n",
    "\n",
    "stock = yf.Ticker(ticker)\n",
    "dax = yf.Ticker(\"^GDAXI\")\n",
    "sp = yf.Ticker(\"^GSPC\")\n",
    "\n",
    "#### stock history values\n",
    "history_5y = stock.history(period='5y')['Close']\n",
    "history_1y = stock.history(period='1y')['Close']\n",
    "history_since_corona = history_1y[history_1y.index >= '2020-02-20']\n",
    "\n",
    "dax_5y = dax.history(period='5y')['Close']\n",
    "dax_1y = dax.history(period='1y')['Close']\n",
    "sp_5y = sp.history(period='5y')['Close']\n",
    "sp_1y = sp.history(period='1y')['Close']\n",
    "\n",
    "\n",
    "def get_stock_info(label):\n",
    "    try:\n",
    "        value = stock.info[label]\n",
    "    except:\n",
    "        value = None\n",
    "    return value\n",
    "\n",
    "#### df values: \"name\", \"symbol\", \"sector\", \"industry\", \"country\", \"business_summary\", \"ret_since_corona\", \"ret_1y\", \"ret_5y\", \"ret_1y_wo_corona\", \"ret_5y_wo_corona\", \"perc_diff_dax_1y_wo_corona\", \"perc_diff_dax_5y_wo_corona\", \"perc_diff_sp_1y_wo_corona\", \"perc_diff_sp_5y_wo_corona\"\n",
    "name = get_stock_info(\"longName\")\n",
    "symbol = get_stock_info(\"symbol\")\n",
    "sector = get_stock_info(\"sector\")\n",
    "industry = get_stock_info(\"industry\")\n",
    "country = get_stock_info(\"country\")\n",
    "business_summary = get_stock_info(\"longBusinessSummary\")\n",
    "\n",
    "ret_since_corona = history_since_corona.pct_change().sum()\n",
    "ret_1y = history_1y.pct_change().sum()\n",
    "ret_5y = history_5y.pct_change().sum()\n",
    "ret_1y_wo_corona = history_1y[history_1y.index <= '2020-02-21'].pct_change().sum()\n",
    "ret_5y_wo_corona = history_5y[history_5y.index <= '2020-02-21'].pct_change().sum()\n",
    "\n",
    "dax_1y_wo_corona = dax_1y[dax_1y.index <= '2020-02-21'].pct_change().sum()\n",
    "dax_5y_wo_corona = dax_5y[dax_5y.index <= '2020-02-21'].pct_change().sum()\n",
    "sp_1y_wo_corona = sp_1y[sp_1y.index <= '2020-02-21'].pct_change().sum()\n",
    "sp_5y_wo_corona = sp_5y[sp_5y.index <= '2020-02-21'].pct_change().sum()\n",
    "\n",
    "perc_diff_dax_1y_wo_corona = ret_1y_wo_corona - dax_1y_wo_corona\n",
    "perc_diff_dax_5y_wo_corona = ret_5y_wo_corona - dax_5y_wo_corona\n",
    "perc_diff_sp_1y_wo_corona = ret_1y_wo_corona - sp_1y_wo_corona\n",
    "perc_diff_sp_5y_wo_corona = ret_5y_wo_corona - sp_5y_wo_corona\n",
    "\n",
    "\n",
    "if os.path.isfile('stock_returns.pkl'):\n",
    "    # load existing pickle\n",
    "    df = pd.read_pickle(\"stock_returns.pkl\")\n",
    "    # check if stock in pickle already, if not, add stock\n",
    "else:\n",
    "    # create new dataframe (only do once)\n",
    "    df = pd.DataFrame(columns=[\"name\", \"symbol\", \"sector\", \"industry\", \"country\", \"business_summary\", \"ret_since_corona\", \"ret_1y\", \"ret_5y\", \"ret_1y_wo_corona\", \"ret_5y_wo_corona\", \"perc_diff_dax_1y_wo_corona\", \"perc_diff_dax_5y_wo_corona\", \"perc_diff_sp_1y_wo_corona\", \"perc_diff_sp_5y_wo_corona\"])\n",
    "\n",
    "if sum(symbol == df.symbol) == 0:\n",
    "    df.loc[len(df)] = [name, symbol, sector, industry, country, business_summary, ret_since_corona, ret_1y, ret_5y, ret_1y_wo_corona, ret_5y_wo_corona, perc_diff_dax_1y_wo_corona, perc_diff_dax_5y_wo_corona, perc_diff_sp_1y_wo_corona, perc_diff_sp_5y_wo_corona]\n",
    "    df.to_pickle(\"stock_returns.pkl\")"
   ]
  },
  {
   "cell_type": "markdown",
   "metadata": {
    "papermill": {
     "duration": 0.014153,
     "end_time": "2020-03-16T12:51:50.861037",
     "exception": false,
     "start_time": "2020-03-16T12:51:50.846884",
     "status": "completed"
    },
    "tags": []
   },
   "source": [
    "# Company info "
   ]
  },
  {
   "cell_type": "code",
   "execution_count": 4,
   "metadata": {
    "collapsed": false,
    "papermill": {
     "duration": 0.027715,
     "end_time": "2020-03-16T12:51:50.900370",
     "exception": false,
     "start_time": "2020-03-16T12:51:50.872655",
     "status": "completed"
    },
    "tags": []
   },
   "outputs": [
    {
     "name": "stdout",
     "output_type": "stream",
     "text": [
      "\n",
      "Company name: Air France-KLM SA\n",
      "Symbol: AF.PA\n",
      "Sector: Industrials\n",
      "Industry: Airlines\n",
      "Country: France\n",
      "\n",
      "Business summary: Air France-KLM SA, together with its subsidiaries, provides passenger transportation services on scheduled flights. The company operates through Network, Maintenance, Transavia, and Other segments. It also offers cargo transportation and aeronautics maintenance services; and other air-transport-related services. The company operates in France, Benelux, Europe, Africa, the Middle East, Gulf, India, the Asia-Pacific, North America, Caribbean, West Indies, French Guyana, Indian Ocean, and South America. As of June 30, 2019, it operated fleet of 551 aircraft. Air France-KLM SA was founded in 1919 and is headquartered in Paris, France.\n",
      "\n"
     ]
    }
   ],
   "source": [
    "print(f\"\"\"\n",
    "Company name: {name}\n",
    "Symbol: {symbol}\n",
    "Sector: {sector}\n",
    "Industry: {industry}\n",
    "Country: {country}\\n\n",
    "Business summary: {business_summary}\n",
    "\"\"\")"
   ]
  },
  {
   "cell_type": "markdown",
   "metadata": {
    "papermill": {
     "duration": 0.006893,
     "end_time": "2020-03-16T12:51:50.914697",
     "exception": false,
     "start_time": "2020-03-16T12:51:50.907804",
     "status": "completed"
    },
    "tags": []
   },
   "source": [
    "# Performance"
   ]
  },
  {
   "cell_type": "code",
   "execution_count": 5,
   "metadata": {
    "collapsed": false,
    "papermill": {
     "duration": 0.856801,
     "end_time": "2020-03-16T12:51:51.778816",
     "exception": false,
     "start_time": "2020-03-16T12:51:50.922015",
     "status": "completed"
    },
    "tags": []
   },
   "outputs": [
    {
     "data": {
      "image/png": "[encoded data removed]",
      "text/plain": [
       "<matplotlib.figure.Figure at 0x1166c85c0>"
      ]
     },
     "metadata": {},
     "output_type": "display_data"
    },
    {
     "name": "stdout",
     "output_type": "stream",
     "text": [
      "1y:              percent return: -87.06%\n",
      "Since Corona:    percent return: -80.04%\n",
      "\n",
      "5y percent return before 21.02.20: 57.54%. Diff to dax: 39.06%\n",
      "1y percent return before 21.02.20: -10.32%. Diff to dax: -26.50%\n"
     ]
    }
   ],
   "source": [
    "# Create 2x2 sub plots\n",
    "gs = gridspec.GridSpec(4, 1)\n",
    "\n",
    "plt.figure(figsize = (10,10))\n",
    "\n",
    "plt.subplot(gs[0, 0])\n",
    "plt.plot(history_5y)\n",
    "plt.title(f\"5y: trading history {stock.info['symbol']}\")\n",
    "plt.text(history_5y.index[0], history_5y[0]+10, f\"starting_value: {history_5y[0]}\")\n",
    "plt.text(history_5y.index[0], history_5y[0]+5, f\"closing_value: {history_5y[-1]}\")\n",
    "plt.ylim(min(history_5y)-5, max(history_5y)+15)\n",
    "\n",
    "plt.subplot(gs[1, 0])\n",
    "plt.plot(history_1y)\n",
    "plt.title(f\"1y: trading history {stock.info['symbol']}\")\n",
    "plt.text(history_1y.index[0], history_1y[0]+10, f\"starting_value: {history_1y[0]}\")\n",
    "plt.text(history_1y.index[0], history_1y[0]+5, f\"closing_value: {history_1y[-1]}\")\n",
    "plt.ylim(min(history_1y)-5, max(history_1y)+15)\n",
    "\n",
    "plt.subplot(gs[2, 0])\n",
    "plt.plot(history_since_corona)\n",
    "plt.title(f\"Since Corona: trading history {stock.info['symbol']}\")\n",
    "plt.text(history_since_corona.index[0], history_since_corona[0]+10, f\"starting_value: {history_since_corona[0]}\")\n",
    "plt.text(history_since_corona.index[0], history_since_corona[0]+5, f\"closing_value: {history_since_corona[-1]}\")\n",
    "plt.ylim(min(history_since_corona)-5, max(history_since_corona)+15)\n",
    "plt.xticks(rotation=45)\n",
    "\n",
    "\n",
    "plt.tight_layout()\n",
    "plt.show()\n",
    "\n",
    "## calc returns\n",
    "print(f\"1y:              percent return: {ret_1y:.2%}\")\n",
    "print(f\"Since Corona:    percent return: {ret_since_corona:.2%}\\n\")\n",
    "\n",
    "## calc returns w/o Corona & compare with DAX\n",
    "print(f\"5y percent return before 21.02.20: {ret_5y_wo_corona:.2%}. Diff to dax: {perc_diff_dax_5y_wo_corona:.2%}\")\n",
    "print(f\"1y percent return before 21.02.20: {ret_1y_wo_corona:.2%}. Diff to dax: {perc_diff_dax_1y_wo_corona:.2%}\")"
   ]
  },
  {
   "cell_type": "markdown",
   "metadata": {
    "collapsed": true,
    "papermill": {
     "duration": 0.019501,
     "end_time": "2020-03-16T12:51:51.808423",
     "exception": false,
     "start_time": "2020-03-16T12:51:51.788922",
     "status": "completed"
    },
    "tags": []
   },
   "source": [
    "# News cycle"
   ]
  },
  {
   "cell_type": "code",
   "execution_count": 6,
   "metadata": {
    "collapsed": false,
    "papermill": {
     "duration": 0.335199,
     "end_time": "2020-03-16T12:51:52.167178",
     "exception": false,
     "start_time": "2020-03-16T12:51:51.831979",
     "status": "completed"
    },
    "tags": []
   },
   "outputs": [
    {
     "name": "stdout",
     "output_type": "stream",
     "text": [
      "total results: 40\n",
      "\n",
      "\n",
      "2020-03-16T08:04:41Z\n",
      "  Coronavirus : Air France-KLM se prépare à entrer en hibernation\n",
      "  Les Echos\n",
      "  https://www.lesechos.fr/industrie-services/tourisme-transport/coronavirus-air-france-klm-se-prepare-a-entrer-en-hibernation-1185648\n",
      "\n",
      "2020-03-15T15:12:06Z\n",
      "  Covid-19 : Air France va mettre 80 % de ses salariés au chômage partiel\n",
      "  Le Monde\n",
      "  https://www.lemonde.fr/economie/article/2020/03/15/covid-19-air-france-va-mettre-80-de-ses-salaries-au-chomage-partiel_6033155_3234.html\n",
      "\n",
      "2020-03-15T12:57:47Z\n",
      "  Aérien / Air France-KLM : Le coeur bien accroché\n",
      "  Les Echos\n",
      "  https://www.lesechos.fr/idees-debats/crible/aerien-air-france-klm-le-coeur-bien-accroche-1185449\n",
      "\n",
      "2020-03-14T11:08:05Z\n",
      "  EXCLUSIF - L'Etat envisage de renflouer Air France-KLM en montant au capital\n",
      "  Les Echos\n",
      "  https://www.lesechos.fr/industrie-services/air-defense/exclusif-letat-envisage-de-renflouer-air-france-klm-en-montant-au-capital-1185332\n",
      "\n",
      "2020-03-14T07:26:53Z\n",
      "  Coronavirus : la compagnie aérienne KLM va supprimer jusqu'à 2.000 emplois\n",
      "  Les Echos\n",
      "  https://www.lesechos.fr/industrie-services/tourisme-transport/coronavirus-la-compagnie-aerienne-klm-va-supprimer-jusqua-2000-emplois-1185281\n",
      "\n",
      "2020-03-13T18:51:15Z\n",
      "  Covid 19 : musées et galeries baissent le rideau en masse\n",
      "  Libération\n",
      "  https://next.liberation.fr/arts/2020/03/13/covid-19-musees-et-galeries-baissent-le-rideau-en-masse_1781634?xtor=rss-450\n",
      "\n",
      "2020-03-13T10:31:48Z\n",
      "  EXCLUSIF Coronavirus : Air France-KLM prépare un « plan d'adaptation » à une crise « sans précédent »\n",
      "  Les Echos\n",
      "  https://www.lesechos.fr/industrie-services/tourisme-transport/exclusif-coronavirus-air-france-klm-prepare-un-plan-dadaptation-a-une-crise-sans-precedent-1185041\n",
      "\n",
      "2020-03-13T08:26:35Z\n",
      "  Direct- Coronavirus: les écoles fermées au moins quinze jours en France\n",
      "  Libération\n",
      "  https://www.liberation.fr/france/2020/03/13/coronavirus-suivez-les-dernieres-informations-en-france-et-dans-le-monde-sur-l-epidemie-de-covid-19-_1781536?xtor=rss-450\n",
      "\n",
      "2020-03-12T08:09:59Z\n",
      "  Les compagnies européennes et Air France-KLM, premières victimes de l'interdiction d'entrée aux Etats-Unis\n",
      "  Les Echos\n",
      "  https://www.lesechos.fr/industrie-services/tourisme-transport/les-compagnies-europeennes-et-air-france-klm-premieres-victimes-de-linterdiction-dentree-aux-etats-unis-1184488\n",
      "\n",
      "2020-03-12T05:08:07Z\n",
      "  U.S. clampdown on European travel heaps new coronavirus woes on airlines\n",
      "  Reuters\n",
      "  https://in.reuters.com/article/health-coronavirus-usa-airlines-idINKBN20Z0LB\n",
      "\n",
      "2020-03-12T05:05:27Z\n",
      "  UPDATE 1-U.S. clampdown on European travel heaps new coronavirus woes on airlines\n",
      "  Reuters\n",
      "  https://www.reuters.com/article/health-coronavirus-usa-airlines-idUSL4N2B518V\n",
      "\n",
      "2020-03-12T03:58:55Z\n",
      "  Ban on European travel to U.S. will batter airlines, already roiled by coronavirus\n",
      "  Financial Post\n",
      "  https://business.financialpost.com/pmn/business-pmn/ban-on-european-travel-to-u-s-will-batter-airlines-already-roiled-by-coronavirus\n",
      "\n",
      "2020-03-12T03:26:16Z\n",
      "  Ban on European travel to U.S. will batter airlines, already roiled by coronavirus\n",
      "  Reuters\n",
      "  https://www.reuters.com/article/us-health-coronavirus-usa-airlines-idUSKBN20Z0FJ\n",
      "\n",
      "2020-03-12T03:17:30Z\n",
      "  Ban on European travel to U.S. will batter airlines, already roiled by coronavirus\n",
      "  Reuters\n",
      "  https://www.reuters.com/article/us-health-coronavirus-usa-airlines-idUSKBN20Z0FJ\n",
      "\n",
      "2020-03-10T17:19:00Z\n",
      "  Coronavirus : 9 nouvelles qui montrent que notre monde part en cacahuète\n",
      "  Les Echos\n",
      "  https://start.lesechos.fr/societe/culture-tendances/coronavirus-9-nouvelles-qui-montrent-que-notre-monde-part-en-cacahuete-17599.php\n",
      "\n",
      "2020-03-10T09:51:39Z\n",
      "  Direct - Coronavirus : l'Italie mise en quarantaine, des restrictions levées en Chine\n",
      "  Libération\n",
      "  https://www.liberation.fr/planete/2020/03/10/direct-coronavirus-l-italie-mise-en-quarantaine-des-restrictions-levees-en-chine_1781155?xtor=rss-450\n",
      "\n",
      "2020-03-10T08:01:38Z\n",
      "  Coronavirus : Qantas cloue ses avions au sol, le patron renonce à son salaire\n",
      "  Les Echos\n",
      "  https://www.lesechos.fr/industrie-services/tourisme-transport/coronavirus-qantas-cloue-ses-avions-au-sol-le-patron-renonce-a-son-salaire-1183528\n",
      "\n",
      "2020-03-10T04:00:08Z\n",
      "  Coronavirus : les entreprises très endettées au coeur des préoccupations\n",
      "  Les Echos\n",
      "  https://www.lesechos.fr/finance-marches/marches-financiers/coronavirus-les-entreprises-tres-endettees-au-coeur-des-preoccupations-1183418\n",
      "\n",
      "2020-03-09T23:27:31Z\n",
      "  Factbox: Airlines suspend flights due to coronavirus outbreak\n",
      "  Reuters\n",
      "  https://www.reuters.com/article/us-health-coronavirus-airlines-factbox-idUSKBN20W350\n",
      "\n",
      "2020-03-09T15:58:42Z\n",
      "  La chute du prix du pétrole ne compensera pas les pertes des compagnies aériennes\n",
      "  Les Echos\n",
      "  https://www.lesechos.fr/industrie-services/tourisme-transport/la-chute-du-prix-du-petrole-ne-compensera-pas-les-pertes-des-compagnies-aeriennes-1183332\n",
      "\n"
     ]
    }
   ],
   "source": [
    "# init api\n",
    "api = config.API_NEWS\n",
    "newsapi = NewsApiClient(api_key=api)\n",
    "\n",
    "# name already set above\n",
    "name = name\n",
    "# define date range - as start date take minus 28 days to always stay within api limit (apparently 1 month)\n",
    "current_date = datetime.datetime.now().date()\n",
    "date_28_days_ago = current_date - datetime.timedelta(days=28)\n",
    "\n",
    "\n",
    "# split name into word elements and loop through name until first hit\n",
    "name_split = name.split(' ')\n",
    "counter = 0\n",
    "for i in name_split:\n",
    "    # join words to current state of loop (e.g. ['Capital', 'Senior', 'Living'] to 'Capital Senior Living')\n",
    "    query_word = ' '.join(name_split[0 : len(name_split) - counter])\n",
    "    \n",
    "    # get articles, first 20 (page 1) and sorted by publication date\n",
    "    headlines = newsapi.get_everything(q=query_word\n",
    "                                           , sources='reuters, google-news, bloomberg, financial-post, handelsblatt, google-news-fr, le-monde, lequipe, les-echos, liberation'\n",
    "                                           , from_param=date_28_days_ago\n",
    "                                           , to=current_date\n",
    "                                          # , language='en'\n",
    "                                           , sort_by='publishedAt'\n",
    "                                           , page=1\n",
    "                                             )\n",
    "\n",
    "    # if any results, print and break loop\n",
    "    total_results = headlines['totalResults']\n",
    "    if total_results > 0:\n",
    "        print(f\"total results: {total_results}\\n\\n\")\n",
    "        for i in range(len(headlines['articles'])):\n",
    "            print(f\"{headlines['articles'][i]['publishedAt']}\")\n",
    "            print(f\"  {headlines['articles'][i]['title']}\")\n",
    "            print(f\"  {headlines['articles'][i]['source']['name']}\")\n",
    "            print(f\"  {headlines['articles'][i]['url']}\\n\")\n",
    "        break\n",
    "    counter += 1\n",
    "    if counter == len(name_split) and total_results == 0:\n",
    "        print(f\"no news since {date_28_days_ago}\")\n"
   ]
  },
  {
   "cell_type": "code",
   "execution_count": null,
   "metadata": {
    "collapsed": true,
    "papermill": {
     "duration": 0.017921,
     "end_time": "2020-03-16T12:51:52.195951",
     "exception": false,
     "start_time": "2020-03-16T12:51:52.178030",
     "status": "completed"
    },
    "tags": []
   },
   "outputs": [],
   "source": []
  }
 ],
 "metadata": {
  "celltoolbar": "Edit Metadata",
  "kernelspec": {
   "display_name": "notadiet Py3.6",
   "language": "python",
   "name": "notadiet"
  },
  "language_info": {
   "codemirror_mode": {
    "name": "ipython",
    "version": 3
   },
   "file_extension": ".py",
   "mimetype": "text/x-python",
   "name": "python",
   "nbconvert_exporter": "python",
   "pygments_lexer": "ipython3",
   "version": "3.6.2"
  },
  "papermill": {
   "duration": 8.376961,
   "end_time": "2020-03-16T12:51:52.966217",
   "environment_variables": {},
   "exception": null,
   "input_path": "corona_invest.ipynb",
   "output_path": "./stocks/afpa.ipynb",
   "parameters": {
    "ticker": "AF.PA"
   },
   "start_time": "2020-03-16T12:51:44.589256",
   "version": "0.16.2"
  }
 },
 "nbformat": 4,
 "nbformat_minor": 1
}