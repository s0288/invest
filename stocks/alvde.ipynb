{
 "cells": [
  {
   "cell_type": "code",
   "execution_count": 1,
   "metadata": {
    "collapsed": true,
    "hide_input": true,
    "papermill": {
     "duration": 0.018613,
     "end_time": "2020-03-16T12:55:27.456235",
     "exception": false,
     "start_time": "2020-03-16T12:55:27.437622",
     "status": "completed"
    },
    "tags": [
     "parameters"
    ]
   },
   "outputs": [],
   "source": [
    "ticker = \"KORI.PA\""
   ]
  },
  {
   "cell_type": "code",
   "execution_count": 2,
   "metadata": {
    "papermill": {
     "duration": 0.016655,
     "end_time": "2020-03-16T12:55:27.480118",
     "exception": false,
     "start_time": "2020-03-16T12:55:27.463463",
     "status": "completed"
    },
    "tags": [
     "injected-parameters"
    ]
   },
   "outputs": [],
   "source": [
    "# Parameters\n",
    "ticker = \"ALV.DE\"\n"
   ]
  },
  {
   "cell_type": "code",
   "execution_count": 3,
   "metadata": {
    "collapsed": false,
    "papermill": {
     "duration": 7.753967,
     "end_time": "2020-03-16T12:55:35.246643",
     "exception": false,
     "start_time": "2020-03-16T12:55:27.492676",
     "status": "completed"
    },
    "tags": []
   },
   "outputs": [],
   "source": [
    "import yfinance as yf\n",
    "import pandas as pd\n",
    "import matplotlib.pyplot as plt\n",
    "import matplotlib.gridspec as gridspec\n",
    "from pandas.plotting import register_matplotlib_converters\n",
    "register_matplotlib_converters()\n",
    "import os\n",
    "\n",
    "from newsapi import NewsApiClient\n",
    "import config\n",
    "import datetime\n",
    "\n",
    "stock = yf.Ticker(ticker)\n",
    "dax = yf.Ticker(\"^GDAXI\")\n",
    "sp = yf.Ticker(\"^GSPC\")\n",
    "\n",
    "#### stock history values\n",
    "history_5y = stock.history(period='5y')['Close']\n",
    "history_1y = stock.history(period='1y')['Close']\n",
    "history_since_corona = history_1y[history_1y.index >= '2020-02-20']\n",
    "\n",
    "dax_5y = dax.history(period='5y')['Close']\n",
    "dax_1y = dax.history(period='1y')['Close']\n",
    "sp_5y = sp.history(period='5y')['Close']\n",
    "sp_1y = sp.history(period='1y')['Close']\n",
    "\n",
    "\n",
    "def get_stock_info(label):\n",
    "    try:\n",
    "        value = stock.info[label]\n",
    "    except:\n",
    "        value = None\n",
    "    return value\n",
    "\n",
    "#### df values: \"name\", \"symbol\", \"sector\", \"industry\", \"country\", \"business_summary\", \"ret_since_corona\", \"ret_1y\", \"ret_5y\", \"ret_1y_wo_corona\", \"ret_5y_wo_corona\", \"perc_diff_dax_1y_wo_corona\", \"perc_diff_dax_5y_wo_corona\", \"perc_diff_sp_1y_wo_corona\", \"perc_diff_sp_5y_wo_corona\"\n",
    "name = get_stock_info(\"longName\")\n",
    "symbol = get_stock_info(\"symbol\")\n",
    "sector = get_stock_info(\"sector\")\n",
    "industry = get_stock_info(\"industry\")\n",
    "country = get_stock_info(\"country\")\n",
    "business_summary = get_stock_info(\"longBusinessSummary\")\n",
    "\n",
    "ret_since_corona = history_since_corona.pct_change().sum()\n",
    "ret_1y = history_1y.pct_change().sum()\n",
    "ret_5y = history_5y.pct_change().sum()\n",
    "ret_1y_wo_corona = history_1y[history_1y.index <= '2020-02-21'].pct_change().sum()\n",
    "ret_5y_wo_corona = history_5y[history_5y.index <= '2020-02-21'].pct_change().sum()\n",
    "\n",
    "dax_1y_wo_corona = dax_1y[dax_1y.index <= '2020-02-21'].pct_change().sum()\n",
    "dax_5y_wo_corona = dax_5y[dax_5y.index <= '2020-02-21'].pct_change().sum()\n",
    "sp_1y_wo_corona = sp_1y[sp_1y.index <= '2020-02-21'].pct_change().sum()\n",
    "sp_5y_wo_corona = sp_5y[sp_5y.index <= '2020-02-21'].pct_change().sum()\n",
    "\n",
    "perc_diff_dax_1y_wo_corona = ret_1y_wo_corona - dax_1y_wo_corona\n",
    "perc_diff_dax_5y_wo_corona = ret_5y_wo_corona - dax_5y_wo_corona\n",
    "perc_diff_sp_1y_wo_corona = ret_1y_wo_corona - sp_1y_wo_corona\n",
    "perc_diff_sp_5y_wo_corona = ret_5y_wo_corona - sp_5y_wo_corona\n",
    "\n",
    "\n",
    "if os.path.isfile('stock_returns.pkl'):\n",
    "    # load existing pickle\n",
    "    df = pd.read_pickle(\"stock_returns.pkl\")\n",
    "    # check if stock in pickle already, if not, add stock\n",
    "else:\n",
    "    # create new dataframe (only do once)\n",
    "    df = pd.DataFrame(columns=[\"name\", \"symbol\", \"sector\", \"industry\", \"country\", \"business_summary\", \"ret_since_corona\", \"ret_1y\", \"ret_5y\", \"ret_1y_wo_corona\", \"ret_5y_wo_corona\", \"perc_diff_dax_1y_wo_corona\", \"perc_diff_dax_5y_wo_corona\", \"perc_diff_sp_1y_wo_corona\", \"perc_diff_sp_5y_wo_corona\"])\n",
    "\n",
    "if sum(symbol == df.symbol) == 0:\n",
    "    df.loc[len(df)] = [name, symbol, sector, industry, country, business_summary, ret_since_corona, ret_1y, ret_5y, ret_1y_wo_corona, ret_5y_wo_corona, perc_diff_dax_1y_wo_corona, perc_diff_dax_5y_wo_corona, perc_diff_sp_1y_wo_corona, perc_diff_sp_5y_wo_corona]\n",
    "    df.to_pickle(\"stock_returns.pkl\")"
   ]
  },
  {
   "cell_type": "markdown",
   "metadata": {
    "papermill": {
     "duration": 0.008888,
     "end_time": "2020-03-16T12:55:35.262354",
     "exception": false,
     "start_time": "2020-03-16T12:55:35.253466",
     "status": "completed"
    },
    "tags": []
   },
   "source": [
    "# Company info "
   ]
  },
  {
   "cell_type": "code",
   "execution_count": 4,
   "metadata": {
    "collapsed": false,
    "papermill": {
     "duration": 0.023514,
     "end_time": "2020-03-16T12:55:35.292753",
     "exception": false,
     "start_time": "2020-03-16T12:55:35.269239",
     "status": "completed"
    },
    "tags": []
   },
   "outputs": [
    {
     "name": "stdout",
     "output_type": "stream",
     "text": [
      "\n",
      "Company name: Allianz SE\n",
      "Symbol: ALV.DE\n",
      "Sector: Financial Services\n",
      "Industry: Insurance—Diversified\n",
      "Country: Germany\n",
      "\n",
      "Business summary: Allianz SE, together with its subsidiaries, provides property-casualty insurance, life/health insurance, and asset management products and services worldwide. The company's Property-Casualty segment offers various insurance products, including motor liability and own damage, accident, general liability, fire and property, legal expense, credit, and travel insurance products to private and corporate customers. Its Life/Health segment provides a range of life and health insurance products on an individual and a group basis, such as annuities, endowment and term insurance, and unit-linked and investment-oriented products, as well as private health, supplemental health, and long-term care insurance products. The company's Asset Management segment offers institutional and retail asset management products and services to third-party investors comprising equity and fixed income funds, as well as alternative products; and investment management services. Its Corporate and Other segment provides various banking products for corporate and retail clients; and alternative investment management services in the private equity, real estate, renewable energy, and infrastructure sectors. Allianz SE was founded in 1890 and is headquartered in Munich, Germany.\n",
      "\n"
     ]
    }
   ],
   "source": [
    "print(f\"\"\"\n",
    "Company name: {name}\n",
    "Symbol: {symbol}\n",
    "Sector: {sector}\n",
    "Industry: {industry}\n",
    "Country: {country}\\n\n",
    "Business summary: {business_summary}\n",
    "\"\"\")"
   ]
  },
  {
   "cell_type": "markdown",
   "metadata": {
    "papermill": {
     "duration": 0.007014,
     "end_time": "2020-03-16T12:55:35.307182",
     "exception": false,
     "start_time": "2020-03-16T12:55:35.300168",
     "status": "completed"
    },
    "tags": []
   },
   "source": [
    "# Performance"
   ]
  },
  {
   "cell_type": "code",
   "execution_count": 5,
   "metadata": {
    "collapsed": false,
    "papermill": {
     "duration": 0.782012,
     "end_time": "2020-03-16T12:55:36.096574",
     "exception": false,
     "start_time": "2020-03-16T12:55:35.314562",
     "status": "completed"
    },
    "tags": []
   },
   "outputs": [
    {
     "data": {
      "image/png": "[encoded data removed]",
      "text/plain": [
       "<matplotlib.figure.Figure at 0x1175c8be0>"
      ]
     },
     "metadata": {},
     "output_type": "display_data"
    },
    {
     "name": "stdout",
     "output_type": "stream",
     "text": [
      "1y:              percent return: -37.86%\n",
      "Since Corona:    percent return: -56.24%\n",
      "\n",
      "5y percent return before 21.02.20: 74.20%. Diff to dax: 55.72%\n",
      "1y percent return before 21.02.20: 19.56%. Diff to dax: 3.39%\n"
     ]
    }
   ],
   "source": [
    "# Create 2x2 sub plots\n",
    "gs = gridspec.GridSpec(4, 1)\n",
    "\n",
    "plt.figure(figsize = (10,10))\n",
    "\n",
    "plt.subplot(gs[0, 0])\n",
    "plt.plot(history_5y)\n",
    "plt.title(f\"5y: trading history {stock.info['symbol']}\")\n",
    "plt.text(history_5y.index[0], history_5y[0]+10, f\"starting_value: {history_5y[0]}\")\n",
    "plt.text(history_5y.index[0], history_5y[0]+5, f\"closing_value: {history_5y[-1]}\")\n",
    "plt.ylim(min(history_5y)-5, max(history_5y)+15)\n",
    "\n",
    "plt.subplot(gs[1, 0])\n",
    "plt.plot(history_1y)\n",
    "plt.title(f\"1y: trading history {stock.info['symbol']}\")\n",
    "plt.text(history_1y.index[0], history_1y[0]+10, f\"starting_value: {history_1y[0]}\")\n",
    "plt.text(history_1y.index[0], history_1y[0]+5, f\"closing_value: {history_1y[-1]}\")\n",
    "plt.ylim(min(history_1y)-5, max(history_1y)+15)\n",
    "\n",
    "plt.subplot(gs[2, 0])\n",
    "plt.plot(history_since_corona)\n",
    "plt.title(f\"Since Corona: trading history {stock.info['symbol']}\")\n",
    "plt.text(history_since_corona.index[0], history_since_corona[0]+10, f\"starting_value: {history_since_corona[0]}\")\n",
    "plt.text(history_since_corona.index[0], history_since_corona[0]+5, f\"closing_value: {history_since_corona[-1]}\")\n",
    "plt.ylim(min(history_since_corona)-5, max(history_since_corona)+15)\n",
    "plt.xticks(rotation=45)\n",
    "\n",
    "\n",
    "plt.tight_layout()\n",
    "plt.show()\n",
    "\n",
    "## calc returns\n",
    "print(f\"1y:              percent return: {ret_1y:.2%}\")\n",
    "print(f\"Since Corona:    percent return: {ret_since_corona:.2%}\\n\")\n",
    "\n",
    "## calc returns w/o Corona & compare with DAX\n",
    "print(f\"5y percent return before 21.02.20: {ret_5y_wo_corona:.2%}. Diff to dax: {perc_diff_dax_5y_wo_corona:.2%}\")\n",
    "print(f\"1y percent return before 21.02.20: {ret_1y_wo_corona:.2%}. Diff to dax: {perc_diff_dax_1y_wo_corona:.2%}\")"
   ]
  },
  {
   "cell_type": "markdown",
   "metadata": {
    "collapsed": true,
    "papermill": {
     "duration": 0.01364,
     "end_time": "2020-03-16T12:55:36.120865",
     "exception": false,
     "start_time": "2020-03-16T12:55:36.107225",
     "status": "completed"
    },
    "tags": []
   },
   "source": [
    "# News cycle"
   ]
  },
  {
   "cell_type": "code",
   "execution_count": 6,
   "metadata": {
    "collapsed": false,
    "papermill": {
     "duration": 0.396904,
     "end_time": "2020-03-16T12:55:36.533309",
     "exception": false,
     "start_time": "2020-03-16T12:55:36.136405",
     "status": "completed"
    },
    "tags": []
   },
   "outputs": [
    {
     "name": "stdout",
     "output_type": "stream",
     "text": [
      "total results: 22\n",
      "\n",
      "\n",
      "2020-03-15T10:39:50Z\n",
      "  Generali/Italie : Sinistres sans sinistrose\n",
      "  Les Echos\n",
      "  https://www.lesechos.fr/idees-debats/crible/generaliitalie-sinistres-sans-sinistrose-1185430\n",
      "\n",
      "2020-03-11T04:56:10Z\n",
      "  Pourquoi la baisse des marchés risque de s'auto-entretenir\n",
      "  Les Echos\n",
      "  https://www.lesechos.fr/finance-marches/marches-financiers/pourquoi-la-baisse-des-marches-risque-de-sauto-entretenir-1183915\n",
      "\n",
      "2020-03-10T18:28:12Z\n",
      "  Immobilienmanager: Allianz kreiert 100-Milliarden-Immobilienverwalter\n",
      "  Handelsblatt\n",
      "  https://www.handelsblatt.com/finanzen/banken-versicherungen/immobilienmanager-allianz-kreiert-100-milliarden-immobilienverwalter/25630636.html\n",
      "\n",
      "2020-03-10T12:49:00Z\n",
      "  Foot - C1 - Coronavirus - Ligue des champions : Bayern-Chelsea également à huis clos\n",
      "  L'equipe\n",
      "  https://www.lequipe.fr/Football/Actualites/Ligue-des-champions-bayern-chelsea-egalement-a-huis-clos/1118246\n",
      "\n",
      "2020-03-07T22:44:29Z\n",
      "  Ligue 1 : Nice s’offre Monaco dans le derby, Toulouse perd encore\n",
      "  Le Monde\n",
      "  https://www.lemonde.fr/sport/article/2020/03/07/ligue-1-nice-s-offre-monaco-dans-le-derby-toulouse-perd-encore_6032219_3242.html\n",
      "\n",
      "2020-03-06T12:00:00Z\n",
      "  Monter sa start-up à Nice : les structures d'accompagnement\n",
      "  Les Echos\n",
      "  https://business.lesechos.fr/entrepreneurs/aides-reseaux/0602830728103-monter-sa-start-up-a-nice-les-structures-d-accompagnement-335510.php\n",
      "\n",
      "2020-03-05T09:11:47Z\n",
      "  Coronavirus : les assureurs seront peu mis à contribution\n",
      "  Le Monde\n",
      "  https://www.lemonde.fr/economie/article/2020/03/05/coronavirus-les-assureurs-seront-peu-mis-a-contribution_6031909_3234.html\n",
      "\n",
      "2020-03-04T19:20:42Z\n",
      "  Bondholders meet with Argentina's economy minister as restructuring deadline looms\n",
      "  Reuters\n",
      "  https://www.reuters.com/article/argentina-debt-idUSL1N2AX1GT\n",
      "\n",
      "2020-03-04T14:13:36Z\n",
      "  Coronavirus/Taux d'intérêt : Les moins de Monsieur Plus\n",
      "  Les Echos\n",
      "  https://www.lesechos.fr/idees-debats/crible/coronavirustaux-dinteret-les-moins-de-monsieur-plus-1181892\n",
      "\n",
      "2020-03-02T10:26:50Z\n",
      "  Les gérants indiciels accusés de passivité face aux salaires excessifs des patrons américains\n",
      "  Les Echos\n",
      "  https://www.lesechos.fr/finance-marches/marches-financiers/les-gerants-indiciels-accuses-de-passivite-face-aux-salaires-excessifs-des-patrons-americains-1181141\n",
      "\n",
      "2020-02-28T23:52:21Z\n",
      "  PIMCO Canadian portfolio manager Ed Devlin leaving investing giant\n",
      "  Financial Post\n",
      "  https://business.financialpost.com/investing/pimco-canadian-portfolio-manager-ed-devlin-leaving-investing-giant\n",
      "\n",
      "2020-02-28T17:23:00Z\n",
      "  Ces 10 startups ont levé plus de 150 millions d'euros en février 2020\n",
      "  Les Echos\n",
      "  https://start.lesechos.fr/innovations-startups/top-startups/ces-10-startups-ont-leve-plus-de-150-millions-d-euros-en-fevrier-2020-17529.php\n",
      "\n",
      "2020-02-28T06:00:43Z\n",
      "  Assurance-vie : comment contourner la baisse des taux ?\n",
      "  Les Echos\n",
      "  https://www.lesechos.fr/finance-marches/banque-assurances/assurance-vie-comment-contourner-la-baisse-des-taux-1180447\n",
      "\n",
      "2020-02-28T05:00:11Z\n",
      "  Bien piloter son assurance-vie pour doper son rendement\n",
      "  Le Monde\n",
      "  https://www.lemonde.fr/argent/article/2020/02/28/bien-piloter-son-assurance-vie-pour-doper-son-rendement_6031124_1657007.html\n",
      "\n",
      "2020-02-25T18:30:00Z\n",
      "  Produktion: Coronavirus wirbelt die Lieferketten durcheinander – Firmen pochen auf „höhere Gewalt“\n",
      "  Handelsblatt\n",
      "  https://www.handelsblatt.com/unternehmen/management/produktion-coronavirus-wirbelt-die-lieferketten-durcheinander-firmen-pochen-auf-hoehere-gewalt/25579692.html\n",
      "\n",
      "2020-02-21T08:43:24Z\n",
      "  Nouvelle année record pour Allianz\n",
      "  Les Echos\n",
      "  https://www.lesechos.fr/finance-marches/banque-assurances/nouvelle-annee-record-pour-allianz-1173675\n",
      "\n",
      "2020-02-21T06:16:15Z\n",
      "  Versicherer: Allianz gelingt neuer Rekordgewinn – mit einem kleinen Makel\n",
      "  Handelsblatt\n",
      "  https://www.handelsblatt.com/finanzen/banken-versicherungen/versicherer-allianz-gelingt-neuer-rekordgewinn-mit-einem-kleinen-makel/25569118.html\n",
      "\n",
      "2020-02-20T21:00:00Z\n",
      "  RPT-INSIGHT-Fires and climate fears rattle Australia's giant coal lobby\n",
      "  Reuters\n",
      "  https://www.reuters.com/article/climate-change-australia-lobbying-idUSL4N2AK31Y\n",
      "\n",
      "2020-02-20T21:00:00Z\n",
      "  RPT-INSIGHT-Fires and climate fears rattle Australia's giant coal lobby\n",
      "  Reuters\n",
      "  https://uk.reuters.com/article/climate-change-australia-lobbying-idUKL4N2AK31Y\n",
      "\n",
      "2020-02-20T05:13:57Z\n",
      "  Fires and climate fears rattle Australia's giant coal lobby\n",
      "  Reuters\n",
      "  https://www.reuters.com/article/us-climate-change-australia-lobbying-ins-idUSKBN20E0FE\n",
      "\n"
     ]
    }
   ],
   "source": [
    "# init api\n",
    "api = config.API_NEWS\n",
    "newsapi = NewsApiClient(api_key=api)\n",
    "\n",
    "# name already set above\n",
    "name = name\n",
    "# define date range - as start date take minus 28 days to always stay within api limit (apparently 1 month)\n",
    "current_date = datetime.datetime.now().date()\n",
    "date_28_days_ago = current_date - datetime.timedelta(days=28)\n",
    "\n",
    "\n",
    "# split name into word elements and loop through name until first hit\n",
    "name_split = name.split(' ')\n",
    "counter = 0\n",
    "for i in name_split:\n",
    "    # join words to current state of loop (e.g. ['Capital', 'Senior', 'Living'] to 'Capital Senior Living')\n",
    "    query_word = ' '.join(name_split[0 : len(name_split) - counter])\n",
    "    \n",
    "    # get articles, first 20 (page 1) and sorted by publication date\n",
    "    headlines = newsapi.get_everything(q=query_word\n",
    "                                           , sources='reuters, google-news, bloomberg, financial-post, handelsblatt, google-news-fr, le-monde, lequipe, les-echos, liberation'\n",
    "                                           , from_param=date_28_days_ago\n",
    "                                           , to=current_date\n",
    "                                          # , language='en'\n",
    "                                           , sort_by='publishedAt'\n",
    "                                           , page=1\n",
    "                                             )\n",
    "\n",
    "    # if any results, print and break loop\n",
    "    total_results = headlines['totalResults']\n",
    "    if total_results > 0:\n",
    "        print(f\"total results: {total_results}\\n\\n\")\n",
    "        for i in range(len(headlines['articles'])):\n",
    "            print(f\"{headlines['articles'][i]['publishedAt']}\")\n",
    "            print(f\"  {headlines['articles'][i]['title']}\")\n",
    "            print(f\"  {headlines['articles'][i]['source']['name']}\")\n",
    "            print(f\"  {headlines['articles'][i]['url']}\\n\")\n",
    "        break\n",
    "    counter += 1\n",
    "    if counter == len(name_split) and total_results == 0:\n",
    "        print(f\"no news since {date_28_days_ago}\")\n"
   ]
  },
  {
   "cell_type": "code",
   "execution_count": null,
   "metadata": {
    "collapsed": true,
    "papermill": {
     "duration": 0.010849,
     "end_time": "2020-03-16T12:55:36.555301",
     "exception": false,
     "start_time": "2020-03-16T12:55:36.544452",
     "status": "completed"
    },
    "tags": []
   },
   "outputs": [],
   "source": []
  }
 ],
 "metadata": {
  "celltoolbar": "Edit Metadata",
  "kernelspec": {
   "display_name": "notadiet Py3.6",
   "language": "python",
   "name": "notadiet"
  },
  "language_info": {
   "codemirror_mode": {
    "name": "ipython",
    "version": 3
   },
   "file_extension": ".py",
   "mimetype": "text/x-python",
   "name": "python",
   "nbconvert_exporter": "python",
   "pygments_lexer": "ipython3",
   "version": "3.6.2"
  },
  "papermill": {
   "duration": 10.495708,
   "end_time": "2020-03-16T12:55:37.108778",
   "environment_variables": {},
   "exception": null,
   "input_path": "corona_invest.ipynb",
   "output_path": "./stocks/alvde.ipynb",
   "parameters": {
    "ticker": "ALV.DE"
   },
   "start_time": "2020-03-16T12:55:26.613070",
   "version": "0.16.2"
  }
 },
 "nbformat": 4,
 "nbformat_minor": 1
}