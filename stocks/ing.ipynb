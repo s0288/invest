{
 "cells": [
  {
   "cell_type": "code",
   "execution_count": 1,
   "metadata": {
    "collapsed": true,
    "hide_input": true,
    "papermill": {
     "duration": 0.019457,
     "end_time": "2020-03-16T12:55:39.432975",
     "exception": false,
     "start_time": "2020-03-16T12:55:39.413518",
     "status": "completed"
    },
    "tags": [
     "parameters"
    ]
   },
   "outputs": [],
   "source": [
    "ticker = \"KORI.PA\""
   ]
  },
  {
   "cell_type": "code",
   "execution_count": 2,
   "metadata": {
    "papermill": {
     "duration": 0.016503,
     "end_time": "2020-03-16T12:55:39.458641",
     "exception": false,
     "start_time": "2020-03-16T12:55:39.442138",
     "status": "completed"
    },
    "tags": [
     "injected-parameters"
    ]
   },
   "outputs": [],
   "source": [
    "# Parameters\n",
    "ticker = \"ING\"\n"
   ]
  },
  {
   "cell_type": "code",
   "execution_count": 3,
   "metadata": {
    "collapsed": false,
    "papermill": {
     "duration": 6.252755,
     "end_time": "2020-03-16T12:55:45.730073",
     "exception": false,
     "start_time": "2020-03-16T12:55:39.477318",
     "status": "completed"
    },
    "tags": []
   },
   "outputs": [],
   "source": [
    "import yfinance as yf\n",
    "import pandas as pd\n",
    "import matplotlib.pyplot as plt\n",
    "import matplotlib.gridspec as gridspec\n",
    "from pandas.plotting import register_matplotlib_converters\n",
    "register_matplotlib_converters()\n",
    "import os\n",
    "\n",
    "from newsapi import NewsApiClient\n",
    "import config\n",
    "import datetime\n",
    "\n",
    "stock = yf.Ticker(ticker)\n",
    "dax = yf.Ticker(\"^GDAXI\")\n",
    "sp = yf.Ticker(\"^GSPC\")\n",
    "\n",
    "#### stock history values\n",
    "history_5y = stock.history(period='5y')['Close']\n",
    "history_1y = stock.history(period='1y')['Close']\n",
    "history_since_corona = history_1y[history_1y.index >= '2020-02-20']\n",
    "\n",
    "dax_5y = dax.history(period='5y')['Close']\n",
    "dax_1y = dax.history(period='1y')['Close']\n",
    "sp_5y = sp.history(period='5y')['Close']\n",
    "sp_1y = sp.history(period='1y')['Close']\n",
    "\n",
    "\n",
    "def get_stock_info(label):\n",
    "    try:\n",
    "        value = stock.info[label]\n",
    "    except:\n",
    "        value = None\n",
    "    return value\n",
    "\n",
    "#### df values: \"name\", \"symbol\", \"sector\", \"industry\", \"country\", \"business_summary\", \"ret_since_corona\", \"ret_1y\", \"ret_5y\", \"ret_1y_wo_corona\", \"ret_5y_wo_corona\", \"perc_diff_dax_1y_wo_corona\", \"perc_diff_dax_5y_wo_corona\", \"perc_diff_sp_1y_wo_corona\", \"perc_diff_sp_5y_wo_corona\"\n",
    "name = get_stock_info(\"longName\")\n",
    "symbol = get_stock_info(\"symbol\")\n",
    "sector = get_stock_info(\"sector\")\n",
    "industry = get_stock_info(\"industry\")\n",
    "country = get_stock_info(\"country\")\n",
    "business_summary = get_stock_info(\"longBusinessSummary\")\n",
    "\n",
    "ret_since_corona = history_since_corona.pct_change().sum()\n",
    "ret_1y = history_1y.pct_change().sum()\n",
    "ret_5y = history_5y.pct_change().sum()\n",
    "ret_1y_wo_corona = history_1y[history_1y.index <= '2020-02-21'].pct_change().sum()\n",
    "ret_5y_wo_corona = history_5y[history_5y.index <= '2020-02-21'].pct_change().sum()\n",
    "\n",
    "dax_1y_wo_corona = dax_1y[dax_1y.index <= '2020-02-21'].pct_change().sum()\n",
    "dax_5y_wo_corona = dax_5y[dax_5y.index <= '2020-02-21'].pct_change().sum()\n",
    "sp_1y_wo_corona = sp_1y[sp_1y.index <= '2020-02-21'].pct_change().sum()\n",
    "sp_5y_wo_corona = sp_5y[sp_5y.index <= '2020-02-21'].pct_change().sum()\n",
    "\n",
    "perc_diff_dax_1y_wo_corona = ret_1y_wo_corona - dax_1y_wo_corona\n",
    "perc_diff_dax_5y_wo_corona = ret_5y_wo_corona - dax_5y_wo_corona\n",
    "perc_diff_sp_1y_wo_corona = ret_1y_wo_corona - sp_1y_wo_corona\n",
    "perc_diff_sp_5y_wo_corona = ret_5y_wo_corona - sp_5y_wo_corona\n",
    "\n",
    "\n",
    "if os.path.isfile('stock_returns.pkl'):\n",
    "    # load existing pickle\n",
    "    df = pd.read_pickle(\"stock_returns.pkl\")\n",
    "    # check if stock in pickle already, if not, add stock\n",
    "else:\n",
    "    # create new dataframe (only do once)\n",
    "    df = pd.DataFrame(columns=[\"name\", \"symbol\", \"sector\", \"industry\", \"country\", \"business_summary\", \"ret_since_corona\", \"ret_1y\", \"ret_5y\", \"ret_1y_wo_corona\", \"ret_5y_wo_corona\", \"perc_diff_dax_1y_wo_corona\", \"perc_diff_dax_5y_wo_corona\", \"perc_diff_sp_1y_wo_corona\", \"perc_diff_sp_5y_wo_corona\"])\n",
    "\n",
    "if sum(symbol == df.symbol) == 0:\n",
    "    df.loc[len(df)] = [name, symbol, sector, industry, country, business_summary, ret_since_corona, ret_1y, ret_5y, ret_1y_wo_corona, ret_5y_wo_corona, perc_diff_dax_1y_wo_corona, perc_diff_dax_5y_wo_corona, perc_diff_sp_1y_wo_corona, perc_diff_sp_5y_wo_corona]\n",
    "    df.to_pickle(\"stock_returns.pkl\")"
   ]
  },
  {
   "cell_type": "markdown",
   "metadata": {
    "papermill": {
     "duration": 0.01372,
     "end_time": "2020-03-16T12:55:45.754441",
     "exception": false,
     "start_time": "2020-03-16T12:55:45.740721",
     "status": "completed"
    },
    "tags": []
   },
   "source": [
    "# Company info "
   ]
  },
  {
   "cell_type": "code",
   "execution_count": 4,
   "metadata": {
    "collapsed": false,
    "papermill": {
     "duration": 0.032978,
     "end_time": "2020-03-16T12:55:45.796628",
     "exception": false,
     "start_time": "2020-03-16T12:55:45.763650",
     "status": "completed"
    },
    "tags": []
   },
   "outputs": [
    {
     "name": "stdout",
     "output_type": "stream",
     "text": [
      "\n",
      "Company name: ING Groep N.V.\n",
      "Symbol: ING\n",
      "Sector: Financial Services\n",
      "Industry: Banks—Diversified\n",
      "Country: Netherlands\n",
      "\n",
      "Business summary: ING Groep N.V., a financial institution, provides various banking products and services to individuals, small and medium-sized enterprises, and mid-corporates. It operates in Retail Netherlands, Retail Belgium, Retail Germany, Retail Other, and Wholesale Banking segments. The company accepts various deposits, such as current and savings accounts; and offers business lending products, as well as consumer lending products, such as residential mortgage loans, term loans, and revolver and personal loans. It also provides mortgage, payment, savings, investment, and secured and unsecured lending products and services. In addition, the company offers specialized lending, corporate finance, and debt and equity markets solutions, as well as working capital, cash management, and trade and treasury services; and financial market, trade finance, overdraft, and foreign exchange transaction services. The company operates in the Netherlands, Belgium, North America, Latin America, Asia, Australia, and rest of Europe. ING Groep N.V. was founded in 1991 and is headquartered in Amsterdam, the Netherlands.\n",
      "\n"
     ]
    }
   ],
   "source": [
    "print(f\"\"\"\n",
    "Company name: {name}\n",
    "Symbol: {symbol}\n",
    "Sector: {sector}\n",
    "Industry: {industry}\n",
    "Country: {country}\\n\n",
    "Business summary: {business_summary}\n",
    "\"\"\")"
   ]
  },
  {
   "cell_type": "markdown",
   "metadata": {
    "papermill": {
     "duration": 0.011191,
     "end_time": "2020-03-16T12:55:45.815299",
     "exception": false,
     "start_time": "2020-03-16T12:55:45.804108",
     "status": "completed"
    },
    "tags": []
   },
   "source": [
    "# Performance"
   ]
  },
  {
   "cell_type": "code",
   "execution_count": 5,
   "metadata": {
    "collapsed": false,
    "papermill": {
     "duration": 0.732873,
     "end_time": "2020-03-16T12:55:46.563907",
     "exception": false,
     "start_time": "2020-03-16T12:55:45.831034",
     "status": "completed"
    },
    "tags": []
   },
   "outputs": [
    {
     "data": {
      "image/png": "[encoded data removed]",
      "text/plain": [
       "<matplotlib.figure.Figure at 0x113a41ba8>"
      ]
     },
     "metadata": {},
     "output_type": "display_data"
    },
    {
     "name": "stdout",
     "output_type": "stream",
     "text": [
      "1y:              percent return: -57.85%\n",
      "Since Corona:    percent return: -53.58%\n",
      "\n",
      "5y percent return before 21.02.20: 12.41%. Diff to dax: -6.06%\n",
      "1y percent return before 21.02.20: -5.83%. Diff to dax: -22.00%\n"
     ]
    }
   ],
   "source": [
    "# Create 2x2 sub plots\n",
    "gs = gridspec.GridSpec(4, 1)\n",
    "\n",
    "plt.figure(figsize = (10,10))\n",
    "\n",
    "plt.subplot(gs[0, 0])\n",
    "plt.plot(history_5y)\n",
    "plt.title(f\"5y: trading history {stock.info['symbol']}\")\n",
    "plt.text(history_5y.index[0], history_5y[0]+10, f\"starting_value: {history_5y[0]}\")\n",
    "plt.text(history_5y.index[0], history_5y[0]+5, f\"closing_value: {history_5y[-1]}\")\n",
    "plt.ylim(min(history_5y)-5, max(history_5y)+15)\n",
    "\n",
    "plt.subplot(gs[1, 0])\n",
    "plt.plot(history_1y)\n",
    "plt.title(f\"1y: trading history {stock.info['symbol']}\")\n",
    "plt.text(history_1y.index[0], history_1y[0]+10, f\"starting_value: {history_1y[0]}\")\n",
    "plt.text(history_1y.index[0], history_1y[0]+5, f\"closing_value: {history_1y[-1]}\")\n",
    "plt.ylim(min(history_1y)-5, max(history_1y)+15)\n",
    "\n",
    "plt.subplot(gs[2, 0])\n",
    "plt.plot(history_since_corona)\n",
    "plt.title(f\"Since Corona: trading history {stock.info['symbol']}\")\n",
    "plt.text(history_since_corona.index[0], history_since_corona[0]+10, f\"starting_value: {history_since_corona[0]}\")\n",
    "plt.text(history_since_corona.index[0], history_since_corona[0]+5, f\"closing_value: {history_since_corona[-1]}\")\n",
    "plt.ylim(min(history_since_corona)-5, max(history_since_corona)+15)\n",
    "plt.xticks(rotation=45)\n",
    "\n",
    "\n",
    "plt.tight_layout()\n",
    "plt.show()\n",
    "\n",
    "## calc returns\n",
    "print(f\"1y:              percent return: {ret_1y:.2%}\")\n",
    "print(f\"Since Corona:    percent return: {ret_since_corona:.2%}\\n\")\n",
    "\n",
    "## calc returns w/o Corona & compare with DAX\n",
    "print(f\"5y percent return before 21.02.20: {ret_5y_wo_corona:.2%}. Diff to dax: {perc_diff_dax_5y_wo_corona:.2%}\")\n",
    "print(f\"1y percent return before 21.02.20: {ret_1y_wo_corona:.2%}. Diff to dax: {perc_diff_dax_1y_wo_corona:.2%}\")"
   ]
  },
  {
   "cell_type": "markdown",
   "metadata": {
    "collapsed": true,
    "papermill": {
     "duration": 0.013426,
     "end_time": "2020-03-16T12:55:46.587745",
     "exception": false,
     "start_time": "2020-03-16T12:55:46.574319",
     "status": "completed"
    },
    "tags": []
   },
   "source": [
    "# News cycle"
   ]
  },
  {
   "cell_type": "code",
   "execution_count": 6,
   "metadata": {
    "collapsed": false,
    "papermill": {
     "duration": 1.08589,
     "end_time": "2020-03-16T12:55:47.688148",
     "exception": false,
     "start_time": "2020-03-16T12:55:46.602258",
     "status": "completed"
    },
    "tags": []
   },
   "outputs": [
    {
     "name": "stdout",
     "output_type": "stream",
     "text": [
      "total results: 6\n",
      "\n",
      "\n",
      "2020-03-06T15:05:48Z\n",
      "  German Bonds Surge to Take Benchmark Yields to Record Lows\n",
      "  Bloomberg\n",
      "  https://www.bloomberg.com/news/articles/2020-03-06/german-bonds-surge-to-take-30-year-yields-to-record-low\n",
      "\n",
      "2020-02-20T06:51:20Z\n",
      "  PRESS DIGEST - Wall Street Journal - Feb. 20\n",
      "  Reuters\n",
      "  https://www.reuters.com/article/press-digest-wsj-idUSL4N2AK221\n",
      "\n",
      "2020-02-19T22:55:23Z\n",
      "  UBS names ING's Ralph Hamers as CEO\n",
      "  Reuters\n",
      "  https://uk.reuters.com/article/uk-ubs-group-ceo-idUKKBN20D2RG\n",
      "\n",
      "2020-02-19T22:22:13Z\n",
      "  UBS to name ING's Ralph Hamers as CEO - FT\n",
      "  Reuters\n",
      "  https://in.reuters.com/article/uk-ubs-group-ceo-idINKBN20D2RG\n",
      "\n",
      "2020-02-19T22:15:39Z\n",
      "  UPDATE 2-UBS to name ING's Ralph Hamers as CEO - FT\n",
      "  Reuters\n",
      "  https://www.reuters.com/article/us-ubs-group-ceo-idUSKBN20D2QK\n",
      "\n",
      "2020-02-19T21:26:02Z\n",
      "  UBS to name ING's Ralph Hamers as CEO - FT\n",
      "  Reuters\n",
      "  https://www.reuters.com/article/ubs-group-ceo-idUSL4N2AJ4B9\n",
      "\n"
     ]
    }
   ],
   "source": [
    "# init api\n",
    "api = config.API_NEWS\n",
    "newsapi = NewsApiClient(api_key=api)\n",
    "\n",
    "# name already set above\n",
    "name = name\n",
    "# define date range - as start date take minus 28 days to always stay within api limit (apparently 1 month)\n",
    "current_date = datetime.datetime.now().date()\n",
    "date_28_days_ago = current_date - datetime.timedelta(days=28)\n",
    "\n",
    "\n",
    "# split name into word elements and loop through name until first hit\n",
    "name_split = name.split(' ')\n",
    "counter = 0\n",
    "for i in name_split:\n",
    "    # join words to current state of loop (e.g. ['Capital', 'Senior', 'Living'] to 'Capital Senior Living')\n",
    "    query_word = ' '.join(name_split[0 : len(name_split) - counter])\n",
    "    \n",
    "    # get articles, first 20 (page 1) and sorted by publication date\n",
    "    headlines = newsapi.get_everything(q=query_word\n",
    "                                           , sources='reuters, google-news, bloomberg, financial-post, handelsblatt, google-news-fr, le-monde, lequipe, les-echos, liberation'\n",
    "                                           , from_param=date_28_days_ago\n",
    "                                           , to=current_date\n",
    "                                          # , language='en'\n",
    "                                           , sort_by='publishedAt'\n",
    "                                           , page=1\n",
    "                                             )\n",
    "\n",
    "    # if any results, print and break loop\n",
    "    total_results = headlines['totalResults']\n",
    "    if total_results > 0:\n",
    "        print(f\"total results: {total_results}\\n\\n\")\n",
    "        for i in range(len(headlines['articles'])):\n",
    "            print(f\"{headlines['articles'][i]['publishedAt']}\")\n",
    "            print(f\"  {headlines['articles'][i]['title']}\")\n",
    "            print(f\"  {headlines['articles'][i]['source']['name']}\")\n",
    "            print(f\"  {headlines['articles'][i]['url']}\\n\")\n",
    "        break\n",
    "    counter += 1\n",
    "    if counter == len(name_split) and total_results == 0:\n",
    "        print(f\"no news since {date_28_days_ago}\")\n"
   ]
  },
  {
   "cell_type": "code",
   "execution_count": null,
   "metadata": {
    "collapsed": true,
    "papermill": {
     "duration": 0.017268,
     "end_time": "2020-03-16T12:55:47.716862",
     "exception": false,
     "start_time": "2020-03-16T12:55:47.699594",
     "status": "completed"
    },
    "tags": []
   },
   "outputs": [],
   "source": []
  }
 ],
 "metadata": {
  "celltoolbar": "Edit Metadata",
  "kernelspec": {
   "display_name": "notadiet Py3.6",
   "language": "python",
   "name": "notadiet"
  },
  "language_info": {
   "codemirror_mode": {
    "name": "ipython",
    "version": 3
   },
   "file_extension": ".py",
   "mimetype": "text/x-python",
   "name": "python",
   "nbconvert_exporter": "python",
   "pygments_lexer": "ipython3",
   "version": "3.6.2"
  },
  "papermill": {
   "duration": 10.491654,
   "end_time": "2020-03-16T12:55:49.055478",
   "environment_variables": {},
   "exception": null,
   "input_path": "corona_invest.ipynb",
   "output_path": "./stocks/ing.ipynb",
   "parameters": {
    "ticker": "ING"
   },
   "start_time": "2020-03-16T12:55:38.563824",
   "version": "0.16.2"
  }
 },
 "nbformat": 4,
 "nbformat_minor": 1
}