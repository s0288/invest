{
 "cells": [
  {
   "cell_type": "code",
   "execution_count": 1,
   "metadata": {
    "collapsed": true,
    "hide_input": true,
    "papermill": {
     "duration": 0.016064,
     "end_time": "2020-03-16T12:53:37.696006",
     "exception": false,
     "start_time": "2020-03-16T12:53:37.679942",
     "status": "completed"
    },
    "tags": [
     "parameters"
    ]
   },
   "outputs": [],
   "source": [
    "ticker = \"KORI.PA\""
   ]
  },
  {
   "cell_type": "code",
   "execution_count": 2,
   "metadata": {
    "papermill": {
     "duration": 0.016225,
     "end_time": "2020-03-16T12:53:37.719207",
     "exception": false,
     "start_time": "2020-03-16T12:53:37.702982",
     "status": "completed"
    },
    "tags": [
     "injected-parameters"
    ]
   },
   "outputs": [],
   "source": [
    "# Parameters\n",
    "ticker = \"NDA-SE.ST\"\n"
   ]
  },
  {
   "cell_type": "code",
   "execution_count": 3,
   "metadata": {
    "collapsed": false,
    "papermill": {
     "duration": 5.62261,
     "end_time": "2020-03-16T12:53:43.351419",
     "exception": false,
     "start_time": "2020-03-16T12:53:37.728809",
     "status": "completed"
    },
    "tags": []
   },
   "outputs": [],
   "source": [
    "import yfinance as yf\n",
    "import pandas as pd\n",
    "import matplotlib.pyplot as plt\n",
    "import matplotlib.gridspec as gridspec\n",
    "from pandas.plotting import register_matplotlib_converters\n",
    "register_matplotlib_converters()\n",
    "import os\n",
    "\n",
    "from newsapi import NewsApiClient\n",
    "import config\n",
    "import datetime\n",
    "\n",
    "stock = yf.Ticker(ticker)\n",
    "dax = yf.Ticker(\"^GDAXI\")\n",
    "sp = yf.Ticker(\"^GSPC\")\n",
    "\n",
    "#### stock history values\n",
    "history_5y = stock.history(period='5y')['Close']\n",
    "history_1y = stock.history(period='1y')['Close']\n",
    "history_since_corona = history_1y[history_1y.index >= '2020-02-20']\n",
    "\n",
    "dax_5y = dax.history(period='5y')['Close']\n",
    "dax_1y = dax.history(period='1y')['Close']\n",
    "sp_5y = sp.history(period='5y')['Close']\n",
    "sp_1y = sp.history(period='1y')['Close']\n",
    "\n",
    "\n",
    "def get_stock_info(label):\n",
    "    try:\n",
    "        value = stock.info[label]\n",
    "    except:\n",
    "        value = None\n",
    "    return value\n",
    "\n",
    "#### df values: \"name\", \"symbol\", \"sector\", \"industry\", \"country\", \"business_summary\", \"ret_since_corona\", \"ret_1y\", \"ret_5y\", \"ret_1y_wo_corona\", \"ret_5y_wo_corona\", \"perc_diff_dax_1y_wo_corona\", \"perc_diff_dax_5y_wo_corona\", \"perc_diff_sp_1y_wo_corona\", \"perc_diff_sp_5y_wo_corona\"\n",
    "name = get_stock_info(\"longName\")\n",
    "symbol = get_stock_info(\"symbol\")\n",
    "sector = get_stock_info(\"sector\")\n",
    "industry = get_stock_info(\"industry\")\n",
    "country = get_stock_info(\"country\")\n",
    "business_summary = get_stock_info(\"longBusinessSummary\")\n",
    "\n",
    "ret_since_corona = history_since_corona.pct_change().sum()\n",
    "ret_1y = history_1y.pct_change().sum()\n",
    "ret_5y = history_5y.pct_change().sum()\n",
    "ret_1y_wo_corona = history_1y[history_1y.index <= '2020-02-21'].pct_change().sum()\n",
    "ret_5y_wo_corona = history_5y[history_5y.index <= '2020-02-21'].pct_change().sum()\n",
    "\n",
    "dax_1y_wo_corona = dax_1y[dax_1y.index <= '2020-02-21'].pct_change().sum()\n",
    "dax_5y_wo_corona = dax_5y[dax_5y.index <= '2020-02-21'].pct_change().sum()\n",
    "sp_1y_wo_corona = sp_1y[sp_1y.index <= '2020-02-21'].pct_change().sum()\n",
    "sp_5y_wo_corona = sp_5y[sp_5y.index <= '2020-02-21'].pct_change().sum()\n",
    "\n",
    "perc_diff_dax_1y_wo_corona = ret_1y_wo_corona - dax_1y_wo_corona\n",
    "perc_diff_dax_5y_wo_corona = ret_5y_wo_corona - dax_5y_wo_corona\n",
    "perc_diff_sp_1y_wo_corona = ret_1y_wo_corona - sp_1y_wo_corona\n",
    "perc_diff_sp_5y_wo_corona = ret_5y_wo_corona - sp_5y_wo_corona\n",
    "\n",
    "\n",
    "if os.path.isfile('stock_returns.pkl'):\n",
    "    # load existing pickle\n",
    "    df = pd.read_pickle(\"stock_returns.pkl\")\n",
    "    # check if stock in pickle already, if not, add stock\n",
    "else:\n",
    "    # create new dataframe (only do once)\n",
    "    df = pd.DataFrame(columns=[\"name\", \"symbol\", \"sector\", \"industry\", \"country\", \"business_summary\", \"ret_since_corona\", \"ret_1y\", \"ret_5y\", \"ret_1y_wo_corona\", \"ret_5y_wo_corona\", \"perc_diff_dax_1y_wo_corona\", \"perc_diff_dax_5y_wo_corona\", \"perc_diff_sp_1y_wo_corona\", \"perc_diff_sp_5y_wo_corona\"])\n",
    "\n",
    "if sum(symbol == df.symbol) == 0:\n",
    "    df.loc[len(df)] = [name, symbol, sector, industry, country, business_summary, ret_since_corona, ret_1y, ret_5y, ret_1y_wo_corona, ret_5y_wo_corona, perc_diff_dax_1y_wo_corona, perc_diff_dax_5y_wo_corona, perc_diff_sp_1y_wo_corona, perc_diff_sp_5y_wo_corona]\n",
    "    df.to_pickle(\"stock_returns.pkl\")"
   ]
  },
  {
   "cell_type": "markdown",
   "metadata": {
    "papermill": {
     "duration": 0.009543,
     "end_time": "2020-03-16T12:53:43.368027",
     "exception": false,
     "start_time": "2020-03-16T12:53:43.358484",
     "status": "completed"
    },
    "tags": []
   },
   "source": [
    "# Company info "
   ]
  },
  {
   "cell_type": "code",
   "execution_count": 4,
   "metadata": {
    "collapsed": false,
    "papermill": {
     "duration": 0.021539,
     "end_time": "2020-03-16T12:53:43.400534",
     "exception": false,
     "start_time": "2020-03-16T12:53:43.378995",
     "status": "completed"
    },
    "tags": []
   },
   "outputs": [
    {
     "name": "stdout",
     "output_type": "stream",
     "text": [
      "\n",
      "Company name: Nordea Bank Abp\n",
      "Symbol: NDA-SE.ST\n",
      "Sector: Financial Services\n",
      "Industry: Banks—Regional\n",
      "Country: Finland\n",
      "\n",
      "Business summary: Nordea Bank Abp provides various banking products and services for personal customers, small and medium businesses, and corporates and financial institutions in Europe. It operates through Personal Banking, Commercial & Business Banking, Wholesale Banking, and Wealth Management segments. It offers personal banking products comprising corporate and household deposits; and household mortgage and consumer loans, as well as loans to corporates. The company also provides business banking services; transaction banking services consisting of cards, trade finance, cash management, and mobile- and ecommerce; and investment credits, working capital, and consumer credits. In addition, it offers a range of financing, cash management and payment services, investment banking, capital markets products, and securities services; manages customers' assets and provides financial advice to high net worth individuals and institutional investors; and provides a range of pension, endowment, and risk products. Further, the company offers trade finance services; and online and mobile banking services. It operates approximately 450 branches. The company was founded in 1820 and is headquartered in Helsinki, Finland.\n",
      "\n"
     ]
    }
   ],
   "source": [
    "print(f\"\"\"\n",
    "Company name: {name}\n",
    "Symbol: {symbol}\n",
    "Sector: {sector}\n",
    "Industry: {industry}\n",
    "Country: {country}\\n\n",
    "Business summary: {business_summary}\n",
    "\"\"\")"
   ]
  },
  {
   "cell_type": "markdown",
   "metadata": {
    "papermill": {
     "duration": 0.00679,
     "end_time": "2020-03-16T12:53:43.414578",
     "exception": false,
     "start_time": "2020-03-16T12:53:43.407788",
     "status": "completed"
    },
    "tags": []
   },
   "source": [
    "# Performance"
   ]
  },
  {
   "cell_type": "code",
   "execution_count": 5,
   "metadata": {
    "collapsed": false,
    "papermill": {
     "duration": 0.704148,
     "end_time": "2020-03-16T12:53:44.125751",
     "exception": false,
     "start_time": "2020-03-16T12:53:43.421603",
     "status": "completed"
    },
    "tags": []
   },
   "outputs": [
    {
     "data": {
      "image/png": "[encoded data removed]",
      "text/plain": [
       "<matplotlib.figure.Figure at 0x11b4cf780>"
      ]
     },
     "metadata": {},
     "output_type": "display_data"
    },
    {
     "name": "stdout",
     "output_type": "stream",
     "text": [
      "1y:              percent return: -50.89%\n",
      "Since Corona:    percent return: -56.11%\n",
      "\n",
      "5y percent return before 21.02.20: -10.52%. Diff to dax: -29.00%\n",
      "1y percent return before 21.02.20: 4.40%. Diff to dax: -11.77%\n"
     ]
    }
   ],
   "source": [
    "# Create 2x2 sub plots\n",
    "gs = gridspec.GridSpec(4, 1)\n",
    "\n",
    "plt.figure(figsize = (10,10))\n",
    "\n",
    "plt.subplot(gs[0, 0])\n",
    "plt.plot(history_5y)\n",
    "plt.title(f\"5y: trading history {stock.info['symbol']}\")\n",
    "plt.text(history_5y.index[0], history_5y[0]+10, f\"starting_value: {history_5y[0]}\")\n",
    "plt.text(history_5y.index[0], history_5y[0]+5, f\"closing_value: {history_5y[-1]}\")\n",
    "plt.ylim(min(history_5y)-5, max(history_5y)+15)\n",
    "\n",
    "plt.subplot(gs[1, 0])\n",
    "plt.plot(history_1y)\n",
    "plt.title(f\"1y: trading history {stock.info['symbol']}\")\n",
    "plt.text(history_1y.index[0], history_1y[0]+10, f\"starting_value: {history_1y[0]}\")\n",
    "plt.text(history_1y.index[0], history_1y[0]+5, f\"closing_value: {history_1y[-1]}\")\n",
    "plt.ylim(min(history_1y)-5, max(history_1y)+15)\n",
    "\n",
    "plt.subplot(gs[2, 0])\n",
    "plt.plot(history_since_corona)\n",
    "plt.title(f\"Since Corona: trading history {stock.info['symbol']}\")\n",
    "plt.text(history_since_corona.index[0], history_since_corona[0]+10, f\"starting_value: {history_since_corona[0]}\")\n",
    "plt.text(history_since_corona.index[0], history_since_corona[0]+5, f\"closing_value: {history_since_corona[-1]}\")\n",
    "plt.ylim(min(history_since_corona)-5, max(history_since_corona)+15)\n",
    "plt.xticks(rotation=45)\n",
    "\n",
    "\n",
    "plt.tight_layout()\n",
    "plt.show()\n",
    "\n",
    "## calc returns\n",
    "print(f\"1y:              percent return: {ret_1y:.2%}\")\n",
    "print(f\"Since Corona:    percent return: {ret_since_corona:.2%}\\n\")\n",
    "\n",
    "## calc returns w/o Corona & compare with DAX\n",
    "print(f\"5y percent return before 21.02.20: {ret_5y_wo_corona:.2%}. Diff to dax: {perc_diff_dax_5y_wo_corona:.2%}\")\n",
    "print(f\"1y percent return before 21.02.20: {ret_1y_wo_corona:.2%}. Diff to dax: {perc_diff_dax_1y_wo_corona:.2%}\")"
   ]
  },
  {
   "cell_type": "markdown",
   "metadata": {
    "collapsed": true,
    "papermill": {
     "duration": 0.018951,
     "end_time": "2020-03-16T12:53:44.157870",
     "exception": false,
     "start_time": "2020-03-16T12:53:44.138919",
     "status": "completed"
    },
    "tags": []
   },
   "source": [
    "# News cycle"
   ]
  },
  {
   "cell_type": "code",
   "execution_count": 6,
   "metadata": {
    "collapsed": false,
    "papermill": {
     "duration": 0.618956,
     "end_time": "2020-03-16T12:53:44.791092",
     "exception": false,
     "start_time": "2020-03-16T12:53:44.172136",
     "status": "completed"
    },
    "tags": []
   },
   "outputs": [
    {
     "name": "stdout",
     "output_type": "stream",
     "text": [
      "total results: 15\n",
      "\n",
      "\n",
      "2020-03-16T11:20:14Z\n",
      "  Fight against global recession reaches new level of urgency\n",
      "  Financial Post\n",
      "  https://business.financialpost.com/news/economy/fight-against-global-recession-reaches-new-level-of-urgency\n",
      "\n",
      "2020-03-16T07:47:06Z\n",
      "  Aktivistische Investoren: Hedgefonds wittern in der Coronakrise ihre Chance\n",
      "  Handelsblatt\n",
      "  https://www.handelsblatt.com/finanzen/anlagestrategie/trends/aktivistische-investoren-hedgefonds-wittern-in-der-coronakrise-ihre-chance/25634358.html\n",
      "\n",
      "2020-03-16T02:15:15Z\n",
      "  Fed slashes rates, global central banks coordinate to cushion coronavirus blow\n",
      "  Reuters\n",
      "  https://in.reuters.com/article/health-coronavirus-central-banks-idINKBN21306O\n",
      "\n",
      "2020-03-13T10:52:38Z\n",
      "  Norway central bank slashes rates, pumps money into banks\n",
      "  Reuters\n",
      "  https://www.reuters.com/article/us-health-coronavirus-norway-cenbank-idUSKBN2101EW\n",
      "\n",
      "2020-03-09T15:01:41Z\n",
      "  Devisenmarkt: Investoren flüchten in den japanischen Yen – Rubel unter Druck\n",
      "  Handelsblatt\n",
      "  https://www.handelsblatt.com/finanzen/maerkte/devisen-rohstoffe/devisenmarkt-investoren-fluechten-in-den-japanischen-yen-rubel-unter-druck/25623600.html\n",
      "\n",
      "2020-03-09T09:46:35Z\n",
      "  Nordea expands travel ban to cover Iran, Italy, South Korea and Hokkaido\n",
      "  Reuters\n",
      "  https://www.reuters.com/article/us-health-coronavirus-nordea-idUSKBN20W14J\n",
      "\n",
      "2020-03-09T09:28:03Z\n",
      "  UPDATE 2-Norway finance minister touts economic strength as markets, currency plunge\n",
      "  Reuters\n",
      "  https://www.reuters.com/article/us-norway-economy-idUSKBN20W135\n",
      "\n",
      "2020-03-04T14:01:24Z\n",
      "  Follow the Fed? Why central banks won't be rushed on virus response\n",
      "  Reuters\n",
      "  https://www.reuters.com/article/us-health-coronavirus-policy-analysis-idUSKBN20R230\n",
      "\n",
      "2020-03-04T14:01:24Z\n",
      "  Follow the Fed? Why central banks won't be rushed on virus response\n",
      "  Reuters\n",
      "  https://ca.reuters.com/article/businessNews/idCAKBN20R230\n",
      "\n",
      "2020-03-04T13:55:01Z\n",
      "  Follow the Fed? Why central banks won't be rushed on virus response\n",
      "  Reuters\n",
      "  https://in.reuters.com/article/us-health-coronavirus-policy-analysis-idINKBN20R230\n",
      "\n",
      "2020-03-04T12:32:57Z\n",
      "  Bond yields in longest slide in a generation after Fed’s surprise rate cut\n",
      "  Financial Post\n",
      "  https://business.financialpost.com/investing/bonds-hold-gains-after-feds-surprise-rate-cut\n",
      "\n",
      "2020-03-04T11:43:51Z\n",
      "  Geldpolitik: Zinssenkung in den USA erhöht Druck auf die EZB – Womit Experten jetzt rechnen\n",
      "  Handelsblatt\n",
      "  https://www.handelsblatt.com/finanzen/geldpolitik/geldpolitik-zinssenkung-in-den-usa-erhoeht-druck-auf-die-ezb-womit-experten-jetzt-rechnen/25608270.html\n",
      "\n",
      "2020-03-04T11:43:51Z\n",
      "  Geldpolitik: Warum die Zinssenkung in den USA den Druck auf die EZB erhöht\n",
      "  Handelsblatt\n",
      "  https://www.handelsblatt.com/finanzen/geldpolitik/geldpolitik-warum-die-zinssenkung-in-den-usa-den-druck-auf-die-ezb-erhoeht/25608270.html\n",
      "\n",
      "2020-03-04T06:13:00Z\n",
      "  GLOBAL MARKETS-Asian shares struggle despite Fed cut; resurgent Biden boosts U.S. futures - Reuters UK\n",
      "  Reuters\n",
      "  https://uk.reuters.com/article/uk-global-markets-idUKKBN20Q37H\n",
      "\n",
      "2020-03-03T18:32:24Z\n",
      "  Bank of Canada’s hand likely forced by Federal Reserve’s emergency rate cut\n",
      "  Financial Post\n",
      "  https://business.financialpost.com/news/economy/bank-of-canadas-hand-likely-forced-by-federal-reserves-emergency-rate-cut\n",
      "\n"
     ]
    }
   ],
   "source": [
    "# init api\n",
    "api = config.API_NEWS\n",
    "newsapi = NewsApiClient(api_key=api)\n",
    "\n",
    "# name already set above\n",
    "name = name\n",
    "# define date range - as start date take minus 28 days to always stay within api limit (apparently 1 month)\n",
    "current_date = datetime.datetime.now().date()\n",
    "date_28_days_ago = current_date - datetime.timedelta(days=28)\n",
    "\n",
    "\n",
    "# split name into word elements and loop through name until first hit\n",
    "name_split = name.split(' ')\n",
    "counter = 0\n",
    "for i in name_split:\n",
    "    # join words to current state of loop (e.g. ['Capital', 'Senior', 'Living'] to 'Capital Senior Living')\n",
    "    query_word = ' '.join(name_split[0 : len(name_split) - counter])\n",
    "    \n",
    "    # get articles, first 20 (page 1) and sorted by publication date\n",
    "    headlines = newsapi.get_everything(q=query_word\n",
    "                                           , sources='reuters, google-news, bloomberg, financial-post, handelsblatt, google-news-fr, le-monde, lequipe, les-echos, liberation'\n",
    "                                           , from_param=date_28_days_ago\n",
    "                                           , to=current_date\n",
    "                                          # , language='en'\n",
    "                                           , sort_by='publishedAt'\n",
    "                                           , page=1\n",
    "                                             )\n",
    "\n",
    "    # if any results, print and break loop\n",
    "    total_results = headlines['totalResults']\n",
    "    if total_results > 0:\n",
    "        print(f\"total results: {total_results}\\n\\n\")\n",
    "        for i in range(len(headlines['articles'])):\n",
    "            print(f\"{headlines['articles'][i]['publishedAt']}\")\n",
    "            print(f\"  {headlines['articles'][i]['title']}\")\n",
    "            print(f\"  {headlines['articles'][i]['source']['name']}\")\n",
    "            print(f\"  {headlines['articles'][i]['url']}\\n\")\n",
    "        break\n",
    "    counter += 1\n",
    "    if counter == len(name_split) and total_results == 0:\n",
    "        print(f\"no news since {date_28_days_ago}\")\n"
   ]
  },
  {
   "cell_type": "code",
   "execution_count": null,
   "metadata": {
    "collapsed": true,
    "papermill": {
     "duration": 0.014868,
     "end_time": "2020-03-16T12:53:44.817216",
     "exception": false,
     "start_time": "2020-03-16T12:53:44.802348",
     "status": "completed"
    },
    "tags": []
   },
   "outputs": [],
   "source": []
  }
 ],
 "metadata": {
  "celltoolbar": "Edit Metadata",
  "kernelspec": {
   "display_name": "notadiet Py3.6",
   "language": "python",
   "name": "notadiet"
  },
  "language_info": {
   "codemirror_mode": {
    "name": "ipython",
    "version": 3
   },
   "file_extension": ".py",
   "mimetype": "text/x-python",
   "name": "python",
   "nbconvert_exporter": "python",
   "pygments_lexer": "ipython3",
   "version": "3.6.2"
  },
  "papermill": {
   "duration": 8.496994,
   "end_time": "2020-03-16T12:53:45.291711",
   "environment_variables": {},
   "exception": null,
   "input_path": "corona_invest.ipynb",
   "output_path": "./stocks/nda-sest.ipynb",
   "parameters": {
    "ticker": "NDA-SE.ST"
   },
   "start_time": "2020-03-16T12:53:36.794717",
   "version": "0.16.2"
  }
 },
 "nbformat": 4,
 "nbformat_minor": 1
}