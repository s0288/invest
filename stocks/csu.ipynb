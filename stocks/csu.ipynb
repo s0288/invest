{
 "cells": [
  {
   "cell_type": "code",
   "execution_count": 1,
   "metadata": {
    "collapsed": true,
    "hide_input": true,
    "papermill": {
     "duration": 0.019813,
     "end_time": "2020-03-16T12:50:52.298559",
     "exception": false,
     "start_time": "2020-03-16T12:50:52.278746",
     "status": "completed"
    },
    "tags": [
     "parameters"
    ]
   },
   "outputs": [],
   "source": [
    "ticker = \"KORI.PA\""
   ]
  },
  {
   "cell_type": "code",
   "execution_count": 2,
   "metadata": {
    "papermill": {
     "duration": 0.018137,
     "end_time": "2020-03-16T12:50:52.324081",
     "exception": false,
     "start_time": "2020-03-16T12:50:52.305944",
     "status": "completed"
    },
    "tags": [
     "injected-parameters"
    ]
   },
   "outputs": [],
   "source": [
    "# Parameters\n",
    "ticker = \"CSU\"\n"
   ]
  },
  {
   "cell_type": "code",
   "execution_count": 3,
   "metadata": {
    "collapsed": false,
    "papermill": {
     "duration": 5.668469,
     "end_time": "2020-03-16T12:50:58.002121",
     "exception": false,
     "start_time": "2020-03-16T12:50:52.333652",
     "status": "completed"
    },
    "tags": []
   },
   "outputs": [],
   "source": [
    "import yfinance as yf\n",
    "import pandas as pd\n",
    "import matplotlib.pyplot as plt\n",
    "import matplotlib.gridspec as gridspec\n",
    "from pandas.plotting import register_matplotlib_converters\n",
    "register_matplotlib_converters()\n",
    "import os\n",
    "\n",
    "from newsapi import NewsApiClient\n",
    "import config\n",
    "import datetime\n",
    "\n",
    "stock = yf.Ticker(ticker)\n",
    "dax = yf.Ticker(\"^GDAXI\")\n",
    "sp = yf.Ticker(\"^GSPC\")\n",
    "\n",
    "#### stock history values\n",
    "history_5y = stock.history(period='5y')['Close']\n",
    "history_1y = stock.history(period='1y')['Close']\n",
    "history_since_corona = history_1y[history_1y.index >= '2020-02-20']\n",
    "\n",
    "dax_5y = dax.history(period='5y')['Close']\n",
    "dax_1y = dax.history(period='1y')['Close']\n",
    "sp_5y = sp.history(period='5y')['Close']\n",
    "sp_1y = sp.history(period='1y')['Close']\n",
    "\n",
    "\n",
    "def get_stock_info(label):\n",
    "    try:\n",
    "        value = stock.info[label]\n",
    "    except:\n",
    "        value = None\n",
    "    return value\n",
    "\n",
    "#### df values: \"name\", \"symbol\", \"sector\", \"industry\", \"country\", \"business_summary\", \"ret_since_corona\", \"ret_1y\", \"ret_5y\", \"ret_1y_wo_corona\", \"ret_5y_wo_corona\", \"perc_diff_dax_1y_wo_corona\", \"perc_diff_dax_5y_wo_corona\", \"perc_diff_sp_1y_wo_corona\", \"perc_diff_sp_5y_wo_corona\"\n",
    "name = get_stock_info(\"longName\")\n",
    "symbol = get_stock_info(\"symbol\")\n",
    "sector = get_stock_info(\"sector\")\n",
    "industry = get_stock_info(\"industry\")\n",
    "country = get_stock_info(\"country\")\n",
    "business_summary = get_stock_info(\"longBusinessSummary\")\n",
    "\n",
    "ret_since_corona = history_since_corona.pct_change().sum()\n",
    "ret_1y = history_1y.pct_change().sum()\n",
    "ret_5y = history_5y.pct_change().sum()\n",
    "ret_1y_wo_corona = history_1y[history_1y.index <= '2020-02-21'].pct_change().sum()\n",
    "ret_5y_wo_corona = history_5y[history_5y.index <= '2020-02-21'].pct_change().sum()\n",
    "\n",
    "dax_1y_wo_corona = dax_1y[dax_1y.index <= '2020-02-21'].pct_change().sum()\n",
    "dax_5y_wo_corona = dax_5y[dax_5y.index <= '2020-02-21'].pct_change().sum()\n",
    "sp_1y_wo_corona = sp_1y[sp_1y.index <= '2020-02-21'].pct_change().sum()\n",
    "sp_5y_wo_corona = sp_5y[sp_5y.index <= '2020-02-21'].pct_change().sum()\n",
    "\n",
    "perc_diff_dax_1y_wo_corona = ret_1y_wo_corona - dax_1y_wo_corona\n",
    "perc_diff_dax_5y_wo_corona = ret_5y_wo_corona - dax_5y_wo_corona\n",
    "perc_diff_sp_1y_wo_corona = ret_1y_wo_corona - sp_1y_wo_corona\n",
    "perc_diff_sp_5y_wo_corona = ret_5y_wo_corona - sp_5y_wo_corona\n",
    "\n",
    "\n",
    "if os.path.isfile('stock_returns.pkl'):\n",
    "    # load existing pickle\n",
    "    df = pd.read_pickle(\"stock_returns.pkl\")\n",
    "    # check if stock in pickle already, if not, add stock\n",
    "else:\n",
    "    # create new dataframe (only do once)\n",
    "    df = pd.DataFrame(columns=[\"name\", \"symbol\", \"sector\", \"industry\", \"country\", \"business_summary\", \"ret_since_corona\", \"ret_1y\", \"ret_5y\", \"ret_1y_wo_corona\", \"ret_5y_wo_corona\", \"perc_diff_dax_1y_wo_corona\", \"perc_diff_dax_5y_wo_corona\", \"perc_diff_sp_1y_wo_corona\", \"perc_diff_sp_5y_wo_corona\"])\n",
    "\n",
    "if sum(symbol == df.symbol) == 0:\n",
    "    df.loc[len(df)] = [name, symbol, sector, industry, country, business_summary, ret_since_corona, ret_1y, ret_5y, ret_1y_wo_corona, ret_5y_wo_corona, perc_diff_dax_1y_wo_corona, perc_diff_dax_5y_wo_corona, perc_diff_sp_1y_wo_corona, perc_diff_sp_5y_wo_corona]\n",
    "    df.to_pickle(\"stock_returns.pkl\")"
   ]
  },
  {
   "cell_type": "markdown",
   "metadata": {
    "papermill": {
     "duration": 0.009814,
     "end_time": "2020-03-16T12:50:58.019280",
     "exception": false,
     "start_time": "2020-03-16T12:50:58.009466",
     "status": "completed"
    },
    "tags": []
   },
   "source": [
    "# Company info "
   ]
  },
  {
   "cell_type": "code",
   "execution_count": 4,
   "metadata": {
    "collapsed": false,
    "papermill": {
     "duration": 0.02261,
     "end_time": "2020-03-16T12:50:58.048891",
     "exception": false,
     "start_time": "2020-03-16T12:50:58.026281",
     "status": "completed"
    },
    "tags": []
   },
   "outputs": [
    {
     "name": "stdout",
     "output_type": "stream",
     "text": [
      "\n",
      "Company name: Capital Senior Living Corporation\n",
      "Symbol: CSU\n",
      "Sector: Healthcare\n",
      "Industry: Medical Care Facilities\n",
      "Country: United States\n",
      "\n",
      "Business summary: Capital Senior Living Corporation develops, owns, operates, and manages senior housing communities in the United States. The company provides senior living services to the elderly, including independent living, assisted living, and memory care services. Its independent living services comprise daily meals, transportation, social and recreational activities, laundry, housekeeping, and 24-hour staffing; and access to health screenings, periodic special services, and dietary and similar programs, as well as exercise and fitness classes. The company's assisted living services consist of personal care services, such as assistance with activities of daily living (ADLs), including ambulation, bathing, dressing, eating, grooming, personal hygiene, and monitoring or assistance with medications; support services comprising meals, assistance with social and recreational activities, laundry, general housekeeping, maintenance, and transportation services; and supplemental services, including extra transportation, personal maintenance, and extra laundry, as well as special care services for residents with various forms of dementia. In addition, it offers home care services through third-party providers. As of December 31, 2018, the company operated 129 senior housing communities in 23 states with an aggregate capacity of approximately 16,500 residents, including 83 owned and 46 leased senior housing communities. Capital Senior Living Corporation was founded in 1990 and is headquartered in Dallas, Texas.\n",
      "\n"
     ]
    }
   ],
   "source": [
    "print(f\"\"\"\n",
    "Company name: {name}\n",
    "Symbol: {symbol}\n",
    "Sector: {sector}\n",
    "Industry: {industry}\n",
    "Country: {country}\\n\n",
    "Business summary: {business_summary}\n",
    "\"\"\")"
   ]
  },
  {
   "cell_type": "markdown",
   "metadata": {
    "papermill": {
     "duration": 0.007886,
     "end_time": "2020-03-16T12:50:58.065338",
     "exception": false,
     "start_time": "2020-03-16T12:50:58.057452",
     "status": "completed"
    },
    "tags": []
   },
   "source": [
    "# Performance"
   ]
  },
  {
   "cell_type": "code",
   "execution_count": 5,
   "metadata": {
    "collapsed": false,
    "papermill": {
     "duration": 1.269438,
     "end_time": "2020-03-16T12:50:59.342421",
     "exception": false,
     "start_time": "2020-03-16T12:50:58.072983",
     "status": "completed"
    },
    "tags": []
   },
   "outputs": [
    {
     "data": {
      "image/png": "[encoded data removed]",
      "text/plain": [
       "<matplotlib.figure.Figure at 0x11845feb8>"
      ]
     },
     "metadata": {},
     "output_type": "display_data"
    },
    {
     "name": "stdout",
     "output_type": "stream",
     "text": [
      "1y:              percent return: -156.46%\n",
      "Since Corona:    percent return: -129.72%\n",
      "\n",
      "5y percent return before 21.02.20: -160.28%. Diff to dax: -178.76%\n",
      "1y percent return before 21.02.20: -25.40%. Diff to dax: -41.57%\n"
     ]
    }
   ],
   "source": [
    "# Create 2x2 sub plots\n",
    "gs = gridspec.GridSpec(4, 1)\n",
    "\n",
    "plt.figure(figsize = (10,10))\n",
    "\n",
    "plt.subplot(gs[0, 0])\n",
    "plt.plot(history_5y)\n",
    "plt.title(f\"5y: trading history {stock.info['symbol']}\")\n",
    "plt.text(history_5y.index[0], history_5y[0]+10, f\"starting_value: {history_5y[0]}\")\n",
    "plt.text(history_5y.index[0], history_5y[0]+5, f\"closing_value: {history_5y[-1]}\")\n",
    "plt.ylim(min(history_5y)-5, max(history_5y)+15)\n",
    "\n",
    "plt.subplot(gs[1, 0])\n",
    "plt.plot(history_1y)\n",
    "plt.title(f\"1y: trading history {stock.info['symbol']}\")\n",
    "plt.text(history_1y.index[0], history_1y[0]+10, f\"starting_value: {history_1y[0]}\")\n",
    "plt.text(history_1y.index[0], history_1y[0]+5, f\"closing_value: {history_1y[-1]}\")\n",
    "plt.ylim(min(history_1y)-5, max(history_1y)+15)\n",
    "\n",
    "plt.subplot(gs[2, 0])\n",
    "plt.plot(history_since_corona)\n",
    "plt.title(f\"Since Corona: trading history {stock.info['symbol']}\")\n",
    "plt.text(history_since_corona.index[0], history_since_corona[0]+10, f\"starting_value: {history_since_corona[0]}\")\n",
    "plt.text(history_since_corona.index[0], history_since_corona[0]+5, f\"closing_value: {history_since_corona[-1]}\")\n",
    "plt.ylim(min(history_since_corona)-5, max(history_since_corona)+15)\n",
    "plt.xticks(rotation=45)\n",
    "\n",
    "\n",
    "plt.tight_layout()\n",
    "plt.show()\n",
    "\n",
    "## calc returns\n",
    "print(f\"1y:              percent return: {ret_1y:.2%}\")\n",
    "print(f\"Since Corona:    percent return: {ret_since_corona:.2%}\\n\")\n",
    "\n",
    "## calc returns w/o Corona & compare with DAX\n",
    "print(f\"5y percent return before 21.02.20: {ret_5y_wo_corona:.2%}. Diff to dax: {perc_diff_dax_5y_wo_corona:.2%}\")\n",
    "print(f\"1y percent return before 21.02.20: {ret_1y_wo_corona:.2%}. Diff to dax: {perc_diff_dax_1y_wo_corona:.2%}\")"
   ]
  },
  {
   "cell_type": "markdown",
   "metadata": {
    "collapsed": true,
    "papermill": {
     "duration": 0.015894,
     "end_time": "2020-03-16T12:50:59.370754",
     "exception": false,
     "start_time": "2020-03-16T12:50:59.354860",
     "status": "completed"
    },
    "tags": []
   },
   "source": [
    "# News cycle"
   ]
  },
  {
   "cell_type": "code",
   "execution_count": 6,
   "metadata": {
    "collapsed": false,
    "papermill": {
     "duration": 0.656369,
     "end_time": "2020-03-16T12:51:00.041736",
     "exception": false,
     "start_time": "2020-03-16T12:50:59.385367",
     "status": "completed"
    },
    "tags": []
   },
   "outputs": [
    {
     "name": "stdout",
     "output_type": "stream",
     "text": [
      "total results: 12\n",
      "\n",
      "\n",
      "2020-03-11T17:37:04Z\n",
      "  In change, U.S. describes East Jerusalem Palestinians as 'Arab residents'\n",
      "  Reuters\n",
      "  https://www.reuters.com/article/us-usa-rights-israel-palestinians-idUSKBN20Y2VW\n",
      "\n",
      "2020-03-02T12:17:51Z\n",
      "  Broken Health: The medical crisis that’s aggravating Iraq’s unrest\n",
      "  Reuters\n",
      "  https://www.reuters.com/article/us-iraq-health-specialreport-idUSKBN20P1QB\n",
      "\n",
      "2020-02-29T05:57:11Z\n",
      "  Afghans hope for peace as U.S.-Taliban gear up for troop withdrawal deal\n",
      "  Reuters\n",
      "  https://uk.reuters.com/article/uk-usa-afghanistan-taliban-idUKKBN20N06Z\n",
      "\n",
      "2020-02-29T05:35:49Z\n",
      "  Afghans hope for peace as U.S.-Taliban gear up for troop withdrawal deal\n",
      "  Reuters\n",
      "  https://www.reuters.com/article/us-usa-afghanistan-taliban-idUSKBN20N06R\n",
      "\n",
      "2020-02-29T05:35:49Z\n",
      "  Afghans hope for peace as U.S.-Taliban gear up for troop withdrawal deal\n",
      "  Reuters\n",
      "  https://ca.reuters.com/article/topNews/idCAKBN20N06R\n",
      "\n",
      "2020-02-29T05:18:52Z\n",
      "  Afghans hope for peace as U.S.-Taliban gear up for troop withdrawal deal\n",
      "  Reuters\n",
      "  https://in.reuters.com/article/usa-afghanistan-taliban-idINKBN20N06I\n",
      "\n",
      "2020-02-29T03:00:00Z\n",
      "  A Former Pariah That Hosted Bin Laden Courts Global Approval\n",
      "  Bloomberg\n",
      "  https://www.bloomberg.com/news/articles/2020-02-29/a-former-pariah-that-hosted-bin-laden-now-courts-global-approval\n",
      "\n",
      "2020-02-22T07:13:20Z\n",
      "  China brings in seven cruise ships to house Wuhan medical workers\n",
      "  Reuters\n",
      "  https://www.reuters.com/article/us-china-health-wuhan-cruise-idUSKCN20G091\n",
      "\n",
      "2020-02-22T06:55:10Z\n",
      "  China brings in seven cruise ships to house Wuhan medical workers\n",
      "  Reuters\n",
      "  https://uk.reuters.com/article/china-health-wuhan-cruise-idUKL3N2AM02H\n",
      "\n",
      "2020-02-22T06:55:10Z\n",
      "  China brings in seven cruise ships to house Wuhan medical workers\n",
      "  Reuters\n",
      "  https://www.reuters.com/article/china-health-wuhan-cruise-idUSL3N2AM02H\n",
      "\n",
      "2020-02-17T14:20:56Z\n",
      "  Libya's rival factions dig in for long conflict\n",
      "  Reuters\n",
      "  https://af.reuters.com/article/worldNews/idAFKBN20B1DP\n",
      "\n",
      "2020-02-17T14:18:16Z\n",
      "  Libya's rival factions dig in for long conflict\n",
      "  Reuters\n",
      "  https://www.reuters.com/article/us-libya-security-analysis-idUSKBN20B1DR\n",
      "\n"
     ]
    }
   ],
   "source": [
    "# init api\n",
    "api = config.API_NEWS\n",
    "newsapi = NewsApiClient(api_key=api)\n",
    "\n",
    "# name already set above\n",
    "name = name\n",
    "# define date range - as start date take minus 28 days to always stay within api limit (apparently 1 month)\n",
    "current_date = datetime.datetime.now().date()\n",
    "date_28_days_ago = current_date - datetime.timedelta(days=28)\n",
    "\n",
    "\n",
    "# split name into word elements and loop through name until first hit\n",
    "name_split = name.split(' ')\n",
    "counter = 0\n",
    "for i in name_split:\n",
    "    # join words to current state of loop (e.g. ['Capital', 'Senior', 'Living'] to 'Capital Senior Living')\n",
    "    query_word = ' '.join(name_split[0 : len(name_split) - counter])\n",
    "    \n",
    "    # get articles, first 20 (page 1) and sorted by publication date\n",
    "    headlines = newsapi.get_everything(q=query_word\n",
    "                                           , sources='reuters, google-news, bloomberg, financial-post, handelsblatt, google-news-fr, le-monde, lequipe, les-echos, liberation'\n",
    "                                           , from_param=date_28_days_ago\n",
    "                                           , to=current_date\n",
    "                                          # , language='en'\n",
    "                                           , sort_by='publishedAt'\n",
    "                                           , page=1\n",
    "                                             )\n",
    "\n",
    "    # if any results, print and break loop\n",
    "    total_results = headlines['totalResults']\n",
    "    if total_results > 0:\n",
    "        print(f\"total results: {total_results}\\n\\n\")\n",
    "        for i in range(len(headlines['articles'])):\n",
    "            print(f\"{headlines['articles'][i]['publishedAt']}\")\n",
    "            print(f\"  {headlines['articles'][i]['title']}\")\n",
    "            print(f\"  {headlines['articles'][i]['source']['name']}\")\n",
    "            print(f\"  {headlines['articles'][i]['url']}\\n\")\n",
    "        break\n",
    "    counter += 1\n",
    "    if counter == len(name_split) and total_results == 0:\n",
    "        print(f\"no news since {date_28_days_ago}\")\n"
   ]
  },
  {
   "cell_type": "code",
   "execution_count": null,
   "metadata": {
    "collapsed": true,
    "papermill": {
     "duration": 0.014409,
     "end_time": "2020-03-16T12:51:00.067623",
     "exception": false,
     "start_time": "2020-03-16T12:51:00.053214",
     "status": "completed"
    },
    "tags": []
   },
   "outputs": [],
   "source": []
  }
 ],
 "metadata": {
  "celltoolbar": "Edit Metadata",
  "kernelspec": {
   "display_name": "notadiet Py3.6",
   "language": "python",
   "name": "notadiet"
  },
  "language_info": {
   "codemirror_mode": {
    "name": "ipython",
    "version": 3
   },
   "file_extension": ".py",
   "mimetype": "text/x-python",
   "name": "python",
   "nbconvert_exporter": "python",
   "pygments_lexer": "ipython3",
   "version": "3.6.2"
  },
  "papermill": {
   "duration": 9.479947,
   "end_time": "2020-03-16T12:51:00.560044",
   "environment_variables": {},
   "exception": null,
   "input_path": "corona_invest.ipynb",
   "output_path": "./stocks/csu.ipynb",
   "parameters": {
    "ticker": "CSU"
   },
   "start_time": "2020-03-16T12:50:51.080097",
   "version": "0.16.2"
  }
 },
 "nbformat": 4,
 "nbformat_minor": 1
}