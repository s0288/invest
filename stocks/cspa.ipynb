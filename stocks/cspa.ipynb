{
 "cells": [
  {
   "cell_type": "code",
   "execution_count": 1,
   "metadata": {
    "collapsed": true,
    "hide_input": true,
    "papermill": {
     "duration": 0.02499,
     "end_time": "2020-03-16T12:55:17.585398",
     "exception": false,
     "start_time": "2020-03-16T12:55:17.560408",
     "status": "completed"
    },
    "tags": [
     "parameters"
    ]
   },
   "outputs": [],
   "source": [
    "ticker = \"KORI.PA\""
   ]
  },
  {
   "cell_type": "code",
   "execution_count": 2,
   "metadata": {
    "papermill": {
     "duration": 0.016274,
     "end_time": "2020-03-16T12:55:17.608822",
     "exception": false,
     "start_time": "2020-03-16T12:55:17.592548",
     "status": "completed"
    },
    "tags": [
     "injected-parameters"
    ]
   },
   "outputs": [],
   "source": [
    "# Parameters\n",
    "ticker = \"CS.PA\"\n"
   ]
  },
  {
   "cell_type": "code",
   "execution_count": 3,
   "metadata": {
    "collapsed": false,
    "papermill": {
     "duration": 5.818303,
     "end_time": "2020-03-16T12:55:23.433960",
     "exception": false,
     "start_time": "2020-03-16T12:55:17.615657",
     "status": "completed"
    },
    "tags": []
   },
   "outputs": [],
   "source": [
    "import yfinance as yf\n",
    "import pandas as pd\n",
    "import matplotlib.pyplot as plt\n",
    "import matplotlib.gridspec as gridspec\n",
    "from pandas.plotting import register_matplotlib_converters\n",
    "register_matplotlib_converters()\n",
    "import os\n",
    "\n",
    "from newsapi import NewsApiClient\n",
    "import config\n",
    "import datetime\n",
    "\n",
    "stock = yf.Ticker(ticker)\n",
    "dax = yf.Ticker(\"^GDAXI\")\n",
    "sp = yf.Ticker(\"^GSPC\")\n",
    "\n",
    "#### stock history values\n",
    "history_5y = stock.history(period='5y')['Close']\n",
    "history_1y = stock.history(period='1y')['Close']\n",
    "history_since_corona = history_1y[history_1y.index >= '2020-02-20']\n",
    "\n",
    "dax_5y = dax.history(period='5y')['Close']\n",
    "dax_1y = dax.history(period='1y')['Close']\n",
    "sp_5y = sp.history(period='5y')['Close']\n",
    "sp_1y = sp.history(period='1y')['Close']\n",
    "\n",
    "\n",
    "def get_stock_info(label):\n",
    "    try:\n",
    "        value = stock.info[label]\n",
    "    except:\n",
    "        value = None\n",
    "    return value\n",
    "\n",
    "#### df values: \"name\", \"symbol\", \"sector\", \"industry\", \"country\", \"business_summary\", \"ret_since_corona\", \"ret_1y\", \"ret_5y\", \"ret_1y_wo_corona\", \"ret_5y_wo_corona\", \"perc_diff_dax_1y_wo_corona\", \"perc_diff_dax_5y_wo_corona\", \"perc_diff_sp_1y_wo_corona\", \"perc_diff_sp_5y_wo_corona\"\n",
    "name = get_stock_info(\"longName\")\n",
    "symbol = get_stock_info(\"symbol\")\n",
    "sector = get_stock_info(\"sector\")\n",
    "industry = get_stock_info(\"industry\")\n",
    "country = get_stock_info(\"country\")\n",
    "business_summary = get_stock_info(\"longBusinessSummary\")\n",
    "\n",
    "ret_since_corona = history_since_corona.pct_change().sum()\n",
    "ret_1y = history_1y.pct_change().sum()\n",
    "ret_5y = history_5y.pct_change().sum()\n",
    "ret_1y_wo_corona = history_1y[history_1y.index <= '2020-02-21'].pct_change().sum()\n",
    "ret_5y_wo_corona = history_5y[history_5y.index <= '2020-02-21'].pct_change().sum()\n",
    "\n",
    "dax_1y_wo_corona = dax_1y[dax_1y.index <= '2020-02-21'].pct_change().sum()\n",
    "dax_5y_wo_corona = dax_5y[dax_5y.index <= '2020-02-21'].pct_change().sum()\n",
    "sp_1y_wo_corona = sp_1y[sp_1y.index <= '2020-02-21'].pct_change().sum()\n",
    "sp_5y_wo_corona = sp_5y[sp_5y.index <= '2020-02-21'].pct_change().sum()\n",
    "\n",
    "perc_diff_dax_1y_wo_corona = ret_1y_wo_corona - dax_1y_wo_corona\n",
    "perc_diff_dax_5y_wo_corona = ret_5y_wo_corona - dax_5y_wo_corona\n",
    "perc_diff_sp_1y_wo_corona = ret_1y_wo_corona - sp_1y_wo_corona\n",
    "perc_diff_sp_5y_wo_corona = ret_5y_wo_corona - sp_5y_wo_corona\n",
    "\n",
    "\n",
    "if os.path.isfile('stock_returns.pkl'):\n",
    "    # load existing pickle\n",
    "    df = pd.read_pickle(\"stock_returns.pkl\")\n",
    "    # check if stock in pickle already, if not, add stock\n",
    "else:\n",
    "    # create new dataframe (only do once)\n",
    "    df = pd.DataFrame(columns=[\"name\", \"symbol\", \"sector\", \"industry\", \"country\", \"business_summary\", \"ret_since_corona\", \"ret_1y\", \"ret_5y\", \"ret_1y_wo_corona\", \"ret_5y_wo_corona\", \"perc_diff_dax_1y_wo_corona\", \"perc_diff_dax_5y_wo_corona\", \"perc_diff_sp_1y_wo_corona\", \"perc_diff_sp_5y_wo_corona\"])\n",
    "\n",
    "if sum(symbol == df.symbol) == 0:\n",
    "    df.loc[len(df)] = [name, symbol, sector, industry, country, business_summary, ret_since_corona, ret_1y, ret_5y, ret_1y_wo_corona, ret_5y_wo_corona, perc_diff_dax_1y_wo_corona, perc_diff_dax_5y_wo_corona, perc_diff_sp_1y_wo_corona, perc_diff_sp_5y_wo_corona]\n",
    "    df.to_pickle(\"stock_returns.pkl\")"
   ]
  },
  {
   "cell_type": "markdown",
   "metadata": {
    "papermill": {
     "duration": 0.012471,
     "end_time": "2020-03-16T12:55:23.454103",
     "exception": false,
     "start_time": "2020-03-16T12:55:23.441632",
     "status": "completed"
    },
    "tags": []
   },
   "source": [
    "# Company info "
   ]
  },
  {
   "cell_type": "code",
   "execution_count": 4,
   "metadata": {
    "collapsed": false,
    "papermill": {
     "duration": 0.028366,
     "end_time": "2020-03-16T12:55:23.491498",
     "exception": false,
     "start_time": "2020-03-16T12:55:23.463132",
     "status": "completed"
    },
    "tags": []
   },
   "outputs": [
    {
     "name": "stdout",
     "output_type": "stream",
     "text": [
      "\n",
      "Company name: AXA SA\n",
      "Symbol: CS.PA\n",
      "Sector: Financial Services\n",
      "Industry: Insurance—Diversified\n",
      "Country: France\n",
      "\n",
      "Business summary: AXA SA, through its subsidiaries, provides insurance and asset management services worldwide. It operates in seven segments: France, Europe, Asia, AXA XL, the United States, International, and Transversal & Central Holdings. The company offers a range of insurance products, including life and savings, property and casualty, and health. Its products include motor, household, property and general liability insurance, banking, savings vehicles, and other investment-based products for personal/individual and commercial/group customers, as well as health, protection, and retirement products for individual or professional customers. The company also provides term life, whole life, universal life, endowment, and deferred and immediate annuities; medical cover; and other protection and health products, such as disability, cancer, and critical illness. In addition, it offers unit-linked, group term, and hospital cash products and investment products; and coverage against excess and surplus lines, environmental and professional liability, construction, marine, energy, aviation and satellite, fine art and specie, equine, livestock and aquaculture, accident and health and crisis management, and other risks. Further, the company provides casualty, property risk, property catastrophe, specialty, and other reinsurance lines; and individual and group retirement products, and employee benefits. Additionally, it is involved in the provision of investment management services through managed accounts, hedge funds, mutual funds, and other investment vehicles to private clients, as well as fundamental research, quantitative, and brokerage-related services in equities and listed options for institutional investors; management of retail mutual funds for individual investors; and management of investments on behalf of institutional clients. The company was founded in 1852 and is headquartered in Paris, France.\n",
      "\n"
     ]
    }
   ],
   "source": [
    "print(f\"\"\"\n",
    "Company name: {name}\n",
    "Symbol: {symbol}\n",
    "Sector: {sector}\n",
    "Industry: {industry}\n",
    "Country: {country}\\n\n",
    "Business summary: {business_summary}\n",
    "\"\"\")"
   ]
  },
  {
   "cell_type": "markdown",
   "metadata": {
    "papermill": {
     "duration": 0.006784,
     "end_time": "2020-03-16T12:55:23.505734",
     "exception": false,
     "start_time": "2020-03-16T12:55:23.498950",
     "status": "completed"
    },
    "tags": []
   },
   "source": [
    "# Performance"
   ]
  },
  {
   "cell_type": "code",
   "execution_count": 5,
   "metadata": {
    "collapsed": false,
    "papermill": {
     "duration": 0.645559,
     "end_time": "2020-03-16T12:55:24.160291",
     "exception": false,
     "start_time": "2020-03-16T12:55:23.514732",
     "status": "completed"
    },
    "tags": []
   },
   "outputs": [
    {
     "data": {
      "image/png": "[encoded data removed]",
      "text/plain": [
       "<matplotlib.figure.Figure at 0x110cc6128>"
      ]
     },
     "metadata": {},
     "output_type": "display_data"
    },
    {
     "name": "stdout",
     "output_type": "stream",
     "text": [
      "1y:              percent return: -51.66%\n",
      "Since Corona:    percent return: -65.72%\n",
      "\n",
      "5y percent return before 21.02.20: 41.55%. Diff to dax: 23.07%\n",
      "1y percent return before 21.02.20: 12.59%. Diff to dax: -3.58%\n"
     ]
    }
   ],
   "source": [
    "# Create 2x2 sub plots\n",
    "gs = gridspec.GridSpec(4, 1)\n",
    "\n",
    "plt.figure(figsize = (10,10))\n",
    "\n",
    "plt.subplot(gs[0, 0])\n",
    "plt.plot(history_5y)\n",
    "plt.title(f\"5y: trading history {stock.info['symbol']}\")\n",
    "plt.text(history_5y.index[0], history_5y[0]+10, f\"starting_value: {history_5y[0]}\")\n",
    "plt.text(history_5y.index[0], history_5y[0]+5, f\"closing_value: {history_5y[-1]}\")\n",
    "plt.ylim(min(history_5y)-5, max(history_5y)+15)\n",
    "\n",
    "plt.subplot(gs[1, 0])\n",
    "plt.plot(history_1y)\n",
    "plt.title(f\"1y: trading history {stock.info['symbol']}\")\n",
    "plt.text(history_1y.index[0], history_1y[0]+10, f\"starting_value: {history_1y[0]}\")\n",
    "plt.text(history_1y.index[0], history_1y[0]+5, f\"closing_value: {history_1y[-1]}\")\n",
    "plt.ylim(min(history_1y)-5, max(history_1y)+15)\n",
    "\n",
    "plt.subplot(gs[2, 0])\n",
    "plt.plot(history_since_corona)\n",
    "plt.title(f\"Since Corona: trading history {stock.info['symbol']}\")\n",
    "plt.text(history_since_corona.index[0], history_since_corona[0]+10, f\"starting_value: {history_since_corona[0]}\")\n",
    "plt.text(history_since_corona.index[0], history_since_corona[0]+5, f\"closing_value: {history_since_corona[-1]}\")\n",
    "plt.ylim(min(history_since_corona)-5, max(history_since_corona)+15)\n",
    "plt.xticks(rotation=45)\n",
    "\n",
    "\n",
    "plt.tight_layout()\n",
    "plt.show()\n",
    "\n",
    "## calc returns\n",
    "print(f\"1y:              percent return: {ret_1y:.2%}\")\n",
    "print(f\"Since Corona:    percent return: {ret_since_corona:.2%}\\n\")\n",
    "\n",
    "## calc returns w/o Corona & compare with DAX\n",
    "print(f\"5y percent return before 21.02.20: {ret_5y_wo_corona:.2%}. Diff to dax: {perc_diff_dax_5y_wo_corona:.2%}\")\n",
    "print(f\"1y percent return before 21.02.20: {ret_1y_wo_corona:.2%}. Diff to dax: {perc_diff_dax_1y_wo_corona:.2%}\")"
   ]
  },
  {
   "cell_type": "markdown",
   "metadata": {
    "collapsed": true,
    "papermill": {
     "duration": 0.015789,
     "end_time": "2020-03-16T12:55:24.186567",
     "exception": false,
     "start_time": "2020-03-16T12:55:24.170778",
     "status": "completed"
    },
    "tags": []
   },
   "source": [
    "# News cycle"
   ]
  },
  {
   "cell_type": "code",
   "execution_count": 6,
   "metadata": {
    "collapsed": false,
    "papermill": {
     "duration": 0.308943,
     "end_time": "2020-03-16T12:55:24.506071",
     "exception": false,
     "start_time": "2020-03-16T12:55:24.197128",
     "status": "completed"
    },
    "tags": []
   },
   "outputs": [
    {
     "name": "stdout",
     "output_type": "stream",
     "text": [
      "total results: 30\n",
      "\n",
      "\n",
      "2020-03-15T10:39:50Z\n",
      "  Generali/Italie : Sinistres sans sinistrose\n",
      "  Les Echos\n",
      "  https://www.lesechos.fr/idees-debats/crible/generaliitalie-sinistres-sans-sinistrose-1185430\n",
      "\n",
      "2020-03-12T13:34:12Z\n",
      "  Les banques accélèrent leur chute en Bourse après l'annonce de la BCE\n",
      "  Les Echos\n",
      "  https://www.lesechos.fr/finance-marches/banque-assurances/les-banques-accelerent-leur-chute-en-bourse-apres-lannonce-de-la-bce-1184668\n",
      "\n",
      "2020-03-12T10:07:10Z\n",
      "  Oman Insurance Weighs Bid for Axa's Middle East Unit\n",
      "  Bloomberg\n",
      "  https://www.bloomberg.com/news/articles/2020-03-12/oman-insurance-is-said-to-weigh-bid-for-axa-s-middle-east-unit\n",
      "\n",
      "2020-03-11T17:00:00Z\n",
      "  SQLI (FR0011289040) : SQLI SE RENFORCE AU ROYAUME-UNI // ACQUISITION DE REDBOX DIGITAL ET ENRICHISSEMENT DU RÉSEAU EUROPÉEN DU PÔLE COMMERCE et EXPERIENCE\n",
      "  Les Echos\n",
      "  http://lesechos-comfi.lesechos.fr/actualite.html?id=916907&cf=rss\n",
      "\n",
      "2020-03-10T16:01:59Z\n",
      "  AXA IM se réorganise pour accélérer sur les actifs alternatifs\n",
      "  Les Echos\n",
      "  https://www.lesechos.fr/finance-marches/banque-assurances/axa-im-se-reorganise-pour-accelerer-sur-les-actifs-alternatifs-1183820\n",
      "\n",
      "2020-03-10T05:30:47Z\n",
      "  Ausha veut devenir un hébergeur européen de podcasts\n",
      "  Les Echos\n",
      "  https://www.lesechos.fr/pme-regions/innovateurs/ausha-veut-devenir-un-hebergeur-europeen-de-podcasts-1183465\n",
      "\n",
      "2020-03-10T03:30:19Z\n",
      "  Après le lundi noir boursier, les marchés vont-ils continuer leur baisse ?\n",
      "  Le Monde\n",
      "  https://www.lemonde.fr/economie/article/2020/03/10/apres-le-lundi-noir-boursier-les-marches-vont-ils-continuer-leur-baisse_6032422_3234.html\n",
      "\n",
      "2020-03-06T15:15:10Z\n",
      "  Arnaud Cosserat : « Nous recherchons les marathoniens de la Bourse, pas les sprinters »\n",
      "  Le Monde\n",
      "  https://www.lemonde.fr/argent/article/2020/03/06/arnaud-cosserat-nous-recherchons-les-marathoniens-de-la-bourse-pas-les-sprinters_6032102_1657007.html\n",
      "\n",
      "2020-03-06T15:00:07Z\n",
      "  Groupama Asset Management prend en compte les critères ESG pour plus de 70 % des actifs.\n",
      "  Le Monde\n",
      "  https://www.lemonde.fr/argent/article/2020/03/06/groupama-asset-management-prend-en-compte-les-criteres-esg-pour-plus-de-70-des-actifs_6032099_1657007.html\n",
      "\n",
      "2020-03-06T14:00:07Z\n",
      "  Lazard Frères Gestion se concentre sur l’analyse des entrprises\n",
      "  Le Monde\n",
      "  https://www.lemonde.fr/argent/article/2020/03/06/lazard-freres-gestion-se-concentre-sur-l-analyse-des-entrprises_6032085_1657007.html\n",
      "\n",
      "2020-03-05T17:00:20Z\n",
      "  Avec des marchés incertains, les meilleurs gestionnaires européens doivent être tout-terrain\n",
      "  Le Monde\n",
      "  https://www.lemonde.fr/argent/article/2020/03/05/avec-des-marches-incertains-les-meilleurs-gestionnaires-europeens-doivent-etre-tout-terrain_6031971_1657007.html\n",
      "\n",
      "2020-03-05T17:00:19Z\n",
      "  Serge Pizem : « Nous restons positifs malgré le choc du coronavirus »\n",
      "  Le Monde\n",
      "  https://www.lemonde.fr/argent/article/2020/03/05/serge-pizem-nous-restons-positifs-malgre-le-choc-du-coronavirus_6031970_1657007.html\n",
      "\n",
      "2020-03-04T09:36:17Z\n",
      "  Covéa à l’assaut de Partner Re, « un signe de l’ébullition dans laquelle est entré le secteur de l’assurance »\n",
      "  Le Monde\n",
      "  https://www.lemonde.fr/economie/article/2020/03/04/covea-a-l-assaut-de-partner-re-un-signe-de-l-ebullition-dans-laquelle-est-entre-le-secteur-de-l-assurance_6031776_3234.html\n",
      "\n",
      "2020-02-29T09:30:26Z\n",
      "  Coronavirus : la crainte d’une déroute mondiale hante les marchés\n",
      "  Le Monde\n",
      "  https://www.lemonde.fr/economie/article/2020/02/29/coronavirus-la-crainte-d-une-deroute-mondiale-hante-les-marches_6031339_3234.html\n",
      "\n",
      "2020-02-28T16:29:37Z\n",
      "  Le député LREM Jacques Maire, soupçonné de conflit d'intérêts, a-t-il été blanchi par la déontologue ?\n",
      "  Libération\n",
      "  https://www.liberation.fr/checknews/2020/02/28/le-depute-lrem-jacques-maire-soupconne-de-conflit-d-interets-a-t-il-ete-blanchi-par-la-deontologue_1779969?xtor=rss-450\n",
      "\n",
      "2020-02-28T11:30:07Z\n",
      "  « L’exécutif veut tourner la page des retraites pour aborder d’autres thématiques dans la perspective de 2022 »\n",
      "  Le Monde\n",
      "  https://www.lemonde.fr/politique/article/2020/02/28/l-executif-veut-tourner-la-page-des-retraites-pour-aborder-d-autres-thematiques-dans-la-perspective-de-2022_6031199_823448.html\n",
      "\n",
      "2020-02-28T08:53:45Z\n",
      "  Retraites : Jacques Maire restera corapporteur du projet de loi\n",
      "  Le Monde\n",
      "  https://www.lemonde.fr/politique/article/2020/02/28/retraites-jacques-maire-restera-corapporteur-du-projet-de-loi_6031142_823448.html\n",
      "\n",
      "2020-02-27T16:26:30Z\n",
      "  L'assurance échappe au risque du coronavirus\n",
      "  Les Echos\n",
      "  https://www.lesechos.fr/finance-marches/banque-assurances/lassurance-echappe-au-risque-du-coronavirus-1180298\n",
      "\n",
      "2020-02-27T07:30:18Z\n",
      "  Philippe Monnin sort un nouveau Millésime\n",
      "  Les Echos\n",
      "  https://www.lesechos.fr/industrie-services/tourisme-transport/philippe-monnin-sort-un-nouveau-millesime-1179972\n",
      "\n",
      "2020-02-26T04:11:27Z\n",
      "  SCOR veut lever les doutes sur sa stratégie\n",
      "  Les Echos\n",
      "  https://www.lesechos.fr/finance-marches/banque-assurances/scor-veut-lever-les-doutes-sur-sa-strategie-1175204\n",
      "\n"
     ]
    }
   ],
   "source": [
    "# init api\n",
    "api = config.API_NEWS\n",
    "newsapi = NewsApiClient(api_key=api)\n",
    "\n",
    "# name already set above\n",
    "name = name\n",
    "# define date range - as start date take minus 28 days to always stay within api limit (apparently 1 month)\n",
    "current_date = datetime.datetime.now().date()\n",
    "date_28_days_ago = current_date - datetime.timedelta(days=28)\n",
    "\n",
    "\n",
    "# split name into word elements and loop through name until first hit\n",
    "name_split = name.split(' ')\n",
    "counter = 0\n",
    "for i in name_split:\n",
    "    # join words to current state of loop (e.g. ['Capital', 'Senior', 'Living'] to 'Capital Senior Living')\n",
    "    query_word = ' '.join(name_split[0 : len(name_split) - counter])\n",
    "    \n",
    "    # get articles, first 20 (page 1) and sorted by publication date\n",
    "    headlines = newsapi.get_everything(q=query_word\n",
    "                                           , sources='reuters, google-news, bloomberg, financial-post, handelsblatt, google-news-fr, le-monde, lequipe, les-echos, liberation'\n",
    "                                           , from_param=date_28_days_ago\n",
    "                                           , to=current_date\n",
    "                                          # , language='en'\n",
    "                                           , sort_by='publishedAt'\n",
    "                                           , page=1\n",
    "                                             )\n",
    "\n",
    "    # if any results, print and break loop\n",
    "    total_results = headlines['totalResults']\n",
    "    if total_results > 0:\n",
    "        print(f\"total results: {total_results}\\n\\n\")\n",
    "        for i in range(len(headlines['articles'])):\n",
    "            print(f\"{headlines['articles'][i]['publishedAt']}\")\n",
    "            print(f\"  {headlines['articles'][i]['title']}\")\n",
    "            print(f\"  {headlines['articles'][i]['source']['name']}\")\n",
    "            print(f\"  {headlines['articles'][i]['url']}\\n\")\n",
    "        break\n",
    "    counter += 1\n",
    "    if counter == len(name_split) and total_results == 0:\n",
    "        print(f\"no news since {date_28_days_ago}\")\n"
   ]
  },
  {
   "cell_type": "code",
   "execution_count": null,
   "metadata": {
    "collapsed": true,
    "papermill": {
     "duration": 0.013711,
     "end_time": "2020-03-16T12:55:24.532228",
     "exception": false,
     "start_time": "2020-03-16T12:55:24.518517",
     "status": "completed"
    },
    "tags": []
   },
   "outputs": [],
   "source": []
  }
 ],
 "metadata": {
  "celltoolbar": "Edit Metadata",
  "kernelspec": {
   "display_name": "notadiet Py3.6",
   "language": "python",
   "name": "notadiet"
  },
  "language_info": {
   "codemirror_mode": {
    "name": "ipython",
    "version": 3
   },
   "file_extension": ".py",
   "mimetype": "text/x-python",
   "name": "python",
   "nbconvert_exporter": "python",
   "pygments_lexer": "ipython3",
   "version": "3.6.2"
  },
  "papermill": {
   "duration": 8.475328,
   "end_time": "2020-03-16T12:55:25.161428",
   "environment_variables": {},
   "exception": null,
   "input_path": "corona_invest.ipynb",
   "output_path": "./stocks/cspa.ipynb",
   "parameters": {
    "ticker": "CS.PA"
   },
   "start_time": "2020-03-16T12:55:16.686100",
   "version": "0.16.2"
  }
 },
 "nbformat": 4,
 "nbformat_minor": 1
}