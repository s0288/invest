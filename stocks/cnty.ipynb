{
 "cells": [
  {
   "cell_type": "code",
   "execution_count": null,
   "metadata": {
    "hide_input": true,
    "inputHidden": true
   },
   "outputs": [
    {
     "data": {
      "text/html": [
       "<span style=\"color:red; font-family:Helvetica Neue, Helvetica, Arial, sans-serif; font-size:2em;\">An Exception was encountered at 'In [5]'.</span>"
      ]
     },
     "metadata": {},
     "output_type": "display_data"
    }
   ],
   "source": [
    "%%html\n",
    "<span style=\"color:red; font-family:Helvetica Neue, Helvetica, Arial, sans-serif; font-size:2em;\">An Exception was encountered at 'In [5]'.</span>"
   ]
  },
  {
   "cell_type": "code",
   "execution_count": 1,
   "metadata": {
    "collapsed": true,
    "hide_input": true,
    "papermill": {
     "duration": 0.016188,
     "end_time": "2020-03-15T07:56:15.917986",
     "exception": false,
     "start_time": "2020-03-15T07:56:15.901798",
     "status": "completed"
    },
    "tags": [
     "parameters"
    ]
   },
   "outputs": [],
   "source": [
    "ticker = \"KORI.PA\""
   ]
  },
  {
   "cell_type": "code",
   "execution_count": 2,
   "metadata": {
    "papermill": {
     "duration": 0.02152,
     "end_time": "2020-03-15T07:56:15.944632",
     "exception": false,
     "start_time": "2020-03-15T07:56:15.923112",
     "status": "completed"
    },
    "tags": [
     "injected-parameters"
    ]
   },
   "outputs": [],
   "source": [
    "# Parameters\n",
    "ticker = \"CNTY\"\n"
   ]
  },
  {
   "cell_type": "code",
   "execution_count": 3,
   "metadata": {
    "papermill": {
     "duration": 13.805323,
     "end_time": "2020-03-15T07:56:29.758316",
     "exception": false,
     "start_time": "2020-03-15T07:56:15.952993",
     "status": "completed"
    },
    "tags": []
   },
   "outputs": [],
   "source": [
    "import yfinance as yf\n",
    "import pandas as pd\n",
    "\n",
    "import matplotlib.pyplot as plt\n",
    "import matplotlib.gridspec as gridspec\n",
    "\n",
    "from pandas.plotting import register_matplotlib_converters\n",
    "register_matplotlib_converters()\n",
    "\n",
    "\n",
    "stock = yf.Ticker(ticker)\n",
    "dax = yf.Ticker(\"^GDAXI\")\n",
    "sp = yf.Ticker(\"^GSPC\")\n",
    "\n",
    "#### stock history values\n",
    "history_5y = stock.history(period='5y')['Close']\n",
    "history_1y = stock.history(period='1y')['Close']\n",
    "history_since_corona = history_1y[history_1y.index >= '2020-02-20']\n",
    "\n",
    "dax_5y = dax.history(period='5y')['Close']\n",
    "dax_1y = dax.history(period='1y')['Close']\n",
    "sp_5y = sp.history(period='5y')['Close']\n",
    "sp_1y = sp.history(period='1y')['Close']\n",
    "\n",
    "\n",
    "def get_stock_info(label):\n",
    "    try:\n",
    "        value = stock.info[label]\n",
    "    except:\n",
    "        value = None\n",
    "    return value\n",
    "\n",
    "#### df values: \"name\", \"symbol\", \"sector\", \"industry\", \"country\", \"business_summary\", \"ret_since_corona\", \"ret_1y\", \"ret_5y\", \"ret_1y_wo_corona\", \"ret_5y_wo_corona\", \"perc_diff_dax_1y_wo_corona\", \"perc_diff_dax_5y_wo_corona\", \"perc_diff_sp_1y_wo_corona\", \"perc_diff_sp_5y_wo_corona\"\n",
    "name = get_stock_info(\"longName\")\n",
    "symbol = get_stock_info(\"symbol\")\n",
    "sector = get_stock_info(\"sector\")\n",
    "industry = get_stock_info(\"industry\")\n",
    "country = get_stock_info(\"country\")\n",
    "business_summary = get_stock_info(\"longBusinessSummary\")\n",
    "\n",
    "ret_since_corona = history_since_corona.pct_change().sum()\n",
    "ret_1y = history_1y.pct_change().sum()\n",
    "ret_5y = history_5y.pct_change().sum()\n",
    "ret_1y_wo_corona = history_1y[history_1y.index <= '2020-02-21'].pct_change().sum()\n",
    "ret_5y_wo_corona = history_5y[history_5y.index <= '2020-02-21'].pct_change().sum()\n",
    "\n",
    "dax_1y_wo_corona = dax_1y[dax_1y.index <= '2020-02-21'].pct_change().sum()\n",
    "dax_5y_wo_corona = dax_5y[dax_5y.index <= '2020-02-21'].pct_change().sum()\n",
    "sp_1y_wo_corona = sp_1y[sp_1y.index <= '2020-02-21'].pct_change().sum()\n",
    "sp_5y_wo_corona = sp_5y[sp_5y.index <= '2020-02-21'].pct_change().sum()\n",
    "\n",
    "perc_diff_dax_1y_wo_corona = ret_1y_wo_corona - dax_1y_wo_corona\n",
    "perc_diff_dax_5y_wo_corona = ret_5y_wo_corona - dax_5y_wo_corona\n",
    "perc_diff_sp_1y_wo_corona = ret_1y_wo_corona - sp_1y_wo_corona\n",
    "perc_diff_sp_5y_wo_corona = ret_5y_wo_corona - sp_5y_wo_corona\n",
    "\n",
    "# # create new dataframe (only do once)\n",
    "# df = pd.DataFrame(columns=[\"name\", \"symbol\", \"sector\", \"industry\", \"country\", \"business_summary\", \"ret_since_corona\", \"ret_1y\", \"ret_5y\", \"ret_1y_wo_corona\", \"ret_5y_wo_corona\", \"perc_diff_dax_1y_wo_corona\", \"perc_diff_dax_5y_wo_corona\", \"perc_diff_sp_1y_wo_corona\", \"perc_diff_sp_5y_wo_corona\"])\n",
    "# load existing pickle\n",
    "df = pd.read_pickle(\"./stock_returns.pkl\")\n",
    "# check if stock in pickle already, if not, add stock\n",
    "if sum(symbol == df.symbol) == 0:\n",
    "    df.loc[len(df)] = [name, symbol, sector, industry, country, business_summary, ret_since_corona, ret_1y, ret_5y, ret_1y_wo_corona, ret_5y_wo_corona, perc_diff_dax_1y_wo_corona, perc_diff_dax_5y_wo_corona, perc_diff_sp_1y_wo_corona, perc_diff_sp_5y_wo_corona]\n",
    "    df.to_pickle(\"./stock_returns.pkl\")"
   ]
  },
  {
   "cell_type": "code",
   "execution_count": 4,
   "metadata": {
    "papermill": {
     "duration": 0.017415,
     "end_time": "2020-03-15T07:56:29.781416",
     "exception": false,
     "start_time": "2020-03-15T07:56:29.764001",
     "status": "completed"
    },
    "tags": []
   },
   "outputs": [
    {
     "name": "stdout",
     "output_type": "stream",
     "text": [
      "\n",
      "Company name: None\n",
      "Symbol: None\n",
      "Sector: None\n",
      "Industry: None\n",
      "Country: None\n",
      "\n",
      "Business summary: None\n",
      "\n"
     ]
    }
   ],
   "source": [
    "print(f\"\"\"\n",
    "Company name: {name}\n",
    "Symbol: {symbol}\n",
    "Sector: {sector}\n",
    "Industry: {industry}\n",
    "Country: {country}\\n\n",
    "Business summary: {business_summary}\n",
    "\"\"\")"
   ]
  },
  {
   "cell_type": "code",
   "execution_count": 5,
   "metadata": {
    "papermill": {
     "duration": 2.842829,
     "end_time": "2020-03-15T07:56:32.632580",
     "exception": true,
     "start_time": "2020-03-15T07:56:29.789751",
     "status": "failed"
    },
    "tags": []
   },
   "outputs": [
    {
     "ename": "IndexError",
     "evalue": "list index out of range",
     "output_type": "error",
     "traceback": [
      "\u001b[0;31m---------------------------------------------------------------------------\u001b[0m",
      "\u001b[0;31mIndexError\u001b[0m                                Traceback (most recent call last)",
      "\u001b[0;32m<ipython-input-5-8f72ebee95ac>\u001b[0m in \u001b[0;36m<module>\u001b[0;34m()\u001b[0m\n\u001b[1;32m      6\u001b[0m \u001b[0mplt\u001b[0m\u001b[0;34m.\u001b[0m\u001b[0msubplot\u001b[0m\u001b[0;34m(\u001b[0m\u001b[0mgs\u001b[0m\u001b[0;34m[\u001b[0m\u001b[0;36m0\u001b[0m\u001b[0;34m,\u001b[0m \u001b[0;36m0\u001b[0m\u001b[0;34m]\u001b[0m\u001b[0;34m)\u001b[0m\u001b[0;34m\u001b[0m\u001b[0m\n\u001b[1;32m      7\u001b[0m \u001b[0mplt\u001b[0m\u001b[0;34m.\u001b[0m\u001b[0mplot\u001b[0m\u001b[0;34m(\u001b[0m\u001b[0mhistory_5y\u001b[0m\u001b[0;34m)\u001b[0m\u001b[0;34m\u001b[0m\u001b[0m\n\u001b[0;32m----> 8\u001b[0;31m \u001b[0mplt\u001b[0m\u001b[0;34m.\u001b[0m\u001b[0mtitle\u001b[0m\u001b[0;34m(\u001b[0m\u001b[0;34mf\"5y: trading history {stock.info['symbol']}\"\u001b[0m\u001b[0;34m)\u001b[0m\u001b[0;34m\u001b[0m\u001b[0m\n\u001b[0m\u001b[1;32m      9\u001b[0m \u001b[0mplt\u001b[0m\u001b[0;34m.\u001b[0m\u001b[0mtext\u001b[0m\u001b[0;34m(\u001b[0m\u001b[0mhistory_5y\u001b[0m\u001b[0;34m.\u001b[0m\u001b[0mindex\u001b[0m\u001b[0;34m[\u001b[0m\u001b[0;36m0\u001b[0m\u001b[0;34m]\u001b[0m\u001b[0;34m,\u001b[0m \u001b[0mhistory_5y\u001b[0m\u001b[0;34m[\u001b[0m\u001b[0;36m0\u001b[0m\u001b[0;34m]\u001b[0m\u001b[0;34m+\u001b[0m\u001b[0;36m10\u001b[0m\u001b[0;34m,\u001b[0m \u001b[0;34mf\"starting_value: {history_5y[0]}\"\u001b[0m\u001b[0;34m)\u001b[0m\u001b[0;34m\u001b[0m\u001b[0m\n\u001b[1;32m     10\u001b[0m \u001b[0mplt\u001b[0m\u001b[0;34m.\u001b[0m\u001b[0mtext\u001b[0m\u001b[0;34m(\u001b[0m\u001b[0mhistory_5y\u001b[0m\u001b[0;34m.\u001b[0m\u001b[0mindex\u001b[0m\u001b[0;34m[\u001b[0m\u001b[0;36m0\u001b[0m\u001b[0;34m]\u001b[0m\u001b[0;34m,\u001b[0m \u001b[0mhistory_5y\u001b[0m\u001b[0;34m[\u001b[0m\u001b[0;36m0\u001b[0m\u001b[0;34m]\u001b[0m\u001b[0;34m+\u001b[0m\u001b[0;36m5\u001b[0m\u001b[0;34m,\u001b[0m \u001b[0;34mf\"closing_value: {history_5y[-1]}\"\u001b[0m\u001b[0;34m)\u001b[0m\u001b[0;34m\u001b[0m\u001b[0m\n",
      "\u001b[0;32m~/anaconda3/envs/notadiet/lib/python3.6/site-packages/yfinance/ticker.py\u001b[0m in \u001b[0;36minfo\u001b[0;34m(self)\u001b[0m\n\u001b[1;32m    136\u001b[0m     \u001b[0;34m@\u001b[0m\u001b[0mproperty\u001b[0m\u001b[0;34m\u001b[0m\u001b[0m\n\u001b[1;32m    137\u001b[0m     \u001b[0;32mdef\u001b[0m \u001b[0minfo\u001b[0m\u001b[0;34m(\u001b[0m\u001b[0mself\u001b[0m\u001b[0;34m)\u001b[0m\u001b[0;34m:\u001b[0m\u001b[0;34m\u001b[0m\u001b[0m\n\u001b[0;32m--> 138\u001b[0;31m         \u001b[0;32mreturn\u001b[0m \u001b[0mself\u001b[0m\u001b[0;34m.\u001b[0m\u001b[0mget_info\u001b[0m\u001b[0;34m(\u001b[0m\u001b[0;34m)\u001b[0m\u001b[0;34m\u001b[0m\u001b[0m\n\u001b[0m\u001b[1;32m    139\u001b[0m \u001b[0;34m\u001b[0m\u001b[0m\n\u001b[1;32m    140\u001b[0m     \u001b[0;34m@\u001b[0m\u001b[0mproperty\u001b[0m\u001b[0;34m\u001b[0m\u001b[0m\n",
      "\u001b[0;32m~/anaconda3/envs/notadiet/lib/python3.6/site-packages/yfinance/base.py\u001b[0m in \u001b[0;36mget_info\u001b[0;34m(self, proxy, as_dict, *args, **kwargs)\u001b[0m\n\u001b[1;32m    413\u001b[0m \u001b[0;34m\u001b[0m\u001b[0m\n\u001b[1;32m    414\u001b[0m     \u001b[0;32mdef\u001b[0m \u001b[0mget_info\u001b[0m\u001b[0;34m(\u001b[0m\u001b[0mself\u001b[0m\u001b[0;34m,\u001b[0m \u001b[0mproxy\u001b[0m\u001b[0;34m=\u001b[0m\u001b[0;32mNone\u001b[0m\u001b[0;34m,\u001b[0m \u001b[0mas_dict\u001b[0m\u001b[0;34m=\u001b[0m\u001b[0;32mFalse\u001b[0m\u001b[0;34m,\u001b[0m \u001b[0;34m*\u001b[0m\u001b[0margs\u001b[0m\u001b[0;34m,\u001b[0m \u001b[0;34m**\u001b[0m\u001b[0mkwargs\u001b[0m\u001b[0;34m)\u001b[0m\u001b[0;34m:\u001b[0m\u001b[0;34m\u001b[0m\u001b[0m\n\u001b[0;32m--> 415\u001b[0;31m         \u001b[0mself\u001b[0m\u001b[0;34m.\u001b[0m\u001b[0m_get_fundamentals\u001b[0m\u001b[0;34m(\u001b[0m\u001b[0mproxy\u001b[0m\u001b[0;34m)\u001b[0m\u001b[0;34m\u001b[0m\u001b[0m\n\u001b[0m\u001b[1;32m    416\u001b[0m         \u001b[0mdata\u001b[0m \u001b[0;34m=\u001b[0m \u001b[0mself\u001b[0m\u001b[0;34m.\u001b[0m\u001b[0m_info\u001b[0m\u001b[0;34m\u001b[0m\u001b[0m\n\u001b[1;32m    417\u001b[0m         \u001b[0;32mif\u001b[0m \u001b[0mas_dict\u001b[0m\u001b[0;34m:\u001b[0m\u001b[0;34m\u001b[0m\u001b[0m\n",
      "\u001b[0;32m~/anaconda3/envs/notadiet/lib/python3.6/site-packages/yfinance/base.py\u001b[0m in \u001b[0;36m_get_fundamentals\u001b[0;34m(self, kind, proxy)\u001b[0m\n\u001b[1;32m    284\u001b[0m         \u001b[0mholders\u001b[0m \u001b[0;34m=\u001b[0m \u001b[0m_pd\u001b[0m\u001b[0;34m.\u001b[0m\u001b[0mread_html\u001b[0m\u001b[0;34m(\u001b[0m\u001b[0murl\u001b[0m\u001b[0;34m)\u001b[0m\u001b[0;34m\u001b[0m\u001b[0m\n\u001b[1;32m    285\u001b[0m         \u001b[0mself\u001b[0m\u001b[0;34m.\u001b[0m\u001b[0m_major_holders\u001b[0m \u001b[0;34m=\u001b[0m \u001b[0mholders\u001b[0m\u001b[0;34m[\u001b[0m\u001b[0;36m0\u001b[0m\u001b[0;34m]\u001b[0m\u001b[0;34m\u001b[0m\u001b[0m\n\u001b[0;32m--> 286\u001b[0;31m         \u001b[0mself\u001b[0m\u001b[0;34m.\u001b[0m\u001b[0m_institutional_holders\u001b[0m \u001b[0;34m=\u001b[0m \u001b[0mholders\u001b[0m\u001b[0;34m[\u001b[0m\u001b[0;36m1\u001b[0m\u001b[0;34m]\u001b[0m\u001b[0;34m\u001b[0m\u001b[0m\n\u001b[0m\u001b[1;32m    287\u001b[0m         \u001b[0;32mif\u001b[0m \u001b[0;34m'Date Reported'\u001b[0m \u001b[0;32min\u001b[0m \u001b[0mself\u001b[0m\u001b[0;34m.\u001b[0m\u001b[0m_institutional_holders\u001b[0m\u001b[0;34m:\u001b[0m\u001b[0;34m\u001b[0m\u001b[0m\n\u001b[1;32m    288\u001b[0m             self._institutional_holders['Date Reported'] = _pd.to_datetime(\n",
      "\u001b[0;31mIndexError\u001b[0m: list index out of range"
     ]
    },
    {
     "data": {
      "image/png": "[encoded data removed]",
      "text/plain": [
       "<matplotlib.figure.Figure at 0x1117bba20>"
      ]
     },
     "metadata": {},
     "output_type": "display_data"
    }
   ],
   "source": [
    "# Create 2x2 sub plots\n",
    "gs = gridspec.GridSpec(4, 1)\n",
    "\n",
    "plt.figure(figsize = (10,10))\n",
    "\n",
    "plt.subplot(gs[0, 0])\n",
    "plt.plot(history_5y)\n",
    "plt.title(f\"5y: trading history {stock.info['symbol']}\")\n",
    "plt.text(history_5y.index[0], history_5y[0]+10, f\"starting_value: {history_5y[0]}\")\n",
    "plt.text(history_5y.index[0], history_5y[0]+5, f\"closing_value: {history_5y[-1]}\")\n",
    "plt.ylim(min(history_5y)-5, max(history_5y)+15)\n",
    "\n",
    "plt.subplot(gs[1, 0])\n",
    "plt.plot(history_1y)\n",
    "plt.title(f\"1y: trading history {stock.info['symbol']}\")\n",
    "plt.text(history_1y.index[0], history_1y[0]+10, f\"starting_value: {history_1y[0]}\")\n",
    "plt.text(history_1y.index[0], history_1y[0]+5, f\"closing_value: {history_1y[-1]}\")\n",
    "plt.ylim(min(history_1y)-5, max(history_1y)+15)\n",
    "\n",
    "plt.subplot(gs[2, 0])\n",
    "plt.plot(history_since_corona)\n",
    "plt.title(f\"Since Corona: trading history {stock.info['symbol']}\")\n",
    "plt.text(history_since_corona.index[0], history_since_corona[0]+10, f\"starting_value: {history_since_corona[0]}\")\n",
    "plt.text(history_since_corona.index[0], history_since_corona[0]+5, f\"closing_value: {history_since_corona[-1]}\")\n",
    "plt.ylim(min(history_since_corona)-5, max(history_since_corona)+15)\n",
    "plt.xticks(rotation=45)\n",
    "\n",
    "\n",
    "plt.tight_layout()\n",
    "plt.show()\n",
    "\n",
    "## calc returns\n",
    "print(f\"1y:              percent return: {ret_1y:.2%}\")\n",
    "print(f\"Since Corona:    percent return: {ret_since_corona:.2%}\\n\")\n",
    "\n",
    "## calc returns w/o Corona & compare with DAX\n",
    "print(f\"5y percent return before 21.02.20: {ret_5y_wo_corona:.2%}. Diff to dax: {perc_diff_dax_5y_wo_corona:.2%}\")\n",
    "print(f\"1y percent return before 21.02.20: {ret_1y_wo_corona:.2%}. Diff to dax: {perc_diff_dax_1y_wo_corona:.2%}\")"
   ]
  },
  {
   "cell_type": "code",
   "execution_count": null,
   "metadata": {
    "collapsed": true,
    "papermill": {
     "duration": null,
     "end_time": null,
     "exception": null,
     "start_time": null,
     "status": "pending"
    },
    "tags": []
   },
   "outputs": [],
   "source": []
  }
 ],
 "metadata": {
  "celltoolbar": "Edit Metadata",
  "kernelspec": {
   "display_name": "notadiet Py3.6",
   "language": "python",
   "name": "notadiet"
  },
  "language_info": {
   "codemirror_mode": {
    "name": "ipython",
    "version": 3
   },
   "file_extension": ".py",
   "mimetype": "text/x-python",
   "name": "python",
   "nbconvert_exporter": "python",
   "pygments_lexer": "ipython3",
   "version": "3.6.2"
  },
  "papermill": {
   "duration": 18.496647,
   "end_time": "2020-03-15T07:56:33.308323",
   "environment_variables": {},
   "exception": true,
   "input_path": "corona_invest.ipynb",
   "output_path": "./stocks/cnty.ipynb",
   "parameters": {
    "ticker": "CNTY"
   },
   "start_time": "2020-03-15T07:56:14.811676",
   "version": "0.16.2"
  }
 },
 "nbformat": 4,
 "nbformat_minor": 1
}