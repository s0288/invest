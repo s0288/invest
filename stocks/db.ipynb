{
 "cells": [
  {
   "cell_type": "code",
   "execution_count": 1,
   "metadata": {
    "collapsed": true,
    "hide_input": true,
    "papermill": {
     "duration": 0.018236,
     "end_time": "2020-03-16T12:53:06.749459",
     "exception": false,
     "start_time": "2020-03-16T12:53:06.731223",
     "status": "completed"
    },
    "tags": [
     "parameters"
    ]
   },
   "outputs": [],
   "source": [
    "ticker = \"KORI.PA\""
   ]
  },
  {
   "cell_type": "code",
   "execution_count": 2,
   "metadata": {
    "papermill": {
     "duration": 0.016603,
     "end_time": "2020-03-16T12:53:06.773251",
     "exception": false,
     "start_time": "2020-03-16T12:53:06.756648",
     "status": "completed"
    },
    "tags": [
     "injected-parameters"
    ]
   },
   "outputs": [],
   "source": [
    "# Parameters\n",
    "ticker = \"DB\"\n"
   ]
  },
  {
   "cell_type": "code",
   "execution_count": 3,
   "metadata": {
    "collapsed": false,
    "papermill": {
     "duration": 5.051765,
     "end_time": "2020-03-16T12:53:11.842176",
     "exception": false,
     "start_time": "2020-03-16T12:53:06.790411",
     "status": "completed"
    },
    "tags": []
   },
   "outputs": [],
   "source": [
    "import yfinance as yf\n",
    "import pandas as pd\n",
    "import matplotlib.pyplot as plt\n",
    "import matplotlib.gridspec as gridspec\n",
    "from pandas.plotting import register_matplotlib_converters\n",
    "register_matplotlib_converters()\n",
    "import os\n",
    "\n",
    "from newsapi import NewsApiClient\n",
    "import config\n",
    "import datetime\n",
    "\n",
    "stock = yf.Ticker(ticker)\n",
    "dax = yf.Ticker(\"^GDAXI\")\n",
    "sp = yf.Ticker(\"^GSPC\")\n",
    "\n",
    "#### stock history values\n",
    "history_5y = stock.history(period='5y')['Close']\n",
    "history_1y = stock.history(period='1y')['Close']\n",
    "history_since_corona = history_1y[history_1y.index >= '2020-02-20']\n",
    "\n",
    "dax_5y = dax.history(period='5y')['Close']\n",
    "dax_1y = dax.history(period='1y')['Close']\n",
    "sp_5y = sp.history(period='5y')['Close']\n",
    "sp_1y = sp.history(period='1y')['Close']\n",
    "\n",
    "\n",
    "def get_stock_info(label):\n",
    "    try:\n",
    "        value = stock.info[label]\n",
    "    except:\n",
    "        value = None\n",
    "    return value\n",
    "\n",
    "#### df values: \"name\", \"symbol\", \"sector\", \"industry\", \"country\", \"business_summary\", \"ret_since_corona\", \"ret_1y\", \"ret_5y\", \"ret_1y_wo_corona\", \"ret_5y_wo_corona\", \"perc_diff_dax_1y_wo_corona\", \"perc_diff_dax_5y_wo_corona\", \"perc_diff_sp_1y_wo_corona\", \"perc_diff_sp_5y_wo_corona\"\n",
    "name = get_stock_info(\"longName\")\n",
    "symbol = get_stock_info(\"symbol\")\n",
    "sector = get_stock_info(\"sector\")\n",
    "industry = get_stock_info(\"industry\")\n",
    "country = get_stock_info(\"country\")\n",
    "business_summary = get_stock_info(\"longBusinessSummary\")\n",
    "\n",
    "ret_since_corona = history_since_corona.pct_change().sum()\n",
    "ret_1y = history_1y.pct_change().sum()\n",
    "ret_5y = history_5y.pct_change().sum()\n",
    "ret_1y_wo_corona = history_1y[history_1y.index <= '2020-02-21'].pct_change().sum()\n",
    "ret_5y_wo_corona = history_5y[history_5y.index <= '2020-02-21'].pct_change().sum()\n",
    "\n",
    "dax_1y_wo_corona = dax_1y[dax_1y.index <= '2020-02-21'].pct_change().sum()\n",
    "dax_5y_wo_corona = dax_5y[dax_5y.index <= '2020-02-21'].pct_change().sum()\n",
    "sp_1y_wo_corona = sp_1y[sp_1y.index <= '2020-02-21'].pct_change().sum()\n",
    "sp_5y_wo_corona = sp_5y[sp_5y.index <= '2020-02-21'].pct_change().sum()\n",
    "\n",
    "perc_diff_dax_1y_wo_corona = ret_1y_wo_corona - dax_1y_wo_corona\n",
    "perc_diff_dax_5y_wo_corona = ret_5y_wo_corona - dax_5y_wo_corona\n",
    "perc_diff_sp_1y_wo_corona = ret_1y_wo_corona - sp_1y_wo_corona\n",
    "perc_diff_sp_5y_wo_corona = ret_5y_wo_corona - sp_5y_wo_corona\n",
    "\n",
    "\n",
    "if os.path.isfile('stock_returns.pkl'):\n",
    "    # load existing pickle\n",
    "    df = pd.read_pickle(\"stock_returns.pkl\")\n",
    "    # check if stock in pickle already, if not, add stock\n",
    "else:\n",
    "    # create new dataframe (only do once)\n",
    "    df = pd.DataFrame(columns=[\"name\", \"symbol\", \"sector\", \"industry\", \"country\", \"business_summary\", \"ret_since_corona\", \"ret_1y\", \"ret_5y\", \"ret_1y_wo_corona\", \"ret_5y_wo_corona\", \"perc_diff_dax_1y_wo_corona\", \"perc_diff_dax_5y_wo_corona\", \"perc_diff_sp_1y_wo_corona\", \"perc_diff_sp_5y_wo_corona\"])\n",
    "\n",
    "if sum(symbol == df.symbol) == 0:\n",
    "    df.loc[len(df)] = [name, symbol, sector, industry, country, business_summary, ret_since_corona, ret_1y, ret_5y, ret_1y_wo_corona, ret_5y_wo_corona, perc_diff_dax_1y_wo_corona, perc_diff_dax_5y_wo_corona, perc_diff_sp_1y_wo_corona, perc_diff_sp_5y_wo_corona]\n",
    "    df.to_pickle(\"stock_returns.pkl\")"
   ]
  },
  {
   "cell_type": "markdown",
   "metadata": {
    "papermill": {
     "duration": 0.016338,
     "end_time": "2020-03-16T12:53:11.870613",
     "exception": false,
     "start_time": "2020-03-16T12:53:11.854275",
     "status": "completed"
    },
    "tags": []
   },
   "source": [
    "# Company info "
   ]
  },
  {
   "cell_type": "code",
   "execution_count": 4,
   "metadata": {
    "collapsed": false,
    "papermill": {
     "duration": 0.016357,
     "end_time": "2020-03-16T12:53:11.905226",
     "exception": false,
     "start_time": "2020-03-16T12:53:11.888869",
     "status": "completed"
    },
    "tags": []
   },
   "outputs": [
    {
     "name": "stdout",
     "output_type": "stream",
     "text": [
      "\n",
      "Company name: Deutsche Bank Aktiengesellschaft\n",
      "Symbol: DB\n",
      "Sector: Financial Services\n",
      "Industry: Banks—Regional\n",
      "Country: Germany\n",
      "\n",
      "Business summary: Deutsche Bank Aktiengesellschaft provides commercial and investment banking, retail banking, transaction banking, and asset and wealth management products and services to corporations, governments, institutional investors, small and medium-sized businesses, and private individuals worldwide. The Corporate Bank segment provides cash management, trade finance and lending, trust and agency, and securities services. The Investment Bank segment offers strategic advisory services to corporate clients with focus on equity capital markets. The segment focuses on financing, advisory, fixed income, and currencies. The Private Bank segment provides payment and current account services, investment management, and retirement planning, as well as deposits, loans, mortgages, start-up financing, and structured finance for private, commercial, and corporate clients. This segment also provides wealth management services. The Asset Management segment provides investment solutions to individual investors and institutions with a range of active, passive, and alternative asset management products and services. As of June 30, 2019, the company operated 1,994 branches in Germany and internationally. Deutsche Bank Aktiengesellschaft was founded in 1870 and is headquartered in Frankfurt am Main, Germany.\n",
      "\n"
     ]
    }
   ],
   "source": [
    "print(f\"\"\"\n",
    "Company name: {name}\n",
    "Symbol: {symbol}\n",
    "Sector: {sector}\n",
    "Industry: {industry}\n",
    "Country: {country}\\n\n",
    "Business summary: {business_summary}\n",
    "\"\"\")"
   ]
  },
  {
   "cell_type": "markdown",
   "metadata": {
    "papermill": {
     "duration": 0.008533,
     "end_time": "2020-03-16T12:53:11.921228",
     "exception": false,
     "start_time": "2020-03-16T12:53:11.912695",
     "status": "completed"
    },
    "tags": []
   },
   "source": [
    "# Performance"
   ]
  },
  {
   "cell_type": "code",
   "execution_count": 5,
   "metadata": {
    "collapsed": false,
    "papermill": {
     "duration": 0.639363,
     "end_time": "2020-03-16T12:53:12.567777",
     "exception": false,
     "start_time": "2020-03-16T12:53:11.928414",
     "status": "completed"
    },
    "tags": []
   },
   "outputs": [
    {
     "data": {
      "image/png": "[encoded data removed]",
      "text/plain": [
       "<matplotlib.figure.Figure at 0x1140380f0>"
      ]
     },
     "metadata": {},
     "output_type": "display_data"
    },
    {
     "name": "stdout",
     "output_type": "stream",
     "text": [
      "1y:              percent return: -32.02%\n",
      "Since Corona:    percent return: -54.44%\n",
      "\n",
      "5y percent return before 21.02.20: -71.63%. Diff to dax: -90.11%\n",
      "1y percent return before 21.02.20: 18.39%. Diff to dax: 2.22%\n"
     ]
    }
   ],
   "source": [
    "# Create 2x2 sub plots\n",
    "gs = gridspec.GridSpec(4, 1)\n",
    "\n",
    "plt.figure(figsize = (10,10))\n",
    "\n",
    "plt.subplot(gs[0, 0])\n",
    "plt.plot(history_5y)\n",
    "plt.title(f\"5y: trading history {stock.info['symbol']}\")\n",
    "plt.text(history_5y.index[0], history_5y[0]+10, f\"starting_value: {history_5y[0]}\")\n",
    "plt.text(history_5y.index[0], history_5y[0]+5, f\"closing_value: {history_5y[-1]}\")\n",
    "plt.ylim(min(history_5y)-5, max(history_5y)+15)\n",
    "\n",
    "plt.subplot(gs[1, 0])\n",
    "plt.plot(history_1y)\n",
    "plt.title(f\"1y: trading history {stock.info['symbol']}\")\n",
    "plt.text(history_1y.index[0], history_1y[0]+10, f\"starting_value: {history_1y[0]}\")\n",
    "plt.text(history_1y.index[0], history_1y[0]+5, f\"closing_value: {history_1y[-1]}\")\n",
    "plt.ylim(min(history_1y)-5, max(history_1y)+15)\n",
    "\n",
    "plt.subplot(gs[2, 0])\n",
    "plt.plot(history_since_corona)\n",
    "plt.title(f\"Since Corona: trading history {stock.info['symbol']}\")\n",
    "plt.text(history_since_corona.index[0], history_since_corona[0]+10, f\"starting_value: {history_since_corona[0]}\")\n",
    "plt.text(history_since_corona.index[0], history_since_corona[0]+5, f\"closing_value: {history_since_corona[-1]}\")\n",
    "plt.ylim(min(history_since_corona)-5, max(history_since_corona)+15)\n",
    "plt.xticks(rotation=45)\n",
    "\n",
    "\n",
    "plt.tight_layout()\n",
    "plt.show()\n",
    "\n",
    "## calc returns\n",
    "print(f\"1y:              percent return: {ret_1y:.2%}\")\n",
    "print(f\"Since Corona:    percent return: {ret_since_corona:.2%}\\n\")\n",
    "\n",
    "## calc returns w/o Corona & compare with DAX\n",
    "print(f\"5y percent return before 21.02.20: {ret_5y_wo_corona:.2%}. Diff to dax: {perc_diff_dax_5y_wo_corona:.2%}\")\n",
    "print(f\"1y percent return before 21.02.20: {ret_1y_wo_corona:.2%}. Diff to dax: {perc_diff_dax_1y_wo_corona:.2%}\")"
   ]
  },
  {
   "cell_type": "markdown",
   "metadata": {
    "collapsed": true,
    "papermill": {
     "duration": 0.014638,
     "end_time": "2020-03-16T12:53:12.592889",
     "exception": false,
     "start_time": "2020-03-16T12:53:12.578251",
     "status": "completed"
    },
    "tags": []
   },
   "source": [
    "# News cycle"
   ]
  },
  {
   "cell_type": "code",
   "execution_count": 6,
   "metadata": {
    "collapsed": false,
    "papermill": {
     "duration": 0.787867,
     "end_time": "2020-03-16T12:53:13.401065",
     "exception": false,
     "start_time": "2020-03-16T12:53:12.613198",
     "status": "completed"
    },
    "tags": []
   },
   "outputs": [
    {
     "name": "stdout",
     "output_type": "stream",
     "text": [
      "total results: 402\n",
      "\n",
      "\n",
      "2020-03-16T11:27:12Z\n",
      "  Southern European sovereigns, Europe banks' CDS jump -IHS Markit\n",
      "  Reuters\n",
      "  https://www.reuters.com/article/health-coronavirus-cds-idUSL8N2B942U\n",
      "\n",
      "2020-03-16T10:17:27Z\n",
      "  Dax aktuell: Dax bricht um mehr als acht Prozent ein – Panik der Anlageprofis erreicht neues Redkordniveau\n",
      "  Handelsblatt\n",
      "  https://www.handelsblatt.com/finanzen/maerkte/marktberichte/dax-aktuell-dax-bricht-um-mehr-als-acht-prozent-ein-panik-der-anlageprofis-erreicht-neues-redkordniveau/25646128.html\n",
      "\n",
      "2020-03-16T10:17:27Z\n",
      "  Dax aktuell: Dax bricht um mehr als acht Prozent ein – Panik der Anlageprofis erreicht neues Rekordniveau\n",
      "  Handelsblatt\n",
      "  https://www.handelsblatt.com/finanzen/maerkte/marktberichte/dax-aktuell-dax-bricht-um-mehr-als-acht-prozent-ein-panik-der-anlageprofis-erreicht-neues-rekordniveau/25646128.html\n",
      "\n",
      "2020-03-16T10:06:51Z\n",
      "  Deutsche Bank to Split Teams Globally as Coronavirus Spreads\n",
      "  Bloomberg\n",
      "  https://www.bloomberg.com/news/articles/2020-03-15/deutsche-bank-to-operate-globally-in-split-teams-reuters-says\n",
      "\n",
      "2020-03-16T08:52:12Z\n",
      "  German lenders temporarily close branches to limit virus spread\n",
      "  Reuters\n",
      "  https://www.reuters.com/article/health-coronavirus-germany-banks-idUSL8N2B92PV\n",
      "\n",
      "2020-03-16T08:50:00Z\n",
      "  Dax aktuell: Dax bricht um mehr als acht Prozent ein – Tui-Aktie verliert ein Drittel an Wert\n",
      "  Handelsblatt\n",
      "  https://www.handelsblatt.com/finanzen/maerkte/marktberichte/dax-aktuell-dax-bricht-um-mehr-als-acht-prozent-ein-tui-aktie-verliert-ein-drittel-an-wert/25646128.html\n",
      "\n",
      "2020-03-16T08:45:00Z\n",
      "  Banken: Hypo-Vereinsbank schließt wegen der Coronakrise ein Drittel der Filialen\n",
      "  Handelsblatt\n",
      "  https://www.handelsblatt.com/finanzen/banken-versicherungen/banken-hypo-vereinsbank-schliesst-wegen-der-coronakrise-ein-drittel-der-filialen/25647654.html\n",
      "\n",
      "2020-03-16T08:45:00Z\n",
      "  Wegen Coronakrise: Deutsche Banken dünnen ihr Filialnetz aus\n",
      "  Handelsblatt\n",
      "  https://www.handelsblatt.com/finanzen/banken-versicherungen/wegen-coronakrise-deutsche-banken-duennen-ihr-filialnetz-aus/25647654.html\n",
      "\n",
      "2020-03-16T08:45:00Z\n",
      "  Wegen Coronakrise: Deutsche Banken schließen vorübergehend Teile ihrer Filialnetze – Bargeldversorgung gesichert\n",
      "  Handelsblatt\n",
      "  https://www.handelsblatt.com/finanzen/banken-versicherungen/wegen-coronakrise-deutsche-banken-schliessen-voruebergehend-teile-ihrer-filialnetze-bargeldversorgung-gesichert/25647654.html\n",
      "\n",
      "2020-03-16T08:27:58Z\n",
      "  Dax aktuell: Dax bricht um mehr als sechs Prozent ein – Tui-Aktie verliert knapp ein Drittel an Wert\n",
      "  Handelsblatt\n",
      "  https://www.handelsblatt.com/finanzen/maerkte/marktberichte/dax-aktuell-dax-bricht-um-mehr-als-sechs-prozent-ein-tui-aktie-verliert-knapp-ein-drittel-an-wert/25646128.html\n",
      "\n",
      "2020-03-16T06:06:00Z\n",
      "  L'industrie allemande paie cash le prix de sa dépendance à la Chine\n",
      "  Les Echos\n",
      "  https://www.lesechos.fr/industrie-services/automobile/lindustrie-allemande-paie-cash-le-prix-de-sa-dependance-a-la-chine-1185591\n",
      "\n",
      "2020-03-15T20:29:44Z\n",
      "  UPDATE 1-Deutsche Bank to operate globally in split teams from Monday\n",
      "  Reuters\n",
      "  https://www.reuters.com/article/us-health-coronavirus-deutsche-bank-idUSKBN212177\n",
      "\n",
      "2020-03-15T19:59:01Z\n",
      "  Deutsche Bank to operate globally in split teams from Monday\n",
      "  Reuters\n",
      "  https://uk.reuters.com/article/us-health-coronavirus-deutsche-bank-idUKKBN212177\n",
      "\n",
      "2020-03-15T19:59:01Z\n",
      "  Deutsche Bank to operate globally in split teams from Monday\n",
      "  Reuters\n",
      "  https://www.reuters.com/article/health-coronavirus-deutsche-bank-idUSL8N2B81DG\n",
      "\n",
      "2020-03-15T17:51:49Z\n",
      "  Kommentar: Wirecard-Anleger hatten viel Geduld - jetzt muss der Konzern liefern\n",
      "  Handelsblatt\n",
      "  https://www.handelsblatt.com/meinung/kommentare/kommentar-wirecard-anleger-hatten-viel-geduld-jetzt-muss-der-konzern-liefern/25646084.html\n",
      "\n",
      "2020-03-15T13:36:54Z\n",
      "  Coronakrise: Sewing lobt Maßnahmen der Bundesregierung\n",
      "  Handelsblatt\n",
      "  https://www.handelsblatt.com/finanzen/banken-versicherungen/coronakrise-sewing-lobt-massnahmen-der-bundesregierung/25645902.html\n",
      "\n",
      "2020-03-13T20:29:11Z\n",
      "  Dow Jones, Nasdaq, S&P 500: Trump gibt Börsen weiteren Schwung: US-Börsen legen fast zweitstellig zu\n",
      "  Handelsblatt\n",
      "  https://www.handelsblatt.com/finanzen/maerkte/marktberichte/dow-jones-nasdaq-sundp-500-trump-gibt-boersen-weiteren-schwung-us-boersen-legen-fast-zweitstellig-zu/25642022.html\n",
      "\n",
      "2020-03-13T20:29:11Z\n",
      "  Dow Jones, Nasdaq, S&P 500: Trump gibt Börsen weiteren Schwung: US-Börsen legen fast zweistellig zu\n",
      "  Handelsblatt\n",
      "  https://www.handelsblatt.com/finanzen/maerkte/marktberichte/dow-jones-nasdaq-sundp-500-trump-gibt-boersen-weiteren-schwung-us-boersen-legen-fast-zweistellig-zu/25642022.html\n",
      "\n",
      "2020-03-13T19:05:24Z\n",
      "  Zahlungsdienstleister: Wirecard: Aufklärung in Raten\n",
      "  Handelsblatt\n",
      "  https://www.handelsblatt.com/finanzen/banken-versicherungen/zahlungsdienstleister-wirecard-aufklaerung-in-raten-/25642944.html\n",
      "\n",
      "2020-03-13T17:45:00Z\n",
      "  Dax-Ausblick: Die Aktienmärkte stehen vor der Woche der Wahrheit\n",
      "  Handelsblatt\n",
      "  https://www.handelsblatt.com/finanzen/maerkte/marktberichte/dax-ausblick-die-aktienmaerkte-stehen-vor-der-woche-der-wahrheit/25643668.html\n",
      "\n"
     ]
    }
   ],
   "source": [
    "# init api\n",
    "api = config.API_NEWS\n",
    "newsapi = NewsApiClient(api_key=api)\n",
    "\n",
    "# name already set above\n",
    "name = name\n",
    "# define date range - as start date take minus 28 days to always stay within api limit (apparently 1 month)\n",
    "current_date = datetime.datetime.now().date()\n",
    "date_28_days_ago = current_date - datetime.timedelta(days=28)\n",
    "\n",
    "\n",
    "# split name into word elements and loop through name until first hit\n",
    "name_split = name.split(' ')\n",
    "counter = 0\n",
    "for i in name_split:\n",
    "    # join words to current state of loop (e.g. ['Capital', 'Senior', 'Living'] to 'Capital Senior Living')\n",
    "    query_word = ' '.join(name_split[0 : len(name_split) - counter])\n",
    "    \n",
    "    # get articles, first 20 (page 1) and sorted by publication date\n",
    "    headlines = newsapi.get_everything(q=query_word\n",
    "                                           , sources='reuters, google-news, bloomberg, financial-post, handelsblatt, google-news-fr, le-monde, lequipe, les-echos, liberation'\n",
    "                                           , from_param=date_28_days_ago\n",
    "                                           , to=current_date\n",
    "                                          # , language='en'\n",
    "                                           , sort_by='publishedAt'\n",
    "                                           , page=1\n",
    "                                             )\n",
    "\n",
    "    # if any results, print and break loop\n",
    "    total_results = headlines['totalResults']\n",
    "    if total_results > 0:\n",
    "        print(f\"total results: {total_results}\\n\\n\")\n",
    "        for i in range(len(headlines['articles'])):\n",
    "            print(f\"{headlines['articles'][i]['publishedAt']}\")\n",
    "            print(f\"  {headlines['articles'][i]['title']}\")\n",
    "            print(f\"  {headlines['articles'][i]['source']['name']}\")\n",
    "            print(f\"  {headlines['articles'][i]['url']}\\n\")\n",
    "        break\n",
    "    counter += 1\n",
    "    if counter == len(name_split) and total_results == 0:\n",
    "        print(f\"no news since {date_28_days_ago}\")\n"
   ]
  },
  {
   "cell_type": "code",
   "execution_count": null,
   "metadata": {
    "collapsed": true,
    "papermill": {
     "duration": 0.013071,
     "end_time": "2020-03-16T12:53:13.425188",
     "exception": false,
     "start_time": "2020-03-16T12:53:13.412117",
     "status": "completed"
    },
    "tags": []
   },
   "outputs": [],
   "source": []
  }
 ],
 "metadata": {
  "celltoolbar": "Edit Metadata",
  "kernelspec": {
   "display_name": "notadiet Py3.6",
   "language": "python",
   "name": "notadiet"
  },
  "language_info": {
   "codemirror_mode": {
    "name": "ipython",
    "version": 3
   },
   "file_extension": ".py",
   "mimetype": "text/x-python",
   "name": "python",
   "nbconvert_exporter": "python",
   "pygments_lexer": "ipython3",
   "version": "3.6.2"
  },
  "papermill": {
   "duration": 8.477343,
   "end_time": "2020-03-16T12:53:14.314958",
   "environment_variables": {},
   "exception": null,
   "input_path": "corona_invest.ipynb",
   "output_path": "./stocks/db.ipynb",
   "parameters": {
    "ticker": "DB"
   },
   "start_time": "2020-03-16T12:53:05.837615",
   "version": "0.16.2"
  }
 },
 "nbformat": 4,
 "nbformat_minor": 1
}