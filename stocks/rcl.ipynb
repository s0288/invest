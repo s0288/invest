{
 "cells": [
  {
   "cell_type": "code",
   "execution_count": 1,
   "metadata": {
    "collapsed": true,
    "hide_input": true,
    "papermill": {
     "duration": 0.018049,
     "end_time": "2020-03-16T12:52:47.827784",
     "exception": false,
     "start_time": "2020-03-16T12:52:47.809735",
     "status": "completed"
    },
    "tags": [
     "parameters"
    ]
   },
   "outputs": [],
   "source": [
    "ticker = \"KORI.PA\""
   ]
  },
  {
   "cell_type": "code",
   "execution_count": 2,
   "metadata": {
    "papermill": {
     "duration": 0.015685,
     "end_time": "2020-03-16T12:52:47.850510",
     "exception": false,
     "start_time": "2020-03-16T12:52:47.834825",
     "status": "completed"
    },
    "tags": [
     "injected-parameters"
    ]
   },
   "outputs": [],
   "source": [
    "# Parameters\n",
    "ticker = \"RCL\"\n"
   ]
  },
  {
   "cell_type": "code",
   "execution_count": 3,
   "metadata": {
    "collapsed": false,
    "papermill": {
     "duration": 4.839692,
     "end_time": "2020-03-16T12:52:52.705996",
     "exception": false,
     "start_time": "2020-03-16T12:52:47.866304",
     "status": "completed"
    },
    "tags": []
   },
   "outputs": [],
   "source": [
    "import yfinance as yf\n",
    "import pandas as pd\n",
    "import matplotlib.pyplot as plt\n",
    "import matplotlib.gridspec as gridspec\n",
    "from pandas.plotting import register_matplotlib_converters\n",
    "register_matplotlib_converters()\n",
    "import os\n",
    "\n",
    "from newsapi import NewsApiClient\n",
    "import config\n",
    "import datetime\n",
    "\n",
    "stock = yf.Ticker(ticker)\n",
    "dax = yf.Ticker(\"^GDAXI\")\n",
    "sp = yf.Ticker(\"^GSPC\")\n",
    "\n",
    "#### stock history values\n",
    "history_5y = stock.history(period='5y')['Close']\n",
    "history_1y = stock.history(period='1y')['Close']\n",
    "history_since_corona = history_1y[history_1y.index >= '2020-02-20']\n",
    "\n",
    "dax_5y = dax.history(period='5y')['Close']\n",
    "dax_1y = dax.history(period='1y')['Close']\n",
    "sp_5y = sp.history(period='5y')['Close']\n",
    "sp_1y = sp.history(period='1y')['Close']\n",
    "\n",
    "\n",
    "def get_stock_info(label):\n",
    "    try:\n",
    "        value = stock.info[label]\n",
    "    except:\n",
    "        value = None\n",
    "    return value\n",
    "\n",
    "#### df values: \"name\", \"symbol\", \"sector\", \"industry\", \"country\", \"business_summary\", \"ret_since_corona\", \"ret_1y\", \"ret_5y\", \"ret_1y_wo_corona\", \"ret_5y_wo_corona\", \"perc_diff_dax_1y_wo_corona\", \"perc_diff_dax_5y_wo_corona\", \"perc_diff_sp_1y_wo_corona\", \"perc_diff_sp_5y_wo_corona\"\n",
    "name = get_stock_info(\"longName\")\n",
    "symbol = get_stock_info(\"symbol\")\n",
    "sector = get_stock_info(\"sector\")\n",
    "industry = get_stock_info(\"industry\")\n",
    "country = get_stock_info(\"country\")\n",
    "business_summary = get_stock_info(\"longBusinessSummary\")\n",
    "\n",
    "ret_since_corona = history_since_corona.pct_change().sum()\n",
    "ret_1y = history_1y.pct_change().sum()\n",
    "ret_5y = history_5y.pct_change().sum()\n",
    "ret_1y_wo_corona = history_1y[history_1y.index <= '2020-02-21'].pct_change().sum()\n",
    "ret_5y_wo_corona = history_5y[history_5y.index <= '2020-02-21'].pct_change().sum()\n",
    "\n",
    "dax_1y_wo_corona = dax_1y[dax_1y.index <= '2020-02-21'].pct_change().sum()\n",
    "dax_5y_wo_corona = dax_5y[dax_5y.index <= '2020-02-21'].pct_change().sum()\n",
    "sp_1y_wo_corona = sp_1y[sp_1y.index <= '2020-02-21'].pct_change().sum()\n",
    "sp_5y_wo_corona = sp_5y[sp_5y.index <= '2020-02-21'].pct_change().sum()\n",
    "\n",
    "perc_diff_dax_1y_wo_corona = ret_1y_wo_corona - dax_1y_wo_corona\n",
    "perc_diff_dax_5y_wo_corona = ret_5y_wo_corona - dax_5y_wo_corona\n",
    "perc_diff_sp_1y_wo_corona = ret_1y_wo_corona - sp_1y_wo_corona\n",
    "perc_diff_sp_5y_wo_corona = ret_5y_wo_corona - sp_5y_wo_corona\n",
    "\n",
    "\n",
    "if os.path.isfile('stock_returns.pkl'):\n",
    "    # load existing pickle\n",
    "    df = pd.read_pickle(\"stock_returns.pkl\")\n",
    "    # check if stock in pickle already, if not, add stock\n",
    "else:\n",
    "    # create new dataframe (only do once)\n",
    "    df = pd.DataFrame(columns=[\"name\", \"symbol\", \"sector\", \"industry\", \"country\", \"business_summary\", \"ret_since_corona\", \"ret_1y\", \"ret_5y\", \"ret_1y_wo_corona\", \"ret_5y_wo_corona\", \"perc_diff_dax_1y_wo_corona\", \"perc_diff_dax_5y_wo_corona\", \"perc_diff_sp_1y_wo_corona\", \"perc_diff_sp_5y_wo_corona\"])\n",
    "\n",
    "if sum(symbol == df.symbol) == 0:\n",
    "    df.loc[len(df)] = [name, symbol, sector, industry, country, business_summary, ret_since_corona, ret_1y, ret_5y, ret_1y_wo_corona, ret_5y_wo_corona, perc_diff_dax_1y_wo_corona, perc_diff_dax_5y_wo_corona, perc_diff_sp_1y_wo_corona, perc_diff_sp_5y_wo_corona]\n",
    "    df.to_pickle(\"stock_returns.pkl\")"
   ]
  },
  {
   "cell_type": "markdown",
   "metadata": {
    "papermill": {
     "duration": 0.013024,
     "end_time": "2020-03-16T12:52:52.726988",
     "exception": false,
     "start_time": "2020-03-16T12:52:52.713964",
     "status": "completed"
    },
    "tags": []
   },
   "source": [
    "# Company info "
   ]
  },
  {
   "cell_type": "code",
   "execution_count": 4,
   "metadata": {
    "collapsed": false,
    "papermill": {
     "duration": 0.028742,
     "end_time": "2020-03-16T12:52:52.762783",
     "exception": false,
     "start_time": "2020-03-16T12:52:52.734041",
     "status": "completed"
    },
    "tags": []
   },
   "outputs": [
    {
     "name": "stdout",
     "output_type": "stream",
     "text": [
      "\n",
      "Company name: Royal Caribbean Cruises Ltd.\n",
      "Symbol: RCL\n",
      "Sector: Consumer Cyclical\n",
      "Industry: Travel Services\n",
      "Country: United States\n",
      "\n",
      "Business summary: Royal Caribbean Cruises Ltd. operates as a cruise company. The company operates cruises under the Royal Caribbean International, Celebrity Cruises, Azamara Club Cruises, and Silversea Cruises brands. The Royal Caribbean International brand provides itineraries to destinations worldwide, including Alaska, Asia, Australia, Bahamas, Bermuda, Canada, the Caribbean, Europe, the Panama Canal, and New Zealand with cruise lengths that range from 2 to 19 nights. The Celebrity Cruises brand offers itineraries to destinations, such as Alaska, Asia, Australia, Bermuda, Canada, the Caribbean, Europe, the Galapagos Islands, Hawaii, India, New Zealand, the Panama Canal, and South America with cruise lengths ranging from 2 to 19 nights. The Azamara Club Cruises brand offers cruise itineraries to destinations, including Asia, Australia/New Zealand, Northern and Western Europe, the Mediterranean, Cuba, and South America with cruise lengths ranging from 3 to 26 nights. The Silversea Cruises brand provides itineraries to destinations, including the Galapagos Islands, Antarctica, and the Arctic with cruise lengths ranging from 6 to 25 nights. As of December 31, 2019, the company operated 61 ships and had 17 ships on order. Royal Caribbean Cruises Ltd. was founded in 1968 and is headquartered in Miami, Florida.\n",
      "\n"
     ]
    }
   ],
   "source": [
    "print(f\"\"\"\n",
    "Company name: {name}\n",
    "Symbol: {symbol}\n",
    "Sector: {sector}\n",
    "Industry: {industry}\n",
    "Country: {country}\\n\n",
    "Business summary: {business_summary}\n",
    "\"\"\")"
   ]
  },
  {
   "cell_type": "markdown",
   "metadata": {
    "papermill": {
     "duration": 0.007081,
     "end_time": "2020-03-16T12:52:52.777192",
     "exception": false,
     "start_time": "2020-03-16T12:52:52.770111",
     "status": "completed"
    },
    "tags": []
   },
   "source": [
    "# Performance"
   ]
  },
  {
   "cell_type": "code",
   "execution_count": 5,
   "metadata": {
    "collapsed": false,
    "papermill": {
     "duration": 0.665534,
     "end_time": "2020-03-16T12:52:53.450036",
     "exception": false,
     "start_time": "2020-03-16T12:52:52.784502",
     "status": "completed"
    },
    "tags": []
   },
   "outputs": [
    {
     "data": {
      "image/png": "[encoded data removed]",
      "text/plain": [
       "<matplotlib.figure.Figure at 0x1137b7f60>"
      ]
     },
     "metadata": {},
     "output_type": "display_data"
    },
    {
     "name": "stdout",
     "output_type": "stream",
     "text": [
      "1y:              percent return: -108.44%\n",
      "Since Corona:    percent return: -106.25%\n",
      "\n",
      "5y percent return before 21.02.20: 65.82%. Diff to dax: 47.35%\n",
      "1y percent return before 21.02.20: -5.54%. Diff to dax: -21.72%\n"
     ]
    }
   ],
   "source": [
    "# Create 2x2 sub plots\n",
    "gs = gridspec.GridSpec(4, 1)\n",
    "\n",
    "plt.figure(figsize = (10,10))\n",
    "\n",
    "plt.subplot(gs[0, 0])\n",
    "plt.plot(history_5y)\n",
    "plt.title(f\"5y: trading history {stock.info['symbol']}\")\n",
    "plt.text(history_5y.index[0], history_5y[0]+10, f\"starting_value: {history_5y[0]}\")\n",
    "plt.text(history_5y.index[0], history_5y[0]+5, f\"closing_value: {history_5y[-1]}\")\n",
    "plt.ylim(min(history_5y)-5, max(history_5y)+15)\n",
    "\n",
    "plt.subplot(gs[1, 0])\n",
    "plt.plot(history_1y)\n",
    "plt.title(f\"1y: trading history {stock.info['symbol']}\")\n",
    "plt.text(history_1y.index[0], history_1y[0]+10, f\"starting_value: {history_1y[0]}\")\n",
    "plt.text(history_1y.index[0], history_1y[0]+5, f\"closing_value: {history_1y[-1]}\")\n",
    "plt.ylim(min(history_1y)-5, max(history_1y)+15)\n",
    "\n",
    "plt.subplot(gs[2, 0])\n",
    "plt.plot(history_since_corona)\n",
    "plt.title(f\"Since Corona: trading history {stock.info['symbol']}\")\n",
    "plt.text(history_since_corona.index[0], history_since_corona[0]+10, f\"starting_value: {history_since_corona[0]}\")\n",
    "plt.text(history_since_corona.index[0], history_since_corona[0]+5, f\"closing_value: {history_since_corona[-1]}\")\n",
    "plt.ylim(min(history_since_corona)-5, max(history_since_corona)+15)\n",
    "plt.xticks(rotation=45)\n",
    "\n",
    "\n",
    "plt.tight_layout()\n",
    "plt.show()\n",
    "\n",
    "## calc returns\n",
    "print(f\"1y:              percent return: {ret_1y:.2%}\")\n",
    "print(f\"Since Corona:    percent return: {ret_since_corona:.2%}\\n\")\n",
    "\n",
    "## calc returns w/o Corona & compare with DAX\n",
    "print(f\"5y percent return before 21.02.20: {ret_5y_wo_corona:.2%}. Diff to dax: {perc_diff_dax_5y_wo_corona:.2%}\")\n",
    "print(f\"1y percent return before 21.02.20: {ret_1y_wo_corona:.2%}. Diff to dax: {perc_diff_dax_1y_wo_corona:.2%}\")"
   ]
  },
  {
   "cell_type": "markdown",
   "metadata": {
    "collapsed": true,
    "papermill": {
     "duration": 0.01489,
     "end_time": "2020-03-16T12:52:53.475586",
     "exception": false,
     "start_time": "2020-03-16T12:52:53.460696",
     "status": "completed"
    },
    "tags": []
   },
   "source": [
    "# News cycle"
   ]
  },
  {
   "cell_type": "code",
   "execution_count": 6,
   "metadata": {
    "collapsed": false,
    "papermill": {
     "duration": 0.307556,
     "end_time": "2020-03-16T12:52:53.793525",
     "exception": false,
     "start_time": "2020-03-16T12:52:53.485969",
     "status": "completed"
    },
    "tags": []
   },
   "outputs": [
    {
     "name": "stdout",
     "output_type": "stream",
     "text": [
      "total results: 28\n",
      "\n",
      "\n",
      "2020-03-14T15:55:55Z\n",
      "  Royal Caribbean suspends global operations after virus outbreak\n",
      "  Reuters\n",
      "  https://uk.reuters.com/article/uk-health-coronavirus-royal-caribbean-idUKKBN2110TS\n",
      "\n",
      "2020-03-14T15:55:55Z\n",
      "  Royal Caribbean suspends global operations after virus outbreak\n",
      "  Reuters\n",
      "  https://www.reuters.com/article/us-health-coronavirus-royal-caribbean-idUSKBN2110TC\n",
      "\n",
      "2020-03-13T21:08:06Z\n",
      "  Royal Caribbean follows rivals in halting operations on coronavirus fears\n",
      "  Financial Post\n",
      "  https://business.financialpost.com/pmn/business-pmn/royal-caribbean-follows-rivals-in-halting-operations-on-coronavirus-fears\n",
      "\n",
      "2020-03-12T15:54:19Z\n",
      "  Vietnamese city advised to turn away cruise ship over coronavirus fears\n",
      "  Reuters\n",
      "  https://www.reuters.com/article/us-health-coronavirus-vietnam-idUSKBN20Z2OL\n",
      "\n",
      "2020-03-12T14:17:53Z\n",
      "  Wall Street enters bear market as Europe travel ban stuns investors\n",
      "  Reuters\n",
      "  https://in.reuters.com/article/us-usa-stocks-idINKBN20Z0CM\n",
      "\n",
      "2020-03-12T13:56:38Z\n",
      "  Dow Jones, Nasdaq, S&P 500: Wall Street setzt Handel erneut aus – US-Indizes rutschen bis zu acht Prozent ab\n",
      "  Handelsblatt\n",
      "  https://www.handelsblatt.com/finanzen/maerkte/marktberichte/dow-jones-nasdaq-sundp-500-wall-street-setzt-handel-erneut-aus-us-indizes-rutschen-bis-zu-acht-prozent-ab/25637382.html\n",
      "\n",
      "2020-03-12T13:12:19Z\n",
      "  US STOCKS-Europe travel shock set to pummel Wall St into bear market\n",
      "  Reuters\n",
      "  https://www.reuters.com/article/usa-stocks-idUSL4N2B53W9\n",
      "\n",
      "2020-03-11T22:31:09Z\n",
      "  Factbox: U.S. companies add cash, credit lines as coronavirus leaves markets rattled\n",
      "  Reuters\n",
      "  https://www.reuters.com/article/us-health-coronavirus-companies-cash-fac-idUSKBN20Y3I3\n",
      "\n",
      "2020-03-11T08:27:52Z\n",
      "  Energy, service sectors brace for debt restructuring wave\n",
      "  Reuters\n",
      "  https://in.reuters.com/article/health-coronavirus-corporatedebt-idINKBN20Y0Y2\n",
      "\n",
      "2020-03-11T05:00:00Z\n",
      "  Energy, service sectors brace for debt restructuring wave\n",
      "  Reuters\n",
      "  https://www.reuters.com/article/health-coronavirus-corporatedebt-idUSL1N2AZ1GB\n",
      "\n",
      "2020-03-10T22:34:47Z\n",
      "  From Exxon to Royal Caribbean Cruises, U.S. companies rush to hoard cash\n",
      "  Reuters\n",
      "  https://in.reuters.com/article/us-health-coronavirus-companies-cash-idINKBN20X389\n",
      "\n",
      "2020-03-10T22:32:03Z\n",
      "  From Exxon to Royal Caribbean Cruises, U.S. companies rush to hoard cash\n",
      "  Reuters\n",
      "  https://www.reuters.com/article/us-health-coronavirus-companies-cash-idUSKBN20X389\n",
      "\n",
      "2020-03-10T12:45:36Z\n",
      "  Royal Caribbean increases borrowing capacity, withdraws 2020 forecast\n",
      "  Reuters\n",
      "  https://www.reuters.com/article/us-health-coronavirus-royal-caribbean-idUSKBN20X1SR\n",
      "\n",
      "2020-03-10T00:41:56Z\n",
      "  'If We Sanitize, It Will Be Fine': Cruise Fans Ignore U.S. Alert\n",
      "  Bloomberg\n",
      "  https://www.bloomberg.com/news/articles/2020-03-10/-if-we-sanitize-it-will-be-fine-cruise-fans-ignore-u-s-alert\n",
      "\n",
      "2020-03-07T01:32:31Z\n",
      "  美股受冠状病毒疫情忧虑拖累下跌 但周线小幅上涨\n",
      "  Reuters\n",
      "  https://cn.reuters.com/article/usa-stock-market-hea-enr-0306-idCNKBS20U02Q\n",
      "\n",
      "2020-03-06T17:57:07Z\n",
      "  Investors flee Wall Street, seek shelter in bonds\n",
      "  Reuters\n",
      "  https://uk.reuters.com/article/us-usa-stocks-idUKKBN20T1PK\n",
      "\n",
      "2020-03-06T17:56:56Z\n",
      "  Valuation & Dividend Safety Analysis: Royal Caribbean Cruises (RCL)\n",
      "  Google News\n",
      "  http://feedproxy.google.com/~r/ValuewalkBusiness/~3/Egr_mO0vwOk/\n",
      "\n",
      "2020-03-03T12:19:06Z\n",
      "  Myanmar turns away cruise ship over coronavirus fears\n",
      "  Reuters\n",
      "  https://af.reuters.com/article/worldNews/idAFKBN20Q1J7\n",
      "\n",
      "2020-03-03T11:58:29Z\n",
      "  Myanmar turns away cruise ship over coronavirus fears\n",
      "  Reuters\n",
      "  https://uk.reuters.com/article/us-health-coronavirus-myanmar-ship-idUKKBN20Q1CQ\n",
      "\n",
      "2020-03-03T11:21:12Z\n",
      "  Myanmar turns away cruise ship over coronavirus fears\n",
      "  Reuters\n",
      "  https://www.reuters.com/article/us-health-coronavirus-myanmar-ship-idUSKBN20Q1CQ\n",
      "\n"
     ]
    }
   ],
   "source": [
    "# init api\n",
    "api = config.API_NEWS\n",
    "newsapi = NewsApiClient(api_key=api)\n",
    "\n",
    "# name already set above\n",
    "name = name\n",
    "# define date range - as start date take minus 28 days to always stay within api limit (apparently 1 month)\n",
    "current_date = datetime.datetime.now().date()\n",
    "date_28_days_ago = current_date - datetime.timedelta(days=28)\n",
    "\n",
    "\n",
    "# split name into word elements and loop through name until first hit\n",
    "name_split = name.split(' ')\n",
    "counter = 0\n",
    "for i in name_split:\n",
    "    # join words to current state of loop (e.g. ['Capital', 'Senior', 'Living'] to 'Capital Senior Living')\n",
    "    query_word = ' '.join(name_split[0 : len(name_split) - counter])\n",
    "    \n",
    "    # get articles, first 20 (page 1) and sorted by publication date\n",
    "    headlines = newsapi.get_everything(q=query_word\n",
    "                                           , sources='reuters, google-news, bloomberg, financial-post, handelsblatt, google-news-fr, le-monde, lequipe, les-echos, liberation'\n",
    "                                           , from_param=date_28_days_ago\n",
    "                                           , to=current_date\n",
    "                                          # , language='en'\n",
    "                                           , sort_by='publishedAt'\n",
    "                                           , page=1\n",
    "                                             )\n",
    "\n",
    "    # if any results, print and break loop\n",
    "    total_results = headlines['totalResults']\n",
    "    if total_results > 0:\n",
    "        print(f\"total results: {total_results}\\n\\n\")\n",
    "        for i in range(len(headlines['articles'])):\n",
    "            print(f\"{headlines['articles'][i]['publishedAt']}\")\n",
    "            print(f\"  {headlines['articles'][i]['title']}\")\n",
    "            print(f\"  {headlines['articles'][i]['source']['name']}\")\n",
    "            print(f\"  {headlines['articles'][i]['url']}\\n\")\n",
    "        break\n",
    "    counter += 1\n",
    "    if counter == len(name_split) and total_results == 0:\n",
    "        print(f\"no news since {date_28_days_ago}\")\n"
   ]
  },
  {
   "cell_type": "code",
   "execution_count": null,
   "metadata": {
    "collapsed": true,
    "papermill": {
     "duration": 0.013533,
     "end_time": "2020-03-16T12:52:53.818378",
     "exception": false,
     "start_time": "2020-03-16T12:52:53.804845",
     "status": "completed"
    },
    "tags": []
   },
   "outputs": [],
   "source": []
  }
 ],
 "metadata": {
  "celltoolbar": "Edit Metadata",
  "kernelspec": {
   "display_name": "notadiet Py3.6",
   "language": "python",
   "name": "notadiet"
  },
  "language_info": {
   "codemirror_mode": {
    "name": "ipython",
    "version": 3
   },
   "file_extension": ".py",
   "mimetype": "text/x-python",
   "name": "python",
   "nbconvert_exporter": "python",
   "pygments_lexer": "ipython3",
   "version": "3.6.2"
  },
  "papermill": {
   "duration": 7.480275,
   "end_time": "2020-03-16T12:52:54.414726",
   "environment_variables": {},
   "exception": null,
   "input_path": "corona_invest.ipynb",
   "output_path": "./stocks/rcl.ipynb",
   "parameters": {
    "ticker": "RCL"
   },
   "start_time": "2020-03-16T12:52:46.934451",
   "version": "0.16.2"
  }
 },
 "nbformat": 4,
 "nbformat_minor": 1
}