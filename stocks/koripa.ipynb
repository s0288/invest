{
 "cells": [
  {
   "cell_type": "code",
   "execution_count": 1,
   "metadata": {
    "collapsed": true,
    "hide_input": true,
    "papermill": {
     "duration": 0.020112,
     "end_time": "2020-03-16T12:50:03.567426",
     "exception": false,
     "start_time": "2020-03-16T12:50:03.547314",
     "status": "completed"
    },
    "tags": [
     "parameters"
    ]
   },
   "outputs": [],
   "source": [
    "ticker = \"KORI.PA\""
   ]
  },
  {
   "cell_type": "code",
   "execution_count": 2,
   "metadata": {
    "papermill": {
     "duration": 0.017439,
     "end_time": "2020-03-16T12:50:03.592099",
     "exception": false,
     "start_time": "2020-03-16T12:50:03.574660",
     "status": "completed"
    },
    "tags": [
     "injected-parameters"
    ]
   },
   "outputs": [],
   "source": [
    "# Parameters\n",
    "ticker = \"KORI.PA\"\n"
   ]
  },
  {
   "cell_type": "code",
   "execution_count": 3,
   "metadata": {
    "collapsed": false,
    "papermill": {
     "duration": 6.843541,
     "end_time": "2020-03-16T12:50:10.442475",
     "exception": false,
     "start_time": "2020-03-16T12:50:03.598934",
     "status": "completed"
    },
    "tags": []
   },
   "outputs": [],
   "source": [
    "import yfinance as yf\n",
    "import pandas as pd\n",
    "import matplotlib.pyplot as plt\n",
    "import matplotlib.gridspec as gridspec\n",
    "from pandas.plotting import register_matplotlib_converters\n",
    "register_matplotlib_converters()\n",
    "import os\n",
    "\n",
    "from newsapi import NewsApiClient\n",
    "import config\n",
    "import datetime\n",
    "\n",
    "stock = yf.Ticker(ticker)\n",
    "dax = yf.Ticker(\"^GDAXI\")\n",
    "sp = yf.Ticker(\"^GSPC\")\n",
    "\n",
    "#### stock history values\n",
    "history_5y = stock.history(period='5y')['Close']\n",
    "history_1y = stock.history(period='1y')['Close']\n",
    "history_since_corona = history_1y[history_1y.index >= '2020-02-20']\n",
    "\n",
    "dax_5y = dax.history(period='5y')['Close']\n",
    "dax_1y = dax.history(period='1y')['Close']\n",
    "sp_5y = sp.history(period='5y')['Close']\n",
    "sp_1y = sp.history(period='1y')['Close']\n",
    "\n",
    "\n",
    "def get_stock_info(label):\n",
    "    try:\n",
    "        value = stock.info[label]\n",
    "    except:\n",
    "        value = None\n",
    "    return value\n",
    "\n",
    "#### df values: \"name\", \"symbol\", \"sector\", \"industry\", \"country\", \"business_summary\", \"ret_since_corona\", \"ret_1y\", \"ret_5y\", \"ret_1y_wo_corona\", \"ret_5y_wo_corona\", \"perc_diff_dax_1y_wo_corona\", \"perc_diff_dax_5y_wo_corona\", \"perc_diff_sp_1y_wo_corona\", \"perc_diff_sp_5y_wo_corona\"\n",
    "name = get_stock_info(\"longName\")\n",
    "symbol = get_stock_info(\"symbol\")\n",
    "sector = get_stock_info(\"sector\")\n",
    "industry = get_stock_info(\"industry\")\n",
    "country = get_stock_info(\"country\")\n",
    "business_summary = get_stock_info(\"longBusinessSummary\")\n",
    "\n",
    "ret_since_corona = history_since_corona.pct_change().sum()\n",
    "ret_1y = history_1y.pct_change().sum()\n",
    "ret_5y = history_5y.pct_change().sum()\n",
    "ret_1y_wo_corona = history_1y[history_1y.index <= '2020-02-21'].pct_change().sum()\n",
    "ret_5y_wo_corona = history_5y[history_5y.index <= '2020-02-21'].pct_change().sum()\n",
    "\n",
    "dax_1y_wo_corona = dax_1y[dax_1y.index <= '2020-02-21'].pct_change().sum()\n",
    "dax_5y_wo_corona = dax_5y[dax_5y.index <= '2020-02-21'].pct_change().sum()\n",
    "sp_1y_wo_corona = sp_1y[sp_1y.index <= '2020-02-21'].pct_change().sum()\n",
    "sp_5y_wo_corona = sp_5y[sp_5y.index <= '2020-02-21'].pct_change().sum()\n",
    "\n",
    "perc_diff_dax_1y_wo_corona = ret_1y_wo_corona - dax_1y_wo_corona\n",
    "perc_diff_dax_5y_wo_corona = ret_5y_wo_corona - dax_5y_wo_corona\n",
    "perc_diff_sp_1y_wo_corona = ret_1y_wo_corona - sp_1y_wo_corona\n",
    "perc_diff_sp_5y_wo_corona = ret_5y_wo_corona - sp_5y_wo_corona\n",
    "\n",
    "\n",
    "if os.path.isfile('stock_returns.pkl'):\n",
    "    # load existing pickle\n",
    "    df = pd.read_pickle(\"stock_returns.pkl\")\n",
    "    # check if stock in pickle already, if not, add stock\n",
    "else:\n",
    "    # create new dataframe (only do once)\n",
    "    df = pd.DataFrame(columns=[\"name\", \"symbol\", \"sector\", \"industry\", \"country\", \"business_summary\", \"ret_since_corona\", \"ret_1y\", \"ret_5y\", \"ret_1y_wo_corona\", \"ret_5y_wo_corona\", \"perc_diff_dax_1y_wo_corona\", \"perc_diff_dax_5y_wo_corona\", \"perc_diff_sp_1y_wo_corona\", \"perc_diff_sp_5y_wo_corona\"])\n",
    "\n",
    "if sum(symbol == df.symbol) == 0:\n",
    "    df.loc[len(df)] = [name, symbol, sector, industry, country, business_summary, ret_since_corona, ret_1y, ret_5y, ret_1y_wo_corona, ret_5y_wo_corona, perc_diff_dax_1y_wo_corona, perc_diff_dax_5y_wo_corona, perc_diff_sp_1y_wo_corona, perc_diff_sp_5y_wo_corona]\n",
    "    df.to_pickle(\"stock_returns.pkl\")"
   ]
  },
  {
   "cell_type": "markdown",
   "metadata": {
    "papermill": {
     "duration": 0.009149,
     "end_time": "2020-03-16T12:50:10.458664",
     "exception": false,
     "start_time": "2020-03-16T12:50:10.449515",
     "status": "completed"
    },
    "tags": []
   },
   "source": [
    "# Company info "
   ]
  },
  {
   "cell_type": "code",
   "execution_count": 4,
   "metadata": {
    "collapsed": false,
    "papermill": {
     "duration": 0.02622,
     "end_time": "2020-03-16T12:50:10.492613",
     "exception": false,
     "start_time": "2020-03-16T12:50:10.466393",
     "status": "completed"
    },
    "tags": []
   },
   "outputs": [
    {
     "name": "stdout",
     "output_type": "stream",
     "text": [
      "\n",
      "Company name: Korian\n",
      "Symbol: KORI.PA\n",
      "Sector: Healthcare\n",
      "Industry: Medical Care Facilities\n",
      "Country: France\n",
      "\n",
      "Business summary: Korian provides integrated health and care services for the elderly in France, Germany, Belgium, Italy, Spain, and the Netherlands. The company operates long-term care nursing homes, specialized clinics, and assisted living and shared senior housing facilities, as well as offers homecare and hospital-at-home services. As of April 24, 2019, it operated 843 facilities with 80,992 beds. The company was formerly known as Korian-Medica S.A. and changed its name to Korian in July 2015. Korian was founded in 2001 and is headquartered in Paris, France.\n",
      "\n"
     ]
    }
   ],
   "source": [
    "print(f\"\"\"\n",
    "Company name: {name}\n",
    "Symbol: {symbol}\n",
    "Sector: {sector}\n",
    "Industry: {industry}\n",
    "Country: {country}\\n\n",
    "Business summary: {business_summary}\n",
    "\"\"\")"
   ]
  },
  {
   "cell_type": "markdown",
   "metadata": {
    "papermill": {
     "duration": 0.008292,
     "end_time": "2020-03-16T12:50:10.511019",
     "exception": false,
     "start_time": "2020-03-16T12:50:10.502727",
     "status": "completed"
    },
    "tags": []
   },
   "source": [
    "# Performance"
   ]
  },
  {
   "cell_type": "code",
   "execution_count": 5,
   "metadata": {
    "collapsed": false,
    "papermill": {
     "duration": 0.700159,
     "end_time": "2020-03-16T12:50:11.218912",
     "exception": false,
     "start_time": "2020-03-16T12:50:10.518753",
     "status": "completed"
    },
    "tags": []
   },
   "outputs": [
    {
     "data": {
      "image/png": "[encoded data removed]",
      "text/plain": [
       "<matplotlib.figure.Figure at 0x11c4475c0>"
      ]
     },
     "metadata": {},
     "output_type": "display_data"
    },
    {
     "name": "stdout",
     "output_type": "stream",
     "text": [
      "1y:              percent return: -20.63%\n",
      "Since Corona:    percent return: -45.24%\n",
      "\n",
      "5y percent return before 21.02.20: 59.04%. Diff to dax: 40.56%\n",
      "1y percent return before 21.02.20: 25.38%. Diff to dax: 9.20%\n"
     ]
    }
   ],
   "source": [
    "# Create 2x2 sub plots\n",
    "gs = gridspec.GridSpec(4, 1)\n",
    "\n",
    "plt.figure(figsize = (10,10))\n",
    "\n",
    "plt.subplot(gs[0, 0])\n",
    "plt.plot(history_5y)\n",
    "plt.title(f\"5y: trading history {stock.info['symbol']}\")\n",
    "plt.text(history_5y.index[0], history_5y[0]+10, f\"starting_value: {history_5y[0]}\")\n",
    "plt.text(history_5y.index[0], history_5y[0]+5, f\"closing_value: {history_5y[-1]}\")\n",
    "plt.ylim(min(history_5y)-5, max(history_5y)+15)\n",
    "\n",
    "plt.subplot(gs[1, 0])\n",
    "plt.plot(history_1y)\n",
    "plt.title(f\"1y: trading history {stock.info['symbol']}\")\n",
    "plt.text(history_1y.index[0], history_1y[0]+10, f\"starting_value: {history_1y[0]}\")\n",
    "plt.text(history_1y.index[0], history_1y[0]+5, f\"closing_value: {history_1y[-1]}\")\n",
    "plt.ylim(min(history_1y)-5, max(history_1y)+15)\n",
    "\n",
    "plt.subplot(gs[2, 0])\n",
    "plt.plot(history_since_corona)\n",
    "plt.title(f\"Since Corona: trading history {stock.info['symbol']}\")\n",
    "plt.text(history_since_corona.index[0], history_since_corona[0]+10, f\"starting_value: {history_since_corona[0]}\")\n",
    "plt.text(history_since_corona.index[0], history_since_corona[0]+5, f\"closing_value: {history_since_corona[-1]}\")\n",
    "plt.ylim(min(history_since_corona)-5, max(history_since_corona)+15)\n",
    "plt.xticks(rotation=45)\n",
    "\n",
    "\n",
    "plt.tight_layout()\n",
    "plt.show()\n",
    "\n",
    "## calc returns\n",
    "print(f\"1y:              percent return: {ret_1y:.2%}\")\n",
    "print(f\"Since Corona:    percent return: {ret_since_corona:.2%}\\n\")\n",
    "\n",
    "## calc returns w/o Corona & compare with DAX\n",
    "print(f\"5y percent return before 21.02.20: {ret_5y_wo_corona:.2%}. Diff to dax: {perc_diff_dax_5y_wo_corona:.2%}\")\n",
    "print(f\"1y percent return before 21.02.20: {ret_1y_wo_corona:.2%}. Diff to dax: {perc_diff_dax_1y_wo_corona:.2%}\")"
   ]
  },
  {
   "cell_type": "markdown",
   "metadata": {
    "collapsed": true,
    "papermill": {
     "duration": 0.015706,
     "end_time": "2020-03-16T12:50:11.244977",
     "exception": false,
     "start_time": "2020-03-16T12:50:11.229271",
     "status": "completed"
    },
    "tags": []
   },
   "source": [
    "# News cycle"
   ]
  },
  {
   "cell_type": "code",
   "execution_count": 6,
   "metadata": {
    "collapsed": false,
    "papermill": {
     "duration": 1.009988,
     "end_time": "2020-03-16T12:50:12.266759",
     "exception": false,
     "start_time": "2020-03-16T12:50:11.256771",
     "status": "completed"
    },
    "tags": []
   },
   "outputs": [
    {
     "name": "stdout",
     "output_type": "stream",
     "text": [
      "total results: 13\n",
      "\n",
      "\n",
      "2020-03-05T10:34:19Z\n",
      "  Sophie Boissard : « Face à la société de la longévité, il faut renouer avec le modèle des bassins de vie »\n",
      "  Le Monde\n",
      "  https://www.lemonde.fr/economie/article/2020/03/05/sophie-boissard-face-a-la-societe-de-la-longevite-il-faut-renouer-avec-le-modele-des-bassins-de-vie_6031941_3234.html\n",
      "\n",
      "2020-03-04T10:33:56Z\n",
      "  Les introductions en bourse perturbées par le coronavirus\n",
      "  Les Echos\n",
      "  https://www.lesechos.fr/finance-marches/marches-financiers/les-introductions-en-bourse-perturbees-par-le-coronavirus-1181838\n",
      "\n",
      "2020-03-04T06:00:07Z\n",
      "  La loi « avenir professionnel » a multiplié les centres de formation d’apprentis dans les entreprises\n",
      "  Le Monde\n",
      "  https://www.lemonde.fr/emploi/article/2020/03/04/la-loi-avenir-professionnel-a-multiplie-les-centres-de-formation-d-apprentis-dans-les-entreprises_6031747_1698637.html\n",
      "\n",
      "2020-03-03T11:58:35Z\n",
      "  BRIEF-Korian Convertible Bond Offering Of EUR 400 Mln Bonds Due 2027 - Bookrunner\n",
      "  Reuters\n",
      "  https://www.reuters.com/article/brief-korian-convertible-bond-offering-o-idUSFWN2AW0BM\n",
      "\n",
      "2020-03-03T11:58:35Z\n",
      "  BRIEF-Korian Convertible Bond Offering Of EUR 400 Mln Bonds Due 2027 - Bookrunner\n",
      "  Reuters\n",
      "  https://uk.reuters.com/article/brief-korian-convertible-bond-offering-o-idUKFWN2AW0BM\n",
      "\n",
      "2020-03-02T05:00:03Z\n",
      "  Féminisation des comex : 6 femmes prennent la parole\n",
      "  Les Echos\n",
      "  https://business.lesechos.fr/directions-generales/strategie/organisation-des-entreprises/0602824860132-feminisation-des-comex-6-femmes-prennent-la-parole-335359.php\n",
      "\n",
      "2020-02-28T13:00:06Z\n",
      "  « Comment réconcilier la France avec ses territoires? », une conférence coorganisée par le Cercle des économistes et « Le Monde »\n",
      "  Le Monde\n",
      "  https://www.lemonde.fr/economie/article/2020/02/28/comment-reconcilier-la-france-avec-ses-territoires-une-conference-coorganisee-par-le-cercle-des-economistes-et-le-monde_6031220_3234.html\n",
      "\n",
      "2020-02-27T19:39:00Z\n",
      "  KORIAN (FR0010386334) : Informations privilégiées / Communiqué sur comptes, résultats\n",
      "  Les Echos\n",
      "  http://lesechos-comfi.lesechos.fr/actualite.html?id=915075&cf=rss\n",
      "\n",
      "2020-02-27T15:34:48Z\n",
      "  Korian poursuit sa mue en se diversifiant dans la santé\n",
      "  Les Echos\n",
      "  https://www.lesechos.fr/industrie-services/pharmacie-sante/korian-poursuit-sa-mue-en-se-diversifiant-dans-la-sante-1180275\n",
      "\n",
      "2020-02-25T07:15:00Z\n",
      "  KORIAN (FR0010386334) : Informations privilégiées / Opérations de l'émetteur (acquisitions, cessions...)\n",
      "  Les Echos\n",
      "  http://lesechos-comfi.lesechos.fr/actualite.html?id=914533&cf=rss\n",
      "\n",
      "2020-02-25T07:15:00Z\n",
      "  KORIAN (FR0010386334) : Informations privilégiées / Opérations de l'émetteur (acquisitions, cessions...)\n",
      "  Les Echos\n",
      "  http://lesechos-comfi.lesechos.fr/actualite.html?id=914523&cf=rss\n",
      "\n",
      "2020-02-18T06:07:52Z\n",
      "  Sodexo fait du Salon de l'Agriculture la vitrine de ses achats durables\n",
      "  Les Echos\n",
      "  https://www.lesechos.fr/industrie-services/services-conseils/sodexo-fait-du-salon-de-lagriculture-la-vitrine-de-ses-achats-durables-1172652\n",
      "\n",
      "2020-02-17T04:15:33Z\n",
      "  CAC 40 : les dix femmes les plus citées par les chasseurs de têtes\n",
      "  Les Echos\n",
      "  https://www.lesechos.fr/industrie-services/services-conseils/cac-40-les-dix-femmes-les-plus-citees-par-les-chasseurs-de-tetes-1172289\n",
      "\n"
     ]
    }
   ],
   "source": [
    "# init api\n",
    "api = config.API_NEWS\n",
    "newsapi = NewsApiClient(api_key=api)\n",
    "\n",
    "# name already set above\n",
    "name = name\n",
    "# define date range - as start date take minus 28 days to always stay within api limit (apparently 1 month)\n",
    "current_date = datetime.datetime.now().date()\n",
    "date_28_days_ago = current_date - datetime.timedelta(days=28)\n",
    "\n",
    "\n",
    "# split name into word elements and loop through name until first hit\n",
    "name_split = name.split(' ')\n",
    "counter = 0\n",
    "for i in name_split:\n",
    "    # join words to current state of loop (e.g. ['Capital', 'Senior', 'Living'] to 'Capital Senior Living')\n",
    "    query_word = ' '.join(name_split[0 : len(name_split) - counter])\n",
    "    \n",
    "    # get articles, first 20 (page 1) and sorted by publication date\n",
    "    headlines = newsapi.get_everything(q=query_word\n",
    "                                           , sources='reuters, google-news, bloomberg, financial-post, handelsblatt, google-news-fr, le-monde, lequipe, les-echos, liberation'\n",
    "                                           , from_param=date_28_days_ago\n",
    "                                           , to=current_date\n",
    "                                          # , language='en'\n",
    "                                           , sort_by='publishedAt'\n",
    "                                           , page=1\n",
    "                                             )\n",
    "\n",
    "    # if any results, print and break loop\n",
    "    total_results = headlines['totalResults']\n",
    "    if total_results > 0:\n",
    "        print(f\"total results: {total_results}\\n\\n\")\n",
    "        for i in range(len(headlines['articles'])):\n",
    "            print(f\"{headlines['articles'][i]['publishedAt']}\")\n",
    "            print(f\"  {headlines['articles'][i]['title']}\")\n",
    "            print(f\"  {headlines['articles'][i]['source']['name']}\")\n",
    "            print(f\"  {headlines['articles'][i]['url']}\\n\")\n",
    "        break\n",
    "    counter += 1\n",
    "    if counter == len(name_split) and total_results == 0:\n",
    "        print(f\"no news since {date_28_days_ago}\")\n"
   ]
  },
  {
   "cell_type": "code",
   "execution_count": null,
   "metadata": {
    "collapsed": true,
    "papermill": {
     "duration": 0.015744,
     "end_time": "2020-03-16T12:50:12.294956",
     "exception": false,
     "start_time": "2020-03-16T12:50:12.279212",
     "status": "completed"
    },
    "tags": []
   },
   "outputs": [],
   "source": []
  }
 ],
 "metadata": {
  "celltoolbar": "Edit Metadata",
  "kernelspec": {
   "display_name": "notadiet Py3.6",
   "language": "python",
   "name": "notadiet"
  },
  "language_info": {
   "codemirror_mode": {
    "name": "ipython",
    "version": 3
   },
   "file_extension": ".py",
   "mimetype": "text/x-python",
   "name": "python",
   "nbconvert_exporter": "python",
   "pygments_lexer": "ipython3",
   "version": "3.6.2"
  },
  "papermill": {
   "duration": 10.482446,
   "end_time": "2020-03-16T12:50:13.160212",
   "environment_variables": {},
   "exception": null,
   "input_path": "corona_invest.ipynb",
   "output_path": "./stocks/koripa.ipynb",
   "parameters": {
    "ticker": "KORI.PA"
   },
   "start_time": "2020-03-16T12:50:02.677766",
   "version": "0.16.2"
  }
 },
 "nbformat": 4,
 "nbformat_minor": 1
}