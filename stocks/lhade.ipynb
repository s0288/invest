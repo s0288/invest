{
 "cells": [
  {
   "cell_type": "code",
   "execution_count": 1,
   "metadata": {
    "collapsed": true,
    "hide_input": true,
    "papermill": {
     "duration": 0.023284,
     "end_time": "2020-03-16T12:51:55.358815",
     "exception": false,
     "start_time": "2020-03-16T12:51:55.335531",
     "status": "completed"
    },
    "tags": [
     "parameters"
    ]
   },
   "outputs": [],
   "source": [
    "ticker = \"KORI.PA\""
   ]
  },
  {
   "cell_type": "code",
   "execution_count": 2,
   "metadata": {
    "papermill": {
     "duration": 0.023258,
     "end_time": "2020-03-16T12:51:55.391593",
     "exception": false,
     "start_time": "2020-03-16T12:51:55.368335",
     "status": "completed"
    },
    "tags": [
     "injected-parameters"
    ]
   },
   "outputs": [],
   "source": [
    "# Parameters\n",
    "ticker = \"LHA.DE\"\n"
   ]
  },
  {
   "cell_type": "code",
   "execution_count": 3,
   "metadata": {
    "collapsed": false,
    "papermill": {
     "duration": 4.720425,
     "end_time": "2020-03-16T12:52:00.133209",
     "exception": false,
     "start_time": "2020-03-16T12:51:55.412784",
     "status": "completed"
    },
    "tags": []
   },
   "outputs": [],
   "source": [
    "import yfinance as yf\n",
    "import pandas as pd\n",
    "import matplotlib.pyplot as plt\n",
    "import matplotlib.gridspec as gridspec\n",
    "from pandas.plotting import register_matplotlib_converters\n",
    "register_matplotlib_converters()\n",
    "import os\n",
    "\n",
    "from newsapi import NewsApiClient\n",
    "import config\n",
    "import datetime\n",
    "\n",
    "stock = yf.Ticker(ticker)\n",
    "dax = yf.Ticker(\"^GDAXI\")\n",
    "sp = yf.Ticker(\"^GSPC\")\n",
    "\n",
    "#### stock history values\n",
    "history_5y = stock.history(period='5y')['Close']\n",
    "history_1y = stock.history(period='1y')['Close']\n",
    "history_since_corona = history_1y[history_1y.index >= '2020-02-20']\n",
    "\n",
    "dax_5y = dax.history(period='5y')['Close']\n",
    "dax_1y = dax.history(period='1y')['Close']\n",
    "sp_5y = sp.history(period='5y')['Close']\n",
    "sp_1y = sp.history(period='1y')['Close']\n",
    "\n",
    "\n",
    "def get_stock_info(label):\n",
    "    try:\n",
    "        value = stock.info[label]\n",
    "    except:\n",
    "        value = None\n",
    "    return value\n",
    "\n",
    "#### df values: \"name\", \"symbol\", \"sector\", \"industry\", \"country\", \"business_summary\", \"ret_since_corona\", \"ret_1y\", \"ret_5y\", \"ret_1y_wo_corona\", \"ret_5y_wo_corona\", \"perc_diff_dax_1y_wo_corona\", \"perc_diff_dax_5y_wo_corona\", \"perc_diff_sp_1y_wo_corona\", \"perc_diff_sp_5y_wo_corona\"\n",
    "name = get_stock_info(\"longName\")\n",
    "symbol = get_stock_info(\"symbol\")\n",
    "sector = get_stock_info(\"sector\")\n",
    "industry = get_stock_info(\"industry\")\n",
    "country = get_stock_info(\"country\")\n",
    "business_summary = get_stock_info(\"longBusinessSummary\")\n",
    "\n",
    "ret_since_corona = history_since_corona.pct_change().sum()\n",
    "ret_1y = history_1y.pct_change().sum()\n",
    "ret_5y = history_5y.pct_change().sum()\n",
    "ret_1y_wo_corona = history_1y[history_1y.index <= '2020-02-21'].pct_change().sum()\n",
    "ret_5y_wo_corona = history_5y[history_5y.index <= '2020-02-21'].pct_change().sum()\n",
    "\n",
    "dax_1y_wo_corona = dax_1y[dax_1y.index <= '2020-02-21'].pct_change().sum()\n",
    "dax_5y_wo_corona = dax_5y[dax_5y.index <= '2020-02-21'].pct_change().sum()\n",
    "sp_1y_wo_corona = sp_1y[sp_1y.index <= '2020-02-21'].pct_change().sum()\n",
    "sp_5y_wo_corona = sp_5y[sp_5y.index <= '2020-02-21'].pct_change().sum()\n",
    "\n",
    "perc_diff_dax_1y_wo_corona = ret_1y_wo_corona - dax_1y_wo_corona\n",
    "perc_diff_dax_5y_wo_corona = ret_5y_wo_corona - dax_5y_wo_corona\n",
    "perc_diff_sp_1y_wo_corona = ret_1y_wo_corona - sp_1y_wo_corona\n",
    "perc_diff_sp_5y_wo_corona = ret_5y_wo_corona - sp_5y_wo_corona\n",
    "\n",
    "\n",
    "if os.path.isfile('stock_returns.pkl'):\n",
    "    # load existing pickle\n",
    "    df = pd.read_pickle(\"stock_returns.pkl\")\n",
    "    # check if stock in pickle already, if not, add stock\n",
    "else:\n",
    "    # create new dataframe (only do once)\n",
    "    df = pd.DataFrame(columns=[\"name\", \"symbol\", \"sector\", \"industry\", \"country\", \"business_summary\", \"ret_since_corona\", \"ret_1y\", \"ret_5y\", \"ret_1y_wo_corona\", \"ret_5y_wo_corona\", \"perc_diff_dax_1y_wo_corona\", \"perc_diff_dax_5y_wo_corona\", \"perc_diff_sp_1y_wo_corona\", \"perc_diff_sp_5y_wo_corona\"])\n",
    "\n",
    "if sum(symbol == df.symbol) == 0:\n",
    "    df.loc[len(df)] = [name, symbol, sector, industry, country, business_summary, ret_since_corona, ret_1y, ret_5y, ret_1y_wo_corona, ret_5y_wo_corona, perc_diff_dax_1y_wo_corona, perc_diff_dax_5y_wo_corona, perc_diff_sp_1y_wo_corona, perc_diff_sp_5y_wo_corona]\n",
    "    df.to_pickle(\"stock_returns.pkl\")"
   ]
  },
  {
   "cell_type": "markdown",
   "metadata": {
    "papermill": {
     "duration": 0.01637,
     "end_time": "2020-03-16T12:52:00.161314",
     "exception": false,
     "start_time": "2020-03-16T12:52:00.144944",
     "status": "completed"
    },
    "tags": []
   },
   "source": [
    "# Company info "
   ]
  },
  {
   "cell_type": "code",
   "execution_count": 4,
   "metadata": {
    "collapsed": false,
    "papermill": {
     "duration": 0.03338,
     "end_time": "2020-03-16T12:52:00.204471",
     "exception": false,
     "start_time": "2020-03-16T12:52:00.171091",
     "status": "completed"
    },
    "tags": []
   },
   "outputs": [
    {
     "name": "stdout",
     "output_type": "stream",
     "text": [
      "\n",
      "Company name: Deutsche Lufthansa AG\n",
      "Symbol: LHA.DE\n",
      "Sector: Industrials\n",
      "Industry: Airlines\n",
      "Country: Germany\n",
      "\n",
      "Business summary: Deutsche Lufthansa AG operates as an aviation company in Germany and internationally. The company operates through Network Airlines, Eurowings, and Aviation Services. The Network Airlines segment offers passenger services through a route network of 287 destinations in 86 countries. The Eurowings segment provides passenger services through a route network of 197 destinations in 62 countries. The Aviation Services segment offers a range of cargo transport services for various cargos, including live animals, valuable cargo, mail, dangerous goods, and temperature-sensitive cargo serving approximately 300 destinations in approximately 100 countries. This segment also provides maintenance, repair, and overhaul services for civilian commercial aircraft serving original equipment manufacturers and aircraft leasing companies, operators of VIP jets, and airlines, as well as develops and manufactures cabin products and digital products. In addition, it offers catering, in-flight sales and entertainment, in-flight service equipment, and the associated logistics services; and consulting services, as well as operates airport lounges. Further, this segment provides consulting and IT services for the aviation industry; aviation and transport insurance, and reinsurance products, as well as risk management services; training courses in simulator training, emergency and service drill, or e-learning; and business travel management solutions in the area of payment and analysis of corporate travel. As of December 31, 2018, it had a fleet of 763 aircraft. Deutsche Lufthansa AG is headquartered in Cologne, Germany.\n",
      "\n"
     ]
    }
   ],
   "source": [
    "print(f\"\"\"\n",
    "Company name: {name}\n",
    "Symbol: {symbol}\n",
    "Sector: {sector}\n",
    "Industry: {industry}\n",
    "Country: {country}\\n\n",
    "Business summary: {business_summary}\n",
    "\"\"\")"
   ]
  },
  {
   "cell_type": "markdown",
   "metadata": {
    "papermill": {
     "duration": 0.006657,
     "end_time": "2020-03-16T12:52:00.218511",
     "exception": false,
     "start_time": "2020-03-16T12:52:00.211854",
     "status": "completed"
    },
    "tags": []
   },
   "source": [
    "# Performance"
   ]
  },
  {
   "cell_type": "code",
   "execution_count": 5,
   "metadata": {
    "collapsed": false,
    "papermill": {
     "duration": 0.73312,
     "end_time": "2020-03-16T12:52:00.958725",
     "exception": false,
     "start_time": "2020-03-16T12:52:00.225605",
     "status": "completed"
    },
    "tags": []
   },
   "outputs": [
    {
     "data": {
      "image/png": "[encoded data removed]",
      "text/plain": [
       "<matplotlib.figure.Figure at 0x114331550>"
      ]
     },
     "metadata": {},
     "output_type": "display_data"
    },
    {
     "name": "stdout",
     "output_type": "stream",
     "text": [
      "1y:              percent return: -79.59%\n",
      "Since Corona:    percent return: -55.42%\n",
      "\n",
      "5y percent return before 21.02.20: 46.85%. Diff to dax: 28.37%\n",
      "1y percent return before 21.02.20: -25.57%. Diff to dax: -41.75%\n"
     ]
    }
   ],
   "source": [
    "# Create 2x2 sub plots\n",
    "gs = gridspec.GridSpec(4, 1)\n",
    "\n",
    "plt.figure(figsize = (10,10))\n",
    "\n",
    "plt.subplot(gs[0, 0])\n",
    "plt.plot(history_5y)\n",
    "plt.title(f\"5y: trading history {stock.info['symbol']}\")\n",
    "plt.text(history_5y.index[0], history_5y[0]+10, f\"starting_value: {history_5y[0]}\")\n",
    "plt.text(history_5y.index[0], history_5y[0]+5, f\"closing_value: {history_5y[-1]}\")\n",
    "plt.ylim(min(history_5y)-5, max(history_5y)+15)\n",
    "\n",
    "plt.subplot(gs[1, 0])\n",
    "plt.plot(history_1y)\n",
    "plt.title(f\"1y: trading history {stock.info['symbol']}\")\n",
    "plt.text(history_1y.index[0], history_1y[0]+10, f\"starting_value: {history_1y[0]}\")\n",
    "plt.text(history_1y.index[0], history_1y[0]+5, f\"closing_value: {history_1y[-1]}\")\n",
    "plt.ylim(min(history_1y)-5, max(history_1y)+15)\n",
    "\n",
    "plt.subplot(gs[2, 0])\n",
    "plt.plot(history_since_corona)\n",
    "plt.title(f\"Since Corona: trading history {stock.info['symbol']}\")\n",
    "plt.text(history_since_corona.index[0], history_since_corona[0]+10, f\"starting_value: {history_since_corona[0]}\")\n",
    "plt.text(history_since_corona.index[0], history_since_corona[0]+5, f\"closing_value: {history_since_corona[-1]}\")\n",
    "plt.ylim(min(history_since_corona)-5, max(history_since_corona)+15)\n",
    "plt.xticks(rotation=45)\n",
    "\n",
    "\n",
    "plt.tight_layout()\n",
    "plt.show()\n",
    "\n",
    "## calc returns\n",
    "print(f\"1y:              percent return: {ret_1y:.2%}\")\n",
    "print(f\"Since Corona:    percent return: {ret_since_corona:.2%}\\n\")\n",
    "\n",
    "## calc returns w/o Corona & compare with DAX\n",
    "print(f\"5y percent return before 21.02.20: {ret_5y_wo_corona:.2%}. Diff to dax: {perc_diff_dax_5y_wo_corona:.2%}\")\n",
    "print(f\"1y percent return before 21.02.20: {ret_1y_wo_corona:.2%}. Diff to dax: {perc_diff_dax_1y_wo_corona:.2%}\")"
   ]
  },
  {
   "cell_type": "markdown",
   "metadata": {
    "collapsed": true,
    "papermill": {
     "duration": 0.018466,
     "end_time": "2020-03-16T12:52:00.987388",
     "exception": false,
     "start_time": "2020-03-16T12:52:00.968922",
     "status": "completed"
    },
    "tags": []
   },
   "source": [
    "# News cycle"
   ]
  },
  {
   "cell_type": "code",
   "execution_count": 6,
   "metadata": {
    "collapsed": false,
    "papermill": {
     "duration": 0.286266,
     "end_time": "2020-03-16T12:52:01.295862",
     "exception": false,
     "start_time": "2020-03-16T12:52:01.009596",
     "status": "completed"
    },
    "tags": []
   },
   "outputs": [
    {
     "name": "stdout",
     "output_type": "stream",
     "text": [
      "total results: 3\n",
      "\n",
      "\n",
      "2020-03-11T16:33:54Z\n",
      "  Factbox: Airlines count mounting costs of the coronavirus shock\n",
      "  Reuters\n",
      "  https://www.reuters.com/article/us-health-coronavirus-airlines-factbox-idUSKBN20Y2MB\n",
      "\n",
      "2020-03-11T16:33:54Z\n",
      "  Factbox: Airlines count mounting costs of the coronavirus shock\n",
      "  Reuters\n",
      "  https://ca.reuters.com/article/businessNews/idCAKBN20Y2MB\n",
      "\n",
      "2020-03-05T07:11:01Z\n",
      "  Lufthansa, Airports Seek to Raise Cash as Virus Hammers Travel\n",
      "  Bloomberg\n",
      "  https://www.bloomberg.com/news/articles/2020-03-05/lufthansa-airports-offer-german-debt-amid-virus-travel-slump\n",
      "\n"
     ]
    }
   ],
   "source": [
    "# init api\n",
    "api = config.API_NEWS\n",
    "newsapi = NewsApiClient(api_key=api)\n",
    "\n",
    "# name already set above\n",
    "name = name\n",
    "# define date range - as start date take minus 28 days to always stay within api limit (apparently 1 month)\n",
    "current_date = datetime.datetime.now().date()\n",
    "date_28_days_ago = current_date - datetime.timedelta(days=28)\n",
    "\n",
    "\n",
    "# split name into word elements and loop through name until first hit\n",
    "name_split = name.split(' ')\n",
    "counter = 0\n",
    "for i in name_split:\n",
    "    # join words to current state of loop (e.g. ['Capital', 'Senior', 'Living'] to 'Capital Senior Living')\n",
    "    query_word = ' '.join(name_split[0 : len(name_split) - counter])\n",
    "    \n",
    "    # get articles, first 20 (page 1) and sorted by publication date\n",
    "    headlines = newsapi.get_everything(q=query_word\n",
    "                                           , sources='reuters, google-news, bloomberg, financial-post, handelsblatt, google-news-fr, le-monde, lequipe, les-echos, liberation'\n",
    "                                           , from_param=date_28_days_ago\n",
    "                                           , to=current_date\n",
    "                                          # , language='en'\n",
    "                                           , sort_by='publishedAt'\n",
    "                                           , page=1\n",
    "                                             )\n",
    "\n",
    "    # if any results, print and break loop\n",
    "    total_results = headlines['totalResults']\n",
    "    if total_results > 0:\n",
    "        print(f\"total results: {total_results}\\n\\n\")\n",
    "        for i in range(len(headlines['articles'])):\n",
    "            print(f\"{headlines['articles'][i]['publishedAt']}\")\n",
    "            print(f\"  {headlines['articles'][i]['title']}\")\n",
    "            print(f\"  {headlines['articles'][i]['source']['name']}\")\n",
    "            print(f\"  {headlines['articles'][i]['url']}\\n\")\n",
    "        break\n",
    "    counter += 1\n",
    "    if counter == len(name_split) and total_results == 0:\n",
    "        print(f\"no news since {date_28_days_ago}\")\n"
   ]
  },
  {
   "cell_type": "code",
   "execution_count": null,
   "metadata": {
    "collapsed": true,
    "papermill": {
     "duration": 0.020785,
     "end_time": "2020-03-16T12:52:01.327155",
     "exception": false,
     "start_time": "2020-03-16T12:52:01.306370",
     "status": "completed"
    },
    "tags": []
   },
   "outputs": [],
   "source": []
  }
 ],
 "metadata": {
  "celltoolbar": "Edit Metadata",
  "kernelspec": {
   "display_name": "notadiet Py3.6",
   "language": "python",
   "name": "notadiet"
  },
  "language_info": {
   "codemirror_mode": {
    "name": "ipython",
    "version": 3
   },
   "file_extension": ".py",
   "mimetype": "text/x-python",
   "name": "python",
   "nbconvert_exporter": "python",
   "pygments_lexer": "ipython3",
   "version": "3.6.2"
  },
  "papermill": {
   "duration": 7.476061,
   "end_time": "2020-03-16T12:52:01.940576",
   "environment_variables": {},
   "exception": null,
   "input_path": "corona_invest.ipynb",
   "output_path": "./stocks/lhade.ipynb",
   "parameters": {
    "ticker": "LHA.DE"
   },
   "start_time": "2020-03-16T12:51:54.464515",
   "version": "0.16.2"
  }
 },
 "nbformat": 4,
 "nbformat_minor": 1
}