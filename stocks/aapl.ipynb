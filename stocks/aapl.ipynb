{
 "cells": [
  {
   "cell_type": "code",
   "execution_count": 1,
   "metadata": {
    "collapsed": true,
    "hide_input": true,
    "papermill": {
     "duration": 0.0181,
     "end_time": "2020-03-16T12:54:39.739302",
     "exception": false,
     "start_time": "2020-03-16T12:54:39.721202",
     "status": "completed"
    },
    "tags": [
     "parameters"
    ]
   },
   "outputs": [],
   "source": [
    "ticker = \"KORI.PA\""
   ]
  },
  {
   "cell_type": "code",
   "execution_count": 2,
   "metadata": {
    "papermill": {
     "duration": 0.015983,
     "end_time": "2020-03-16T12:54:39.762396",
     "exception": false,
     "start_time": "2020-03-16T12:54:39.746413",
     "status": "completed"
    },
    "tags": [
     "injected-parameters"
    ]
   },
   "outputs": [],
   "source": [
    "# Parameters\n",
    "ticker = \"AAPL\"\n"
   ]
  },
  {
   "cell_type": "code",
   "execution_count": 3,
   "metadata": {
    "collapsed": false,
    "papermill": {
     "duration": 6.963009,
     "end_time": "2020-03-16T12:54:46.732540",
     "exception": false,
     "start_time": "2020-03-16T12:54:39.769531",
     "status": "completed"
    },
    "tags": []
   },
   "outputs": [],
   "source": [
    "import yfinance as yf\n",
    "import pandas as pd\n",
    "import matplotlib.pyplot as plt\n",
    "import matplotlib.gridspec as gridspec\n",
    "from pandas.plotting import register_matplotlib_converters\n",
    "register_matplotlib_converters()\n",
    "import os\n",
    "\n",
    "from newsapi import NewsApiClient\n",
    "import config\n",
    "import datetime\n",
    "\n",
    "stock = yf.Ticker(ticker)\n",
    "dax = yf.Ticker(\"^GDAXI\")\n",
    "sp = yf.Ticker(\"^GSPC\")\n",
    "\n",
    "#### stock history values\n",
    "history_5y = stock.history(period='5y')['Close']\n",
    "history_1y = stock.history(period='1y')['Close']\n",
    "history_since_corona = history_1y[history_1y.index >= '2020-02-20']\n",
    "\n",
    "dax_5y = dax.history(period='5y')['Close']\n",
    "dax_1y = dax.history(period='1y')['Close']\n",
    "sp_5y = sp.history(period='5y')['Close']\n",
    "sp_1y = sp.history(period='1y')['Close']\n",
    "\n",
    "\n",
    "def get_stock_info(label):\n",
    "    try:\n",
    "        value = stock.info[label]\n",
    "    except:\n",
    "        value = None\n",
    "    return value\n",
    "\n",
    "#### df values: \"name\", \"symbol\", \"sector\", \"industry\", \"country\", \"business_summary\", \"ret_since_corona\", \"ret_1y\", \"ret_5y\", \"ret_1y_wo_corona\", \"ret_5y_wo_corona\", \"perc_diff_dax_1y_wo_corona\", \"perc_diff_dax_5y_wo_corona\", \"perc_diff_sp_1y_wo_corona\", \"perc_diff_sp_5y_wo_corona\"\n",
    "name = get_stock_info(\"longName\")\n",
    "symbol = get_stock_info(\"symbol\")\n",
    "sector = get_stock_info(\"sector\")\n",
    "industry = get_stock_info(\"industry\")\n",
    "country = get_stock_info(\"country\")\n",
    "business_summary = get_stock_info(\"longBusinessSummary\")\n",
    "\n",
    "ret_since_corona = history_since_corona.pct_change().sum()\n",
    "ret_1y = history_1y.pct_change().sum()\n",
    "ret_5y = history_5y.pct_change().sum()\n",
    "ret_1y_wo_corona = history_1y[history_1y.index <= '2020-02-21'].pct_change().sum()\n",
    "ret_5y_wo_corona = history_5y[history_5y.index <= '2020-02-21'].pct_change().sum()\n",
    "\n",
    "dax_1y_wo_corona = dax_1y[dax_1y.index <= '2020-02-21'].pct_change().sum()\n",
    "dax_5y_wo_corona = dax_5y[dax_5y.index <= '2020-02-21'].pct_change().sum()\n",
    "sp_1y_wo_corona = sp_1y[sp_1y.index <= '2020-02-21'].pct_change().sum()\n",
    "sp_5y_wo_corona = sp_5y[sp_5y.index <= '2020-02-21'].pct_change().sum()\n",
    "\n",
    "perc_diff_dax_1y_wo_corona = ret_1y_wo_corona - dax_1y_wo_corona\n",
    "perc_diff_dax_5y_wo_corona = ret_5y_wo_corona - dax_5y_wo_corona\n",
    "perc_diff_sp_1y_wo_corona = ret_1y_wo_corona - sp_1y_wo_corona\n",
    "perc_diff_sp_5y_wo_corona = ret_5y_wo_corona - sp_5y_wo_corona\n",
    "\n",
    "\n",
    "if os.path.isfile('stock_returns.pkl'):\n",
    "    # load existing pickle\n",
    "    df = pd.read_pickle(\"stock_returns.pkl\")\n",
    "    # check if stock in pickle already, if not, add stock\n",
    "else:\n",
    "    # create new dataframe (only do once)\n",
    "    df = pd.DataFrame(columns=[\"name\", \"symbol\", \"sector\", \"industry\", \"country\", \"business_summary\", \"ret_since_corona\", \"ret_1y\", \"ret_5y\", \"ret_1y_wo_corona\", \"ret_5y_wo_corona\", \"perc_diff_dax_1y_wo_corona\", \"perc_diff_dax_5y_wo_corona\", \"perc_diff_sp_1y_wo_corona\", \"perc_diff_sp_5y_wo_corona\"])\n",
    "\n",
    "if sum(symbol == df.symbol) == 0:\n",
    "    df.loc[len(df)] = [name, symbol, sector, industry, country, business_summary, ret_since_corona, ret_1y, ret_5y, ret_1y_wo_corona, ret_5y_wo_corona, perc_diff_dax_1y_wo_corona, perc_diff_dax_5y_wo_corona, perc_diff_sp_1y_wo_corona, perc_diff_sp_5y_wo_corona]\n",
    "    df.to_pickle(\"stock_returns.pkl\")"
   ]
  },
  {
   "cell_type": "markdown",
   "metadata": {
    "papermill": {
     "duration": 0.012609,
     "end_time": "2020-03-16T12:54:46.753398",
     "exception": false,
     "start_time": "2020-03-16T12:54:46.740789",
     "status": "completed"
    },
    "tags": []
   },
   "source": [
    "# Company info "
   ]
  },
  {
   "cell_type": "code",
   "execution_count": 4,
   "metadata": {
    "collapsed": false,
    "papermill": {
     "duration": 0.025589,
     "end_time": "2020-03-16T12:54:46.788023",
     "exception": false,
     "start_time": "2020-03-16T12:54:46.762434",
     "status": "completed"
    },
    "tags": []
   },
   "outputs": [
    {
     "name": "stdout",
     "output_type": "stream",
     "text": [
      "\n",
      "Company name: Apple Inc.\n",
      "Symbol: AAPL\n",
      "Sector: Technology\n",
      "Industry: Consumer Electronics\n",
      "Country: United States\n",
      "\n",
      "Business summary: Apple Inc. designs, manufactures, and markets smartphones, personal computers, tablets, wearables, and accessories worldwide. It also sells various related services. The company offers iPhone, a line of smartphones; Mac, a line of personal computers; iPad, a line of multi-purpose tablets; and wearables, home, and accessories comprising AirPods, Apple TV, Apple Watch, Beats products, HomePod, iPod touch, and other Apple-branded and third-party accessories. It also provides digital content stores and streaming services; AppleCare support services; and iCloud, a cloud service, which stores music, photos, contacts, calendars, mail, documents, and others. In addition, the company offers various service, such as Apple Arcade, a game subscription service; Apple Card, a co-branded credit card; Apple News+, a subscription news and magazine service; and Apple Pay, a cashless payment service, as well as licenses its intellectual property, and provides other related services. The company serves consumers, and small and mid-sized businesses; and the education, enterprise, and government markets. It sells and delivers third-party applications for its products through the App Store, Mac App Store, and Watch App Store. The company also sells its products through its retail and online stores, and direct sales force; and third-party cellular network carriers, wholesalers, retailers, and resellers. Apple Inc. was founded in 1977 and is headquartered in Cupertino, California.\n",
      "\n"
     ]
    }
   ],
   "source": [
    "print(f\"\"\"\n",
    "Company name: {name}\n",
    "Symbol: {symbol}\n",
    "Sector: {sector}\n",
    "Industry: {industry}\n",
    "Country: {country}\\n\n",
    "Business summary: {business_summary}\n",
    "\"\"\")"
   ]
  },
  {
   "cell_type": "markdown",
   "metadata": {
    "papermill": {
     "duration": 0.006679,
     "end_time": "2020-03-16T12:54:46.801960",
     "exception": false,
     "start_time": "2020-03-16T12:54:46.795281",
     "status": "completed"
    },
    "tags": []
   },
   "source": [
    "# Performance"
   ]
  },
  {
   "cell_type": "code",
   "execution_count": 5,
   "metadata": {
    "collapsed": false,
    "papermill": {
     "duration": 0.731626,
     "end_time": "2020-03-16T12:54:47.540519",
     "exception": false,
     "start_time": "2020-03-16T12:54:46.808893",
     "status": "completed"
    },
    "tags": []
   },
   "outputs": [
    {
     "data": {
      "image/png": "[encoded data removed]",
      "text/plain": [
       "<matplotlib.figure.Figure at 0x10deaf390>"
      ]
     },
     "metadata": {},
     "output_type": "display_data"
    },
    {
     "name": "stdout",
     "output_type": "stream",
     "text": [
      "1y:              percent return: 46.05%\n",
      "Since Corona:    percent return: -11.28%\n",
      "\n",
      "5y percent return before 21.02.20: 113.63%. Diff to dax: 95.15%\n",
      "1y percent return before 21.02.20: 55.07%. Diff to dax: 38.89%\n"
     ]
    }
   ],
   "source": [
    "# Create 2x2 sub plots\n",
    "gs = gridspec.GridSpec(4, 1)\n",
    "\n",
    "plt.figure(figsize = (10,10))\n",
    "\n",
    "plt.subplot(gs[0, 0])\n",
    "plt.plot(history_5y)\n",
    "plt.title(f\"5y: trading history {stock.info['symbol']}\")\n",
    "plt.text(history_5y.index[0], history_5y[0]+10, f\"starting_value: {history_5y[0]}\")\n",
    "plt.text(history_5y.index[0], history_5y[0]+5, f\"closing_value: {history_5y[-1]}\")\n",
    "plt.ylim(min(history_5y)-5, max(history_5y)+15)\n",
    "\n",
    "plt.subplot(gs[1, 0])\n",
    "plt.plot(history_1y)\n",
    "plt.title(f\"1y: trading history {stock.info['symbol']}\")\n",
    "plt.text(history_1y.index[0], history_1y[0]+10, f\"starting_value: {history_1y[0]}\")\n",
    "plt.text(history_1y.index[0], history_1y[0]+5, f\"closing_value: {history_1y[-1]}\")\n",
    "plt.ylim(min(history_1y)-5, max(history_1y)+15)\n",
    "\n",
    "plt.subplot(gs[2, 0])\n",
    "plt.plot(history_since_corona)\n",
    "plt.title(f\"Since Corona: trading history {stock.info['symbol']}\")\n",
    "plt.text(history_since_corona.index[0], history_since_corona[0]+10, f\"starting_value: {history_since_corona[0]}\")\n",
    "plt.text(history_since_corona.index[0], history_since_corona[0]+5, f\"closing_value: {history_since_corona[-1]}\")\n",
    "plt.ylim(min(history_since_corona)-5, max(history_since_corona)+15)\n",
    "plt.xticks(rotation=45)\n",
    "\n",
    "\n",
    "plt.tight_layout()\n",
    "plt.show()\n",
    "\n",
    "## calc returns\n",
    "print(f\"1y:              percent return: {ret_1y:.2%}\")\n",
    "print(f\"Since Corona:    percent return: {ret_since_corona:.2%}\\n\")\n",
    "\n",
    "## calc returns w/o Corona & compare with DAX\n",
    "print(f\"5y percent return before 21.02.20: {ret_5y_wo_corona:.2%}. Diff to dax: {perc_diff_dax_5y_wo_corona:.2%}\")\n",
    "print(f\"1y percent return before 21.02.20: {ret_1y_wo_corona:.2%}. Diff to dax: {perc_diff_dax_1y_wo_corona:.2%}\")"
   ]
  },
  {
   "cell_type": "markdown",
   "metadata": {
    "collapsed": true,
    "papermill": {
     "duration": 0.018638,
     "end_time": "2020-03-16T12:54:47.571034",
     "exception": false,
     "start_time": "2020-03-16T12:54:47.552396",
     "status": "completed"
    },
    "tags": []
   },
   "source": [
    "# News cycle"
   ]
  },
  {
   "cell_type": "code",
   "execution_count": 6,
   "metadata": {
    "collapsed": false,
    "papermill": {
     "duration": 0.359425,
     "end_time": "2020-03-16T12:54:47.946167",
     "exception": false,
     "start_time": "2020-03-16T12:54:47.586742",
     "status": "completed"
    },
    "tags": []
   },
   "outputs": [
    {
     "name": "stdout",
     "output_type": "stream",
     "text": [
      "total results: 306\n",
      "\n",
      "\n",
      "2020-03-16T08:12:51Z\n",
      "  What you need to know about the coronavirus\n",
      "  Reuters\n",
      "  https://www.reuters.com/article/us-health-coronavirus-snapshot-idUSKBN2130YE\n",
      "\n",
      "2020-03-16T07:17:27Z\n",
      "  Gambling limitations, elderly shopping hours; coronavirus changes business\n",
      "  Reuters\n",
      "  https://in.reuters.com/article/health-coronavirus-companies-response-idINKBN2130PX\n",
      "\n",
      "2020-03-16T06:49:53Z\n",
      "  Gambling limitations, elderly shopping hours; coronavirus changes business\n",
      "  Reuters\n",
      "  https://www.reuters.com/article/us-health-coronavirus-companies-response-idUSKBN2130OY\n",
      "\n",
      "2020-03-16T06:16:42Z\n",
      "  Five Things You Need to Know to Start Your Day\n",
      "  Bloomberg\n",
      "  https://www.bloomberg.com/news/articles/2020-03-16/stock-markets-today-apple-powell-aramco\n",
      "\n",
      "2020-03-15T14:28:09Z\n",
      "  Oil giants set work-at-home rules for offices, health checks for critical staff\n",
      "  Reuters\n",
      "  https://ca.reuters.com/article/businessNews/idCAKBN2120QZ\n",
      "\n",
      "2020-03-15T14:03:22Z\n",
      "  Oil giants set work-at-home rules for offices, health checks for critical staff\n",
      "  Reuters\n",
      "  https://in.reuters.com/article/us-health-coronavirus-energy-workers-idINKBN2120QZ\n",
      "\n",
      "2020-03-15T13:40:52Z\n",
      "  Oil giants set work-at-home rules for offices, health checks for critical staff\n",
      "  Reuters\n",
      "  https://www.reuters.com/article/us-health-coronavirus-energy-workers-idUSKBN2120QZ\n",
      "\n",
      "2020-03-15T13:40:52Z\n",
      "  Oil giants set work-at-home rules for offices, health checks for critical staff\n",
      "  Reuters\n",
      "  https://www.reuters.com/article/health-coronavirus-energy-workers-idUSL1N2B70F0\n",
      "\n",
      "2020-03-15T13:19:52Z\n",
      "  Aramco to cut capital spending over coronavirus; 2019 profits plunge\n",
      "  Reuters\n",
      "  https://ca.reuters.com/article/businessNews/idCAKBN21208C\n",
      "\n",
      "2020-03-15T10:38:05Z\n",
      "  Factbox: Aramco 2019 profit drops, a week after shares fell below IPO\n",
      "  Reuters\n",
      "  https://www.reuters.com/article/us-saudi-aramco-results-factbox-idUSKBN2120FD\n",
      "\n",
      "2020-03-15T10:35:32Z\n",
      "  Factbox: Aramco 2019 profit drops, a week after shares fell below IPO\n",
      "  Reuters\n",
      "  https://in.reuters.com/article/saudi-aramco-results-factbox-idINKBN2120F1\n",
      "\n",
      "2020-03-15T01:45:58Z\n",
      "  Apple, some U.S. retailers close stores to contain virus\n",
      "  Reuters\n",
      "  https://in.reuters.com/article/health-coronavirus-apple-idINKBN2110AL\n",
      "\n",
      "2020-03-14T14:21:01Z\n",
      "  India hikes taxes on mobile phones, parts\n",
      "  Reuters\n",
      "  https://in.reuters.com/article/india-tax-mobiles-idINKBN2110PD\n",
      "\n",
      "2020-03-14T14:13:47Z\n",
      "  India hikes taxes on mobile phones, parts\n",
      "  Reuters\n",
      "  https://www.reuters.com/article/india-tax-mobiles-idUSL4N2B70BI\n",
      "\n",
      "2020-03-14T10:56:58Z\n",
      "  World closes borders, restricts travel to contain coronavirus spread\n",
      "  Reuters\n",
      "  https://uk.reuters.com/article/us-health-coronavirus-world-idUKKBN2110AJ\n",
      "\n",
      "2020-03-14T08:20:45Z\n",
      "  WRAPUP 2-World closes borders, restricts travel to contain coronavirus spread\n",
      "  Reuters\n",
      "  https://www.reuters.com/article/us-health-coronavirus-world-idUSKBN2110AJ\n",
      "\n",
      "2020-03-14T08:05:10Z\n",
      "  Apple to close retail stores worldwide, except Greater China, until March 27\n",
      "  Reuters\n",
      "  https://in.reuters.com/article/us-health-coronavirus-apple-idINKBN2110A3\n",
      "\n",
      "2020-03-14T08:02:09Z\n",
      "  World closes borders, restricts travel to contain coronavirus spread\n",
      "  Reuters\n",
      "  https://www.reuters.com/article/us-health-coronavirus-idUSKBN2110AJ\n",
      "\n",
      "2020-03-14T08:02:09Z\n",
      "  World closes borders, restricts travel to contain coronavirus spread\n",
      "  Reuters\n",
      "  https://ca.reuters.com/article/topNews/idCAKBN2110AJ\n",
      "\n",
      "2020-03-14T07:58:03Z\n",
      "  Apple to close retail stores worldwide, except Greater China, until March 27\n",
      "  Reuters\n",
      "  https://uk.reuters.com/article/us-health-coronavirus-apple-idUKKBN2110A3\n",
      "\n"
     ]
    }
   ],
   "source": [
    "# init api\n",
    "api = config.API_NEWS\n",
    "newsapi = NewsApiClient(api_key=api)\n",
    "\n",
    "# name already set above\n",
    "name = name\n",
    "# define date range - as start date take minus 28 days to always stay within api limit (apparently 1 month)\n",
    "current_date = datetime.datetime.now().date()\n",
    "date_28_days_ago = current_date - datetime.timedelta(days=28)\n",
    "\n",
    "\n",
    "# split name into word elements and loop through name until first hit\n",
    "name_split = name.split(' ')\n",
    "counter = 0\n",
    "for i in name_split:\n",
    "    # join words to current state of loop (e.g. ['Capital', 'Senior', 'Living'] to 'Capital Senior Living')\n",
    "    query_word = ' '.join(name_split[0 : len(name_split) - counter])\n",
    "    \n",
    "    # get articles, first 20 (page 1) and sorted by publication date\n",
    "    headlines = newsapi.get_everything(q=query_word\n",
    "                                           , sources='reuters, google-news, bloomberg, financial-post, handelsblatt, google-news-fr, le-monde, lequipe, les-echos, liberation'\n",
    "                                           , from_param=date_28_days_ago\n",
    "                                           , to=current_date\n",
    "                                          # , language='en'\n",
    "                                           , sort_by='publishedAt'\n",
    "                                           , page=1\n",
    "                                             )\n",
    "\n",
    "    # if any results, print and break loop\n",
    "    total_results = headlines['totalResults']\n",
    "    if total_results > 0:\n",
    "        print(f\"total results: {total_results}\\n\\n\")\n",
    "        for i in range(len(headlines['articles'])):\n",
    "            print(f\"{headlines['articles'][i]['publishedAt']}\")\n",
    "            print(f\"  {headlines['articles'][i]['title']}\")\n",
    "            print(f\"  {headlines['articles'][i]['source']['name']}\")\n",
    "            print(f\"  {headlines['articles'][i]['url']}\\n\")\n",
    "        break\n",
    "    counter += 1\n",
    "    if counter == len(name_split) and total_results == 0:\n",
    "        print(f\"no news since {date_28_days_ago}\")\n"
   ]
  },
  {
   "cell_type": "code",
   "execution_count": null,
   "metadata": {
    "collapsed": true,
    "papermill": {
     "duration": 0.014115,
     "end_time": "2020-03-16T12:54:47.971221",
     "exception": false,
     "start_time": "2020-03-16T12:54:47.957106",
     "status": "completed"
    },
    "tags": []
   },
   "outputs": [],
   "source": []
  }
 ],
 "metadata": {
  "celltoolbar": "Edit Metadata",
  "kernelspec": {
   "display_name": "notadiet Py3.6",
   "language": "python",
   "name": "notadiet"
  },
  "language_info": {
   "codemirror_mode": {
    "name": "ipython",
    "version": 3
   },
   "file_extension": ".py",
   "mimetype": "text/x-python",
   "name": "python",
   "nbconvert_exporter": "python",
   "pygments_lexer": "ipython3",
   "version": "3.6.2"
  },
  "papermill": {
   "duration": 10.491355,
   "end_time": "2020-03-16T12:54:49.262584",
   "environment_variables": {},
   "exception": null,
   "input_path": "corona_invest.ipynb",
   "output_path": "./stocks/aapl.ipynb",
   "parameters": {
    "ticker": "AAPL"
   },
   "start_time": "2020-03-16T12:54:38.771229",
   "version": "0.16.2"
  }
 },
 "nbformat": 4,
 "nbformat_minor": 1
}