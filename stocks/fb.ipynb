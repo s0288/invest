{
 "cells": [
  {
   "cell_type": "code",
   "execution_count": 1,
   "metadata": {
    "collapsed": true,
    "hide_input": true,
    "papermill": {
     "duration": 0.017922,
     "end_time": "2020-03-16T12:53:57.556097",
     "exception": false,
     "start_time": "2020-03-16T12:53:57.538175",
     "status": "completed"
    },
    "tags": [
     "parameters"
    ]
   },
   "outputs": [],
   "source": [
    "ticker = \"KORI.PA\""
   ]
  },
  {
   "cell_type": "code",
   "execution_count": 2,
   "metadata": {
    "papermill": {
     "duration": 0.015816,
     "end_time": "2020-03-16T12:53:57.579213",
     "exception": false,
     "start_time": "2020-03-16T12:53:57.563397",
     "status": "completed"
    },
    "tags": [
     "injected-parameters"
    ]
   },
   "outputs": [],
   "source": [
    "# Parameters\n",
    "ticker = \"FB\"\n"
   ]
  },
  {
   "cell_type": "code",
   "execution_count": 3,
   "metadata": {
    "collapsed": false,
    "papermill": {
     "duration": 9.073452,
     "end_time": "2020-03-16T12:54:06.659292",
     "exception": false,
     "start_time": "2020-03-16T12:53:57.585840",
     "status": "completed"
    },
    "tags": []
   },
   "outputs": [],
   "source": [
    "import yfinance as yf\n",
    "import pandas as pd\n",
    "import matplotlib.pyplot as plt\n",
    "import matplotlib.gridspec as gridspec\n",
    "from pandas.plotting import register_matplotlib_converters\n",
    "register_matplotlib_converters()\n",
    "import os\n",
    "\n",
    "from newsapi import NewsApiClient\n",
    "import config\n",
    "import datetime\n",
    "\n",
    "stock = yf.Ticker(ticker)\n",
    "dax = yf.Ticker(\"^GDAXI\")\n",
    "sp = yf.Ticker(\"^GSPC\")\n",
    "\n",
    "#### stock history values\n",
    "history_5y = stock.history(period='5y')['Close']\n",
    "history_1y = stock.history(period='1y')['Close']\n",
    "history_since_corona = history_1y[history_1y.index >= '2020-02-20']\n",
    "\n",
    "dax_5y = dax.history(period='5y')['Close']\n",
    "dax_1y = dax.history(period='1y')['Close']\n",
    "sp_5y = sp.history(period='5y')['Close']\n",
    "sp_1y = sp.history(period='1y')['Close']\n",
    "\n",
    "\n",
    "def get_stock_info(label):\n",
    "    try:\n",
    "        value = stock.info[label]\n",
    "    except:\n",
    "        value = None\n",
    "    return value\n",
    "\n",
    "#### df values: \"name\", \"symbol\", \"sector\", \"industry\", \"country\", \"business_summary\", \"ret_since_corona\", \"ret_1y\", \"ret_5y\", \"ret_1y_wo_corona\", \"ret_5y_wo_corona\", \"perc_diff_dax_1y_wo_corona\", \"perc_diff_dax_5y_wo_corona\", \"perc_diff_sp_1y_wo_corona\", \"perc_diff_sp_5y_wo_corona\"\n",
    "name = get_stock_info(\"longName\")\n",
    "symbol = get_stock_info(\"symbol\")\n",
    "sector = get_stock_info(\"sector\")\n",
    "industry = get_stock_info(\"industry\")\n",
    "country = get_stock_info(\"country\")\n",
    "business_summary = get_stock_info(\"longBusinessSummary\")\n",
    "\n",
    "ret_since_corona = history_since_corona.pct_change().sum()\n",
    "ret_1y = history_1y.pct_change().sum()\n",
    "ret_5y = history_5y.pct_change().sum()\n",
    "ret_1y_wo_corona = history_1y[history_1y.index <= '2020-02-21'].pct_change().sum()\n",
    "ret_5y_wo_corona = history_5y[history_5y.index <= '2020-02-21'].pct_change().sum()\n",
    "\n",
    "dax_1y_wo_corona = dax_1y[dax_1y.index <= '2020-02-21'].pct_change().sum()\n",
    "dax_5y_wo_corona = dax_5y[dax_5y.index <= '2020-02-21'].pct_change().sum()\n",
    "sp_1y_wo_corona = sp_1y[sp_1y.index <= '2020-02-21'].pct_change().sum()\n",
    "sp_5y_wo_corona = sp_5y[sp_5y.index <= '2020-02-21'].pct_change().sum()\n",
    "\n",
    "perc_diff_dax_1y_wo_corona = ret_1y_wo_corona - dax_1y_wo_corona\n",
    "perc_diff_dax_5y_wo_corona = ret_5y_wo_corona - dax_5y_wo_corona\n",
    "perc_diff_sp_1y_wo_corona = ret_1y_wo_corona - sp_1y_wo_corona\n",
    "perc_diff_sp_5y_wo_corona = ret_5y_wo_corona - sp_5y_wo_corona\n",
    "\n",
    "\n",
    "if os.path.isfile('stock_returns.pkl'):\n",
    "    # load existing pickle\n",
    "    df = pd.read_pickle(\"stock_returns.pkl\")\n",
    "    # check if stock in pickle already, if not, add stock\n",
    "else:\n",
    "    # create new dataframe (only do once)\n",
    "    df = pd.DataFrame(columns=[\"name\", \"symbol\", \"sector\", \"industry\", \"country\", \"business_summary\", \"ret_since_corona\", \"ret_1y\", \"ret_5y\", \"ret_1y_wo_corona\", \"ret_5y_wo_corona\", \"perc_diff_dax_1y_wo_corona\", \"perc_diff_dax_5y_wo_corona\", \"perc_diff_sp_1y_wo_corona\", \"perc_diff_sp_5y_wo_corona\"])\n",
    "\n",
    "if sum(symbol == df.symbol) == 0:\n",
    "    df.loc[len(df)] = [name, symbol, sector, industry, country, business_summary, ret_since_corona, ret_1y, ret_5y, ret_1y_wo_corona, ret_5y_wo_corona, perc_diff_dax_1y_wo_corona, perc_diff_dax_5y_wo_corona, perc_diff_sp_1y_wo_corona, perc_diff_sp_5y_wo_corona]\n",
    "    df.to_pickle(\"stock_returns.pkl\")"
   ]
  },
  {
   "cell_type": "markdown",
   "metadata": {
    "papermill": {
     "duration": 0.008683,
     "end_time": "2020-03-16T12:54:06.674930",
     "exception": false,
     "start_time": "2020-03-16T12:54:06.666247",
     "status": "completed"
    },
    "tags": []
   },
   "source": [
    "# Company info "
   ]
  },
  {
   "cell_type": "code",
   "execution_count": 4,
   "metadata": {
    "collapsed": false,
    "papermill": {
     "duration": 0.024964,
     "end_time": "2020-03-16T12:54:06.707307",
     "exception": false,
     "start_time": "2020-03-16T12:54:06.682343",
     "status": "completed"
    },
    "tags": []
   },
   "outputs": [
    {
     "name": "stdout",
     "output_type": "stream",
     "text": [
      "\n",
      "Company name: Facebook, Inc.\n",
      "Symbol: FB\n",
      "Sector: Communication Services\n",
      "Industry: Internet Content & Information\n",
      "Country: United States\n",
      "\n",
      "Business summary: Facebook, Inc. develops products that enable people to connect and share with friends and family through mobile devices, personal computers, virtual reality headsets, and in-home devices worldwide. The company's products include Facebook that enables people to connect, share, discover, and communicate with each other on mobile devices and personal computers; Instagram, a community for sharing photos, videos, and private messages; Messenger, a messaging application for people to connect with friends, family, groups, and businesses across platforms and devices; and WhatsApp, a messaging application that is used by people and businesses to communicate in a private way. It also provides Oculus, a hardware, software, and developer ecosystem, which allows people to come together and connect with each other through its Oculus virtual reality products. Facebook, Inc. was founded in 2004 and is headquartered in Menlo Park, California.\n",
      "\n"
     ]
    }
   ],
   "source": [
    "print(f\"\"\"\n",
    "Company name: {name}\n",
    "Symbol: {symbol}\n",
    "Sector: {sector}\n",
    "Industry: {industry}\n",
    "Country: {country}\\n\n",
    "Business summary: {business_summary}\n",
    "\"\"\")"
   ]
  },
  {
   "cell_type": "markdown",
   "metadata": {
    "papermill": {
     "duration": 0.006735,
     "end_time": "2020-03-16T12:54:06.721296",
     "exception": false,
     "start_time": "2020-03-16T12:54:06.714561",
     "status": "completed"
    },
    "tags": []
   },
   "source": [
    "# Performance"
   ]
  },
  {
   "cell_type": "code",
   "execution_count": 5,
   "metadata": {
    "collapsed": false,
    "papermill": {
     "duration": 0.753984,
     "end_time": "2020-03-16T12:54:07.482226",
     "exception": false,
     "start_time": "2020-03-16T12:54:06.728242",
     "status": "completed"
    },
    "tags": []
   },
   "outputs": [
    {
     "data": {
      "image/png": "[encoded data removed]",
      "text/plain": [
       "<matplotlib.figure.Figure at 0x10e6ced68>"
      ]
     },
     "metadata": {},
     "output_type": "display_data"
    },
    {
     "name": "stdout",
     "output_type": "stream",
     "text": [
      "1y:              percent return: 10.90%\n",
      "Since Corona:    percent return: -21.20%\n",
      "\n",
      "5y percent return before 21.02.20: 117.50%. Diff to dax: 99.02%\n",
      "1y percent return before 21.02.20: 30.04%. Diff to dax: 13.87%\n"
     ]
    }
   ],
   "source": [
    "# Create 2x2 sub plots\n",
    "gs = gridspec.GridSpec(4, 1)\n",
    "\n",
    "plt.figure(figsize = (10,10))\n",
    "\n",
    "plt.subplot(gs[0, 0])\n",
    "plt.plot(history_5y)\n",
    "plt.title(f\"5y: trading history {stock.info['symbol']}\")\n",
    "plt.text(history_5y.index[0], history_5y[0]+10, f\"starting_value: {history_5y[0]}\")\n",
    "plt.text(history_5y.index[0], history_5y[0]+5, f\"closing_value: {history_5y[-1]}\")\n",
    "plt.ylim(min(history_5y)-5, max(history_5y)+15)\n",
    "\n",
    "plt.subplot(gs[1, 0])\n",
    "plt.plot(history_1y)\n",
    "plt.title(f\"1y: trading history {stock.info['symbol']}\")\n",
    "plt.text(history_1y.index[0], history_1y[0]+10, f\"starting_value: {history_1y[0]}\")\n",
    "plt.text(history_1y.index[0], history_1y[0]+5, f\"closing_value: {history_1y[-1]}\")\n",
    "plt.ylim(min(history_1y)-5, max(history_1y)+15)\n",
    "\n",
    "plt.subplot(gs[2, 0])\n",
    "plt.plot(history_since_corona)\n",
    "plt.title(f\"Since Corona: trading history {stock.info['symbol']}\")\n",
    "plt.text(history_since_corona.index[0], history_since_corona[0]+10, f\"starting_value: {history_since_corona[0]}\")\n",
    "plt.text(history_since_corona.index[0], history_since_corona[0]+5, f\"closing_value: {history_since_corona[-1]}\")\n",
    "plt.ylim(min(history_since_corona)-5, max(history_since_corona)+15)\n",
    "plt.xticks(rotation=45)\n",
    "\n",
    "\n",
    "plt.tight_layout()\n",
    "plt.show()\n",
    "\n",
    "## calc returns\n",
    "print(f\"1y:              percent return: {ret_1y:.2%}\")\n",
    "print(f\"Since Corona:    percent return: {ret_since_corona:.2%}\\n\")\n",
    "\n",
    "## calc returns w/o Corona & compare with DAX\n",
    "print(f\"5y percent return before 21.02.20: {ret_5y_wo_corona:.2%}. Diff to dax: {perc_diff_dax_5y_wo_corona:.2%}\")\n",
    "print(f\"1y percent return before 21.02.20: {ret_1y_wo_corona:.2%}. Diff to dax: {perc_diff_dax_1y_wo_corona:.2%}\")"
   ]
  },
  {
   "cell_type": "markdown",
   "metadata": {
    "collapsed": true,
    "papermill": {
     "duration": 0.017378,
     "end_time": "2020-03-16T12:54:07.510920",
     "exception": false,
     "start_time": "2020-03-16T12:54:07.493542",
     "status": "completed"
    },
    "tags": []
   },
   "source": [
    "# News cycle"
   ]
  },
  {
   "cell_type": "code",
   "execution_count": 6,
   "metadata": {
    "collapsed": false,
    "papermill": {
     "duration": 0.402205,
     "end_time": "2020-03-16T12:54:07.934250",
     "exception": false,
     "start_time": "2020-03-16T12:54:07.532045",
     "status": "completed"
    },
    "tags": []
   },
   "outputs": [
    {
     "name": "stdout",
     "output_type": "stream",
     "text": [
      "total results: 165\n",
      "\n",
      "\n",
      "2020-03-16T11:22:19Z\n",
      "  PRESS DIGEST- Canada- March 16\n",
      "  Reuters\n",
      "  https://www.reuters.com/article/press-digest-canada-idUSL4N2B93YE\n",
      "\n",
      "2020-03-15T23:00:00Z\n",
      "  RPT-NEWSMAKER-Zhang Yiming, founder of TikTok owner ByteDance, gears up for the global stage\n",
      "  Reuters\n",
      "  https://uk.reuters.com/article/china-bytedance-ceo-idUKL4N2B63BW\n",
      "\n",
      "2020-03-15T23:00:00Z\n",
      "  RPT-NEWSMAKER-Zhang Yiming, founder of TikTok owner ByteDance, gears up for the global stage\n",
      "  Reuters\n",
      "  https://www.reuters.com/article/china-bytedance-ceo-idUSL4N2B63BW\n",
      "\n",
      "2020-03-15T14:28:09Z\n",
      "  Oil giants set work-at-home rules for offices, health checks for critical staff\n",
      "  Reuters\n",
      "  https://ca.reuters.com/article/businessNews/idCAKBN2120QZ\n",
      "\n",
      "2020-03-15T14:03:22Z\n",
      "  Oil giants set work-at-home rules for offices, health checks for critical staff\n",
      "  Reuters\n",
      "  https://in.reuters.com/article/us-health-coronavirus-energy-workers-idINKBN2120QZ\n",
      "\n",
      "2020-03-15T13:40:52Z\n",
      "  Oil giants set work-at-home rules for offices, health checks for critical staff\n",
      "  Reuters\n",
      "  https://www.reuters.com/article/us-health-coronavirus-energy-workers-idUSKBN2120QZ\n",
      "\n",
      "2020-03-15T13:40:52Z\n",
      "  Oil giants set work-at-home rules for offices, health checks for critical staff\n",
      "  Reuters\n",
      "  https://www.reuters.com/article/health-coronavirus-energy-workers-idUSL1N2B70F0\n",
      "\n",
      "2020-03-14T16:56:58Z\n",
      "  Under lockdown, Italy's social and family life goes virtual\n",
      "  Reuters\n",
      "  https://af.reuters.com/article/worldNews/idAFKBN2110WG\n",
      "\n",
      "2020-03-13T23:59:15Z\n",
      "  Ahead of mosque attack anniversary, Twitter targets online polarizations\n",
      "  Reuters\n",
      "  https://ca.reuters.com/article/topNews/idCAKBN2103I6\n",
      "\n",
      "2020-03-13T23:55:44Z\n",
      "  Ahead of mosque attack anniversary, Twitter targets online polarisation\n",
      "  Reuters\n",
      "  https://uk.reuters.com/article/uk-newzealand-shooting-twitter-idUKKBN2103IA\n",
      "\n",
      "2020-03-13T23:55:44Z\n",
      "  Ahead of mosque attack anniversary, Twitter targets online polarisation\n",
      "  Reuters\n",
      "  https://www.reuters.com/article/us-newzealand-shooting-twitter-idUSKBN2103I6\n",
      "\n",
      "2020-03-13T21:56:37Z\n",
      "  Some short-seller bets looked surprising in coronavirus crash\n",
      "  Reuters\n",
      "  https://www.reuters.com/article/us-health-coronavirus-investors-shorts-idUSKBN2103DQ\n",
      "\n",
      "2020-03-13T17:10:21Z\n",
      "  As coronavirus disrupts American life, Congress scrambles to agree on aid plan\n",
      "  Reuters\n",
      "  https://www.reuters.com/article/us-health-coronavirus-usa-idUSKBN2102QT\n",
      "\n",
      "2020-03-13T16:59:24Z\n",
      "  As coronavirus disrupts American life, Congress scrambles to agree on aid plan\n",
      "  Reuters\n",
      "  https://uk.reuters.com/article/us-health-coronavirus-usa-idUKKBN2102QT\n",
      "\n",
      "2020-03-13T16:57:42Z\n",
      "  UPDATE 1-Apple shifts annual developers conference to online-only format\n",
      "  Reuters\n",
      "  https://uk.reuters.com/article/uk-health-coronavirus-apple-idUKKBN2102LF\n",
      "\n",
      "2020-03-13T09:39:35Z\n",
      "  Zhang Yiming, founder of TikTok owner ByteDance, gears up for the global stage\n",
      "  Reuters\n",
      "  https://in.reuters.com/article/us-china-bytedance-ceo-idINKBN21014Y\n",
      "\n",
      "2020-03-13T09:28:19Z\n",
      "  NEWSMAKER-Zhang Yiming, founder of TikTok owner ByteDance, gears up for the global stage\n",
      "  Reuters\n",
      "  https://www.reuters.com/article/us-china-bytedance-ceo-idUSKBN21014Y\n",
      "\n",
      "2020-03-12T21:54:23Z\n",
      "  Facebook, Twitter remove fake Russia-linked accounts targeting U.S\n",
      "  Reuters\n",
      "  https://af.reuters.com/article/worldNews/idAFKBN20Z3MW\n",
      "\n",
      "2020-03-12T21:14:56Z\n",
      "  Facebook removes 203 accounts for foreign interference from Russia\n",
      "  Reuters\n",
      "  https://ca.reuters.com/article/technologyNews/idCAKBN20Z3LW-OCATC\n",
      "\n",
      "2020-03-12T21:14:56Z\n",
      "  Facebook removes 203 accounts for foreign interference from Russia\n",
      "  Reuters\n",
      "  https://www.reuters.com/article/us-facebook-content-idUSKBN20Z3LW\n",
      "\n"
     ]
    }
   ],
   "source": [
    "# init api\n",
    "api = config.API_NEWS\n",
    "newsapi = NewsApiClient(api_key=api)\n",
    "\n",
    "# name already set above\n",
    "name = name\n",
    "# define date range - as start date take minus 28 days to always stay within api limit (apparently 1 month)\n",
    "current_date = datetime.datetime.now().date()\n",
    "date_28_days_ago = current_date - datetime.timedelta(days=28)\n",
    "\n",
    "\n",
    "# split name into word elements and loop through name until first hit\n",
    "name_split = name.split(' ')\n",
    "counter = 0\n",
    "for i in name_split:\n",
    "    # join words to current state of loop (e.g. ['Capital', 'Senior', 'Living'] to 'Capital Senior Living')\n",
    "    query_word = ' '.join(name_split[0 : len(name_split) - counter])\n",
    "    \n",
    "    # get articles, first 20 (page 1) and sorted by publication date\n",
    "    headlines = newsapi.get_everything(q=query_word\n",
    "                                           , sources='reuters, google-news, bloomberg, financial-post, handelsblatt, google-news-fr, le-monde, lequipe, les-echos, liberation'\n",
    "                                           , from_param=date_28_days_ago\n",
    "                                           , to=current_date\n",
    "                                          # , language='en'\n",
    "                                           , sort_by='publishedAt'\n",
    "                                           , page=1\n",
    "                                             )\n",
    "\n",
    "    # if any results, print and break loop\n",
    "    total_results = headlines['totalResults']\n",
    "    if total_results > 0:\n",
    "        print(f\"total results: {total_results}\\n\\n\")\n",
    "        for i in range(len(headlines['articles'])):\n",
    "            print(f\"{headlines['articles'][i]['publishedAt']}\")\n",
    "            print(f\"  {headlines['articles'][i]['title']}\")\n",
    "            print(f\"  {headlines['articles'][i]['source']['name']}\")\n",
    "            print(f\"  {headlines['articles'][i]['url']}\\n\")\n",
    "        break\n",
    "    counter += 1\n",
    "    if counter == len(name_split) and total_results == 0:\n",
    "        print(f\"no news since {date_28_days_ago}\")\n"
   ]
  },
  {
   "cell_type": "code",
   "execution_count": null,
   "metadata": {
    "collapsed": true,
    "papermill": {
     "duration": 0.013821,
     "end_time": "2020-03-16T12:54:07.959188",
     "exception": false,
     "start_time": "2020-03-16T12:54:07.945367",
     "status": "completed"
    },
    "tags": []
   },
   "outputs": [],
   "source": []
  }
 ],
 "metadata": {
  "celltoolbar": "Edit Metadata",
  "kernelspec": {
   "display_name": "notadiet Py3.6",
   "language": "python",
   "name": "notadiet"
  },
  "language_info": {
   "codemirror_mode": {
    "name": "ipython",
    "version": 3
   },
   "file_extension": ".py",
   "mimetype": "text/x-python",
   "name": "python",
   "nbconvert_exporter": "python",
   "pygments_lexer": "ipython3",
   "version": "3.6.2"
  },
  "papermill": {
   "duration": 12.485736,
   "end_time": "2020-03-16T12:54:09.184228",
   "environment_variables": {},
   "exception": null,
   "input_path": "corona_invest.ipynb",
   "output_path": "./stocks/fb.ipynb",
   "parameters": {
    "ticker": "FB"
   },
   "start_time": "2020-03-16T12:53:56.698492",
   "version": "0.16.2"
  }
 },
 "nbformat": 4,
 "nbformat_minor": 1
}