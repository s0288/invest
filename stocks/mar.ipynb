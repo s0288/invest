{
 "cells": [
  {
   "cell_type": "code",
   "execution_count": 1,
   "metadata": {
    "collapsed": true,
    "hide_input": true,
    "papermill": {
     "duration": 0.018439,
     "end_time": "2020-03-16T12:52:26.571329",
     "exception": false,
     "start_time": "2020-03-16T12:52:26.552890",
     "status": "completed"
    },
    "tags": [
     "parameters"
    ]
   },
   "outputs": [],
   "source": [
    "ticker = \"KORI.PA\""
   ]
  },
  {
   "cell_type": "code",
   "execution_count": 2,
   "metadata": {
    "papermill": {
     "duration": 0.016812,
     "end_time": "2020-03-16T12:52:26.595260",
     "exception": false,
     "start_time": "2020-03-16T12:52:26.578448",
     "status": "completed"
    },
    "tags": [
     "injected-parameters"
    ]
   },
   "outputs": [],
   "source": [
    "# Parameters\n",
    "ticker = \"MAR\"\n"
   ]
  },
  {
   "cell_type": "code",
   "execution_count": 3,
   "metadata": {
    "collapsed": false,
    "papermill": {
     "duration": 4.905328,
     "end_time": "2020-03-16T12:52:31.508751",
     "exception": false,
     "start_time": "2020-03-16T12:52:26.603423",
     "status": "completed"
    },
    "tags": []
   },
   "outputs": [],
   "source": [
    "import yfinance as yf\n",
    "import pandas as pd\n",
    "import matplotlib.pyplot as plt\n",
    "import matplotlib.gridspec as gridspec\n",
    "from pandas.plotting import register_matplotlib_converters\n",
    "register_matplotlib_converters()\n",
    "import os\n",
    "\n",
    "from newsapi import NewsApiClient\n",
    "import config\n",
    "import datetime\n",
    "\n",
    "stock = yf.Ticker(ticker)\n",
    "dax = yf.Ticker(\"^GDAXI\")\n",
    "sp = yf.Ticker(\"^GSPC\")\n",
    "\n",
    "#### stock history values\n",
    "history_5y = stock.history(period='5y')['Close']\n",
    "history_1y = stock.history(period='1y')['Close']\n",
    "history_since_corona = history_1y[history_1y.index >= '2020-02-20']\n",
    "\n",
    "dax_5y = dax.history(period='5y')['Close']\n",
    "dax_1y = dax.history(period='1y')['Close']\n",
    "sp_5y = sp.history(period='5y')['Close']\n",
    "sp_1y = sp.history(period='1y')['Close']\n",
    "\n",
    "\n",
    "def get_stock_info(label):\n",
    "    try:\n",
    "        value = stock.info[label]\n",
    "    except:\n",
    "        value = None\n",
    "    return value\n",
    "\n",
    "#### df values: \"name\", \"symbol\", \"sector\", \"industry\", \"country\", \"business_summary\", \"ret_since_corona\", \"ret_1y\", \"ret_5y\", \"ret_1y_wo_corona\", \"ret_5y_wo_corona\", \"perc_diff_dax_1y_wo_corona\", \"perc_diff_dax_5y_wo_corona\", \"perc_diff_sp_1y_wo_corona\", \"perc_diff_sp_5y_wo_corona\"\n",
    "name = get_stock_info(\"longName\")\n",
    "symbol = get_stock_info(\"symbol\")\n",
    "sector = get_stock_info(\"sector\")\n",
    "industry = get_stock_info(\"industry\")\n",
    "country = get_stock_info(\"country\")\n",
    "business_summary = get_stock_info(\"longBusinessSummary\")\n",
    "\n",
    "ret_since_corona = history_since_corona.pct_change().sum()\n",
    "ret_1y = history_1y.pct_change().sum()\n",
    "ret_5y = history_5y.pct_change().sum()\n",
    "ret_1y_wo_corona = history_1y[history_1y.index <= '2020-02-21'].pct_change().sum()\n",
    "ret_5y_wo_corona = history_5y[history_5y.index <= '2020-02-21'].pct_change().sum()\n",
    "\n",
    "dax_1y_wo_corona = dax_1y[dax_1y.index <= '2020-02-21'].pct_change().sum()\n",
    "dax_5y_wo_corona = dax_5y[dax_5y.index <= '2020-02-21'].pct_change().sum()\n",
    "sp_1y_wo_corona = sp_1y[sp_1y.index <= '2020-02-21'].pct_change().sum()\n",
    "sp_5y_wo_corona = sp_5y[sp_5y.index <= '2020-02-21'].pct_change().sum()\n",
    "\n",
    "perc_diff_dax_1y_wo_corona = ret_1y_wo_corona - dax_1y_wo_corona\n",
    "perc_diff_dax_5y_wo_corona = ret_5y_wo_corona - dax_5y_wo_corona\n",
    "perc_diff_sp_1y_wo_corona = ret_1y_wo_corona - sp_1y_wo_corona\n",
    "perc_diff_sp_5y_wo_corona = ret_5y_wo_corona - sp_5y_wo_corona\n",
    "\n",
    "\n",
    "if os.path.isfile('stock_returns.pkl'):\n",
    "    # load existing pickle\n",
    "    df = pd.read_pickle(\"stock_returns.pkl\")\n",
    "    # check if stock in pickle already, if not, add stock\n",
    "else:\n",
    "    # create new dataframe (only do once)\n",
    "    df = pd.DataFrame(columns=[\"name\", \"symbol\", \"sector\", \"industry\", \"country\", \"business_summary\", \"ret_since_corona\", \"ret_1y\", \"ret_5y\", \"ret_1y_wo_corona\", \"ret_5y_wo_corona\", \"perc_diff_dax_1y_wo_corona\", \"perc_diff_dax_5y_wo_corona\", \"perc_diff_sp_1y_wo_corona\", \"perc_diff_sp_5y_wo_corona\"])\n",
    "\n",
    "if sum(symbol == df.symbol) == 0:\n",
    "    df.loc[len(df)] = [name, symbol, sector, industry, country, business_summary, ret_since_corona, ret_1y, ret_5y, ret_1y_wo_corona, ret_5y_wo_corona, perc_diff_dax_1y_wo_corona, perc_diff_dax_5y_wo_corona, perc_diff_sp_1y_wo_corona, perc_diff_sp_5y_wo_corona]\n",
    "    df.to_pickle(\"stock_returns.pkl\")"
   ]
  },
  {
   "cell_type": "markdown",
   "metadata": {
    "papermill": {
     "duration": 0.012886,
     "end_time": "2020-03-16T12:52:31.529629",
     "exception": false,
     "start_time": "2020-03-16T12:52:31.516743",
     "status": "completed"
    },
    "tags": []
   },
   "source": [
    "# Company info "
   ]
  },
  {
   "cell_type": "code",
   "execution_count": 4,
   "metadata": {
    "collapsed": false,
    "papermill": {
     "duration": 0.025043,
     "end_time": "2020-03-16T12:52:31.566102",
     "exception": false,
     "start_time": "2020-03-16T12:52:31.541059",
     "status": "completed"
    },
    "tags": []
   },
   "outputs": [
    {
     "name": "stdout",
     "output_type": "stream",
     "text": [
      "\n",
      "Company name: Marriott International, Inc.\n",
      "Symbol: MAR\n",
      "Sector: Consumer Cyclical\n",
      "Industry: Lodging\n",
      "Country: United States\n",
      "\n",
      "Business summary: Marriott International, Inc. operates, franchises, and licenses hotel, residential, and timeshare properties worldwide. The company operates through North American Full-Service, North American Limited-Service, and Asia Pacific segments. It operates its properties under the JW Marriott, The Ritz-Carlton, Ritz-Carlton Reserve, W Hotels, The Luxury Collection, St. Regis, EDITION, Bulgari, Marriott Hotels, Sheraton, Delta Hotels, Marriott Executive Apartments, Marriott Vacation Club, Westin, Renaissance, Le Méridien, Autograph Collection, Gaylord Hotels, Tribute Portfolio, Design Hotels, Courtyard, Residence Inn, Fairfield by Marriott, SpringHill Suites, Four Points, TownePlace Suites, Aloft, AC Hotels by Marriott, Protea Hotels, Element, and Moxy brand names. As of February 3, 2020, it operated approximately 7,300 properties under 30 hotel brands in 134 countries and territories. Marriott International, Inc. was founded in 1927 and is headquartered in Bethesda, Maryland.\n",
      "\n"
     ]
    }
   ],
   "source": [
    "print(f\"\"\"\n",
    "Company name: {name}\n",
    "Symbol: {symbol}\n",
    "Sector: {sector}\n",
    "Industry: {industry}\n",
    "Country: {country}\\n\n",
    "Business summary: {business_summary}\n",
    "\"\"\")"
   ]
  },
  {
   "cell_type": "markdown",
   "metadata": {
    "papermill": {
     "duration": 0.006748,
     "end_time": "2020-03-16T12:52:31.580139",
     "exception": false,
     "start_time": "2020-03-16T12:52:31.573391",
     "status": "completed"
    },
    "tags": []
   },
   "source": [
    "# Performance"
   ]
  },
  {
   "cell_type": "code",
   "execution_count": 5,
   "metadata": {
    "collapsed": false,
    "papermill": {
     "duration": 0.705434,
     "end_time": "2020-03-16T12:52:32.292771",
     "exception": false,
     "start_time": "2020-03-16T12:52:31.587337",
     "status": "completed"
    },
    "tags": []
   },
   "outputs": [
    {
     "data": {
      "image/png": "[encoded data removed]",
      "text/plain": [
       "<matplotlib.figure.Figure at 0x10e835400>"
      ]
     },
     "metadata": {},
     "output_type": "display_data"
    },
    {
     "name": "stdout",
     "output_type": "stream",
     "text": [
      "1y:              percent return: -20.75%\n",
      "Since Corona:    percent return: -40.28%\n",
      "\n",
      "5y percent return before 21.02.20: 75.42%. Diff to dax: 56.94%\n",
      "1y percent return before 21.02.20: 17.08%. Diff to dax: 0.91%\n"
     ]
    }
   ],
   "source": [
    "# Create 2x2 sub plots\n",
    "gs = gridspec.GridSpec(4, 1)\n",
    "\n",
    "plt.figure(figsize = (10,10))\n",
    "\n",
    "plt.subplot(gs[0, 0])\n",
    "plt.plot(history_5y)\n",
    "plt.title(f\"5y: trading history {stock.info['symbol']}\")\n",
    "plt.text(history_5y.index[0], history_5y[0]+10, f\"starting_value: {history_5y[0]}\")\n",
    "plt.text(history_5y.index[0], history_5y[0]+5, f\"closing_value: {history_5y[-1]}\")\n",
    "plt.ylim(min(history_5y)-5, max(history_5y)+15)\n",
    "\n",
    "plt.subplot(gs[1, 0])\n",
    "plt.plot(history_1y)\n",
    "plt.title(f\"1y: trading history {stock.info['symbol']}\")\n",
    "plt.text(history_1y.index[0], history_1y[0]+10, f\"starting_value: {history_1y[0]}\")\n",
    "plt.text(history_1y.index[0], history_1y[0]+5, f\"closing_value: {history_1y[-1]}\")\n",
    "plt.ylim(min(history_1y)-5, max(history_1y)+15)\n",
    "\n",
    "plt.subplot(gs[2, 0])\n",
    "plt.plot(history_since_corona)\n",
    "plt.title(f\"Since Corona: trading history {stock.info['symbol']}\")\n",
    "plt.text(history_since_corona.index[0], history_since_corona[0]+10, f\"starting_value: {history_since_corona[0]}\")\n",
    "plt.text(history_since_corona.index[0], history_since_corona[0]+5, f\"closing_value: {history_since_corona[-1]}\")\n",
    "plt.ylim(min(history_since_corona)-5, max(history_since_corona)+15)\n",
    "plt.xticks(rotation=45)\n",
    "\n",
    "\n",
    "plt.tight_layout()\n",
    "plt.show()\n",
    "\n",
    "## calc returns\n",
    "print(f\"1y:              percent return: {ret_1y:.2%}\")\n",
    "print(f\"Since Corona:    percent return: {ret_since_corona:.2%}\\n\")\n",
    "\n",
    "## calc returns w/o Corona & compare with DAX\n",
    "print(f\"5y percent return before 21.02.20: {ret_5y_wo_corona:.2%}. Diff to dax: {perc_diff_dax_5y_wo_corona:.2%}\")\n",
    "print(f\"1y percent return before 21.02.20: {ret_1y_wo_corona:.2%}. Diff to dax: {perc_diff_dax_1y_wo_corona:.2%}\")"
   ]
  },
  {
   "cell_type": "markdown",
   "metadata": {
    "collapsed": true,
    "papermill": {
     "duration": 0.019598,
     "end_time": "2020-03-16T12:52:32.325015",
     "exception": false,
     "start_time": "2020-03-16T12:52:32.305417",
     "status": "completed"
    },
    "tags": []
   },
   "source": [
    "# News cycle"
   ]
  },
  {
   "cell_type": "code",
   "execution_count": 6,
   "metadata": {
    "collapsed": false,
    "papermill": {
     "duration": 0.552004,
     "end_time": "2020-03-16T12:52:32.898639",
     "exception": false,
     "start_time": "2020-03-16T12:52:32.346635",
     "status": "completed"
    },
    "tags": []
   },
   "outputs": [
    {
     "name": "stdout",
     "output_type": "stream",
     "text": [
      "total results: 17\n",
      "\n",
      "\n",
      "2020-03-13T18:02:31Z\n",
      "  Stimulus hopes bolster Wall Street after worst session since 1987\n",
      "  Reuters\n",
      "  https://in.reuters.com/article/usa-stocks-idINKBN2102H3\n",
      "\n",
      "2020-03-12T14:56:00Z\n",
      "  Cancel Your Trip Due to Coronavirus? Airbnb Refuses Scores of Refunds\n",
      "  Bloomberg\n",
      "  https://mercury.bloomberg.com/news/Q71POXT0G1KW\n",
      "\n",
      "2020-03-12T14:17:53Z\n",
      "  Wall Street enters bear market as Europe travel ban stuns investors\n",
      "  Reuters\n",
      "  https://in.reuters.com/article/us-usa-stocks-idINKBN20Z0CM\n",
      "\n",
      "2020-03-12T13:12:19Z\n",
      "  US STOCKS-Europe travel shock set to pummel Wall St into bear market\n",
      "  Reuters\n",
      "  https://www.reuters.com/article/usa-stocks-idUSL4N2B53W9\n",
      "\n",
      "2020-03-12T11:40:46Z\n",
      "  Coronavirus Latest: Massachusetts May Be Next Italy, Experts Say\n",
      "  Bloomberg\n",
      "  https://www.bloomberg.com/news/articles/2020-03-12/biogen-outbreak-makes-boston-a-case-study-in-coronavirus-spread\n",
      "\n",
      "2020-03-09T15:33:00Z\n",
      "  Hotel Owners Face Reality of the Spreading Coronavirus Outbreak\n",
      "  Bloomberg\n",
      "  https://mercury.bloomberg.com/news/Q6XH7PDWX2PX\n",
      "\n",
      "2020-03-06T15:26:44Z\n",
      "  Wall Street weekahead: Investors look for buys as virus fears crush travel stocks\n",
      "  Reuters\n",
      "  https://in.reuters.com/article/usa-stocks-weekahead-idINKBN20T23N\n",
      "\n",
      "2020-03-06T15:08:55Z\n",
      "  Wall St Week Ahead-Investors look for buys as virus fears crush travel stocks\n",
      "  Reuters\n",
      "  https://www.reuters.com/article/us-usa-stocks-weekahead-idUSKBN20T23L\n",
      "\n",
      "2020-03-02T18:05:44Z\n",
      "  HotelPlanner says bookings in Asia could fall up to 80% due to coronavirus\n",
      "  Reuters\n",
      "  https://www.reuters.com/article/us-health-coronavirus-hotelplanner-idUSKBN20P2QZ\n",
      "\n",
      "2020-02-26T21:39:55Z\n",
      "  Marriott quarterly profit falls 12%\n",
      "  Reuters\n",
      "  https://www.reuters.com/article/us-marriott-intnl-results-idUSKCN20K35Y\n",
      "\n",
      "2020-02-26T18:37:59Z\n",
      "  Apple's Tim Cook Calls Coronavirus a 'Challenge' at Shareholder Talk\n",
      "  Bloomberg\n",
      "  https://www.bloomberg.com/news/articles/2020-02-26/apple-s-cook-calls-coronavirus-a-challenge-at-shareholder-talk\n",
      "\n",
      "2020-02-25T23:47:20Z\n",
      "  UPDATE 3-U.S. airlines, hotels extend rebooking options as coronavirus spreads\n",
      "  Reuters\n",
      "  https://uk.reuters.com/article/us-china-health-hotels-idUKKBN20J223\n",
      "\n",
      "2020-02-25T22:40:02Z\n",
      "  UPDATE 2-U.S. airlines, hotels extend rebooking options as coronavirus spreads\n",
      "  Reuters\n",
      "  https://www.reuters.com/article/china-health-hotels-idUSL1N2AP1I6\n",
      "\n",
      "2020-02-23T14:00:00Z\n",
      "  RPT-Wall St Week Ahead-Fund managers look for value in high-priced consumer sector\n",
      "  Reuters\n",
      "  https://uk.reuters.com/article/usa-stocks-weekahead-idUKL1N2AK1YP\n",
      "\n",
      "2020-02-21T14:54:42Z\n",
      "  Fund managers look for value in high-priced consumer sector\n",
      "  Reuters\n",
      "  https://in.reuters.com/article/usa-stocks-weekahead-idINKBN20F22N\n",
      "\n",
      "2020-02-21T12:00:00Z\n",
      "  Wall St Week Ahead-Fund managers look for value in high-priced consumer sector\n",
      "  Reuters\n",
      "  https://www.reuters.com/article/us-usa-stocks-weekahead-idUSKBN20F1PK\n",
      "\n",
      "2020-02-20T15:18:00Z\n",
      "  Hilton Plans a Las Vegas Hotel in Brand’s Return to the Strip\n",
      "  Bloomberg\n",
      "  https://mercury.bloomberg.com/news/Q5Z06ZDWX2PU\n",
      "\n"
     ]
    }
   ],
   "source": [
    "# init api\n",
    "api = config.API_NEWS\n",
    "newsapi = NewsApiClient(api_key=api)\n",
    "\n",
    "# name already set above\n",
    "name = name\n",
    "# define date range - as start date take minus 28 days to always stay within api limit (apparently 1 month)\n",
    "current_date = datetime.datetime.now().date()\n",
    "date_28_days_ago = current_date - datetime.timedelta(days=28)\n",
    "\n",
    "\n",
    "# split name into word elements and loop through name until first hit\n",
    "name_split = name.split(' ')\n",
    "counter = 0\n",
    "for i in name_split:\n",
    "    # join words to current state of loop (e.g. ['Capital', 'Senior', 'Living'] to 'Capital Senior Living')\n",
    "    query_word = ' '.join(name_split[0 : len(name_split) - counter])\n",
    "    \n",
    "    # get articles, first 20 (page 1) and sorted by publication date\n",
    "    headlines = newsapi.get_everything(q=query_word\n",
    "                                           , sources='reuters, google-news, bloomberg, financial-post, handelsblatt, google-news-fr, le-monde, lequipe, les-echos, liberation'\n",
    "                                           , from_param=date_28_days_ago\n",
    "                                           , to=current_date\n",
    "                                          # , language='en'\n",
    "                                           , sort_by='publishedAt'\n",
    "                                           , page=1\n",
    "                                             )\n",
    "\n",
    "    # if any results, print and break loop\n",
    "    total_results = headlines['totalResults']\n",
    "    if total_results > 0:\n",
    "        print(f\"total results: {total_results}\\n\\n\")\n",
    "        for i in range(len(headlines['articles'])):\n",
    "            print(f\"{headlines['articles'][i]['publishedAt']}\")\n",
    "            print(f\"  {headlines['articles'][i]['title']}\")\n",
    "            print(f\"  {headlines['articles'][i]['source']['name']}\")\n",
    "            print(f\"  {headlines['articles'][i]['url']}\\n\")\n",
    "        break\n",
    "    counter += 1\n",
    "    if counter == len(name_split) and total_results == 0:\n",
    "        print(f\"no news since {date_28_days_ago}\")\n"
   ]
  },
  {
   "cell_type": "code",
   "execution_count": null,
   "metadata": {
    "collapsed": true,
    "papermill": {
     "duration": 0.014238,
     "end_time": "2020-03-16T12:52:32.923964",
     "exception": false,
     "start_time": "2020-03-16T12:52:32.909726",
     "status": "completed"
    },
    "tags": []
   },
   "outputs": [],
   "source": []
  }
 ],
 "metadata": {
  "celltoolbar": "Edit Metadata",
  "kernelspec": {
   "display_name": "notadiet Py3.6",
   "language": "python",
   "name": "notadiet"
  },
  "language_info": {
   "codemirror_mode": {
    "name": "ipython",
    "version": 3
   },
   "file_extension": ".py",
   "mimetype": "text/x-python",
   "name": "python",
   "nbconvert_exporter": "python",
   "pygments_lexer": "ipython3",
   "version": "3.6.2"
  },
  "papermill": {
   "duration": 8.479984,
   "end_time": "2020-03-16T12:52:34.198779",
   "environment_variables": {},
   "exception": null,
   "input_path": "corona_invest.ipynb",
   "output_path": "./stocks/mar.ipynb",
   "parameters": {
    "ticker": "MAR"
   },
   "start_time": "2020-03-16T12:52:25.718795",
   "version": "0.16.2"
  }
 },
 "nbformat": 4,
 "nbformat_minor": 1
}